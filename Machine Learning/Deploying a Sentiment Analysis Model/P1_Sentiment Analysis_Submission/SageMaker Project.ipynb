{
 "cells": [
  {
   "cell_type": "markdown",
   "metadata": {},
   "source": [
    "# Creating a Sentiment Analysis Web App\n",
    "## Using PyTorch and SageMaker\n",
    "\n",
    "_Deep Learning Nanodegree Program | Deployment_\n",
    "\n",
    "---\n",
    "\n",
    "Now that we have a basic understanding of how SageMaker works we will try to use it to construct a complete project from end to end. Our goal will be to have a simple web page which a user can use to enter a movie review. The web page will then send the review off to our deployed model which will predict the sentiment of the entered review.\n",
    "\n",
    "## Instructions\n",
    "\n",
    "Some template code has already been provided for you, and you will need to implement additional functionality to successfully complete this notebook. You will not need to modify the included code beyond what is requested. Sections that begin with '**TODO**' in the header indicate that you need to complete or implement some portion within them. Instructions will be provided for each section and the specifics of the implementation are marked in the code block with a `# TODO: ...` comment. Please be sure to read the instructions carefully!\n",
    "\n",
    "In addition to implementing code, there will be questions for you to answer which relate to the task and your implementation. Each section where you will answer a question is preceded by a '**Question:**' header. Carefully read each question and provide your answer below the '**Answer:**' header by editing the Markdown cell.\n",
    "\n",
    "> **Note**: Code and Markdown cells can be executed using the **Shift+Enter** keyboard shortcut. In addition, a cell can be edited by typically clicking it (double-click for Markdown cells) or by pressing **Enter** while it is highlighted.\n",
    "\n",
    "## General Outline\n",
    "\n",
    "Recall the general outline for SageMaker projects using a notebook instance.\n",
    "\n",
    "1. Download or otherwise retrieve the data.\n",
    "2. Process / Prepare the data.\n",
    "3. Upload the processed data to S3.\n",
    "4. Train a chosen model.\n",
    "5. Test the trained model (typically using a batch transform job).\n",
    "6. Deploy the trained model.\n",
    "7. Use the deployed model.\n",
    "\n",
    "For this project, you will be following the steps in the general outline with some modifications. \n",
    "\n",
    "First, you will not be testing the model in its own step. You will still be testing the model, however, you will do it by deploying your model and then using the deployed model by sending the test data to it. One of the reasons for doing this is so that you can make sure that your deployed model is working correctly before moving forward.\n",
    "\n",
    "In addition, you will deploy and use your trained model a second time. In the second iteration you will customize the way that your trained model is deployed by including some of your own code. In addition, your newly deployed model will be used in the sentiment analysis web app."
   ]
  },
  {
   "cell_type": "markdown",
   "metadata": {},
   "source": [
    "## Step 1: Downloading the data\n",
    "\n",
    "As in the XGBoost in SageMaker notebook, we will be using the [IMDb dataset](http://ai.stanford.edu/~amaas/data/sentiment/)\n",
    "\n",
    "> Maas, Andrew L., et al. [Learning Word Vectors for Sentiment Analysis](http://ai.stanford.edu/~amaas/data/sentiment/). In _Proceedings of the 49th Annual Meeting of the Association for Computational Linguistics: Human Language Technologies_. Association for Computational Linguistics, 2011."
   ]
  },
  {
   "cell_type": "code",
   "execution_count": 1,
   "metadata": {},
   "outputs": [
    {
     "name": "stdout",
     "output_type": "stream",
     "text": [
      "mkdir: cannot create directory ‘../data’: File exists\n",
      "--2020-01-10 17:25:10--  http://ai.stanford.edu/~amaas/data/sentiment/aclImdb_v1.tar.gz\n",
      "Resolving ai.stanford.edu (ai.stanford.edu)... 171.64.68.10\n",
      "Connecting to ai.stanford.edu (ai.stanford.edu)|171.64.68.10|:80... connected.\n",
      "HTTP request sent, awaiting response... 200 OK\n",
      "Length: 84125825 (80M) [application/x-gzip]\n",
      "Saving to: ‘../data/aclImdb_v1.tar.gz’\n",
      "\n",
      "../data/aclImdb_v1. 100%[===================>]  80.23M  21.9MB/s    in 4.0s    \n",
      "\n",
      "2020-01-10 17:25:14 (20.0 MB/s) - ‘../data/aclImdb_v1.tar.gz’ saved [84125825/84125825]\n",
      "\n"
     ]
    }
   ],
   "source": [
    "%mkdir ../data\n",
    "!wget -O ../data/aclImdb_v1.tar.gz http://ai.stanford.edu/~amaas/data/sentiment/aclImdb_v1.tar.gz\n",
    "!tar -zxf ../data/aclImdb_v1.tar.gz -C ../data"
   ]
  },
  {
   "cell_type": "markdown",
   "metadata": {},
   "source": [
    "## Step 2: Preparing and Processing the data\n",
    "\n",
    "Also, as in the XGBoost notebook, we will be doing some initial data processing. The first few steps are the same as in the XGBoost example. To begin with, we will read in each of the reviews and combine them into a single input structure. Then, we will split the dataset into a training set and a testing set."
   ]
  },
  {
   "cell_type": "code",
   "execution_count": 2,
   "metadata": {},
   "outputs": [],
   "source": [
    "import os\n",
    "import glob\n",
    "\n",
    "def read_imdb_data(data_dir='../data/aclImdb'):\n",
    "    data = {}\n",
    "    labels = {}\n",
    "    \n",
    "    for data_type in ['train', 'test']:\n",
    "        data[data_type] = {}\n",
    "        labels[data_type] = {}\n",
    "        \n",
    "        for sentiment in ['pos', 'neg']:\n",
    "            data[data_type][sentiment] = []\n",
    "            labels[data_type][sentiment] = []\n",
    "            \n",
    "            path = os.path.join(data_dir, data_type, sentiment, '*.txt')\n",
    "            files = glob.glob(path)\n",
    "            \n",
    "            for f in files:\n",
    "                with open(f) as review:\n",
    "                    data[data_type][sentiment].append(review.read())\n",
    "                    # Here we represent a positive review by '1' and a negative review by '0'\n",
    "                    labels[data_type][sentiment].append(1 if sentiment == 'pos' else 0)\n",
    "                    \n",
    "            assert len(data[data_type][sentiment]) == len(labels[data_type][sentiment]), \\\n",
    "                    \"{}/{} data size does not match labels size\".format(data_type, sentiment)\n",
    "                \n",
    "    return data, labels"
   ]
  },
  {
   "cell_type": "code",
   "execution_count": 3,
   "metadata": {},
   "outputs": [
    {
     "name": "stdout",
     "output_type": "stream",
     "text": [
      "IMDB reviews: train = 12500 pos / 12500 neg, test = 12500 pos / 12500 neg\n"
     ]
    }
   ],
   "source": [
    "data, labels = read_imdb_data()\n",
    "print(\"IMDB reviews: train = {} pos / {} neg, test = {} pos / {} neg\".format(\n",
    "            len(data['train']['pos']), len(data['train']['neg']),\n",
    "            len(data['test']['pos']), len(data['test']['neg'])))"
   ]
  },
  {
   "cell_type": "markdown",
   "metadata": {},
   "source": [
    "Now that we've read the raw training and testing data from the downloaded dataset, we will combine the positive and negative reviews and shuffle the resulting records."
   ]
  },
  {
   "cell_type": "code",
   "execution_count": 4,
   "metadata": {},
   "outputs": [],
   "source": [
    "from sklearn.utils import shuffle\n",
    "\n",
    "def prepare_imdb_data(data, labels):\n",
    "    \"\"\"Prepare training and test sets from IMDb movie reviews.\"\"\"\n",
    "    \n",
    "    #Combine positive and negative reviews and labels\n",
    "    data_train = data['train']['pos'] + data['train']['neg']\n",
    "    data_test = data['test']['pos'] + data['test']['neg']\n",
    "    labels_train = labels['train']['pos'] + labels['train']['neg']\n",
    "    labels_test = labels['test']['pos'] + labels['test']['neg']\n",
    "    \n",
    "    #Shuffle reviews and corresponding labels within training and test sets\n",
    "    data_train, labels_train = shuffle(data_train, labels_train)\n",
    "    data_test, labels_test = shuffle(data_test, labels_test)\n",
    "    \n",
    "    # Return a unified training data, test data, training labels, test labets\n",
    "    return data_train, data_test, labels_train, labels_test"
   ]
  },
  {
   "cell_type": "code",
   "execution_count": 5,
   "metadata": {},
   "outputs": [
    {
     "name": "stdout",
     "output_type": "stream",
     "text": [
      "IMDb reviews (combined): train = 25000, test = 25000\n"
     ]
    }
   ],
   "source": [
    "train_X, test_X, train_y, test_y = prepare_imdb_data(data, labels)\n",
    "print(\"IMDb reviews (combined): train = {}, test = {}\".format(len(train_X), len(test_X)))"
   ]
  },
  {
   "cell_type": "markdown",
   "metadata": {},
   "source": [
    "Now that we have our training and testing sets unified and prepared, we should do a quick check and see an example of the data our model will be trained on. This is generally a good idea as it allows you to see how each of the further processing steps affects the reviews and it also ensures that the data has been loaded correctly."
   ]
  },
  {
   "cell_type": "code",
   "execution_count": 6,
   "metadata": {},
   "outputs": [
    {
     "name": "stdout",
     "output_type": "stream",
     "text": [
      "Forbidden Planet represents the kind of science fiction that is precious in cinema, especially from the 1950s. There was The Day the Earth Stood Still and War of the Worlds, but lest not forget this gem which took some of its story from Shakespeare's The Tempest to tell a tale of astronauts on a planet that has a doctor on it who has made a remarkable breakthrough. It's the kind of breakthrough that is not so much incredible to look at (though for 1956 it does look quite amazing to look at some of those sets and that gigantic machine the doctor creates), but with its emphasis on the characters and its themes of technology taken too far by the more primitive side of human nature even when we don't know we're channeling it.<br /><br />On the surface- that is in the first ten minutes- it looks standard, if a little more professionally acted and directed with better skill than the B-movies of the period. A ship of astronauts are on a mission to the planet Altair-4 to bring back an expedition that went missing decades before. But the only one left is Dr. Morbis (Walter Pidgeon) and his daughter, who somehow were immune to an attack that left everyone else dead. Morbius appears to be a cordial and highly intelligent man, and his technology looks to be so impressive that the only thing the astronauts, led by the Skipper (Leslie Nielsen), can think to do is to report it back to their superiors on Earth.<br /><br />But there's a catch - something is killing off members of the crew of the ship, one by one, every night, even when the others keep an eye out and then put up an invisible electric fence, which the invisible something goes through easily. Meanwhile, there's some romance possibly between the Skipper and Alraira, and there's a more pushy vibe from the doctor: you shouldn't have come to the planet to start, and now you need to go. What happens from this is even more fascinating, just on a purely intellectual level, but Forbidden Planet never forgets that its audience should also be entertained by this story while getting some useful ideas. While everyone may remember Robbie the Robot, and for good reason, perhaps the most unforgettable image for me is the monster realized on screen with the crew firing to no avail, animated with red electricity and looking so beastly that it looks out of Fantasia.<br /><br />The acting from Pidgeon is subtle: you wouldn't expect him to be a villain, though something is there in the character and in the performance that speaks to this, and by the end it makes the character far more complex than one would expect. And the other performances are workmanlike but also excellent, from Nielsen as a born leader to Holliman providing some great comic relief as the Cook (who, I should add, helps with one of the funniest scenes in the film with those gallons of bourbon Robbie provides). And the effects for its time are extraordinary (sophisticated in a nostalgic pulp way for today too), and the music, done by electronics, is beautiful in its \"tones\". But ultimately it's the screenplay and careful direction from Hilcox that puts this a notch above the rest of the B-movie lot. When it's meant to be funny, it's intentionally so and it works. When it's dramatic it connects quite well even in its stiff moments with the actors. And when we are made to think about a horrible situation, it comes on gradually, with nuance, not shoved in our faces or injected with mega-action.<br /><br />An inspiration for many other sci-fi films, and a fine marker of thoughtful science fiction stories and books from time-old, it's a classy and entertaining classic.\n",
      "1\n"
     ]
    }
   ],
   "source": [
    "print(train_X[100])\n",
    "print(train_y[100])"
   ]
  },
  {
   "cell_type": "markdown",
   "metadata": {},
   "source": [
    "The first step in processing the reviews is to make sure that any html tags that appear should be removed. In addition we wish to tokenize our input, that way words such as *entertained* and *entertaining* are considered the same with regard to sentiment analysis."
   ]
  },
  {
   "cell_type": "code",
   "execution_count": 7,
   "metadata": {},
   "outputs": [],
   "source": [
    "import nltk\n",
    "from nltk.corpus import stopwords\n",
    "from nltk.stem.porter import *\n",
    "\n",
    "import re\n",
    "from bs4 import BeautifulSoup\n",
    "\n",
    "def review_to_words(review):\n",
    "    nltk.download(\"stopwords\", quiet=True)\n",
    "    stemmer = PorterStemmer()\n",
    "    \n",
    "    text = BeautifulSoup(review, \"html.parser\").get_text() # Remove HTML tags\n",
    "    text = re.sub(r\"[^a-zA-Z0-9]\", \" \", text.lower()) # Convert to lower case\n",
    "    words = text.split() # Split string into words\n",
    "    words = [w for w in words if w not in stopwords.words(\"english\")] # Remove stopwords\n",
    "    words = [PorterStemmer().stem(w) for w in words] # stem\n",
    "    \n",
    "    return words"
   ]
  },
  {
   "cell_type": "markdown",
   "metadata": {},
   "source": [
    "The `review_to_words` method defined above uses `BeautifulSoup` to remove any html tags that appear and uses the `nltk` package to tokenize the reviews. As a check to ensure we know how everything is working, try applying `review_to_words` to one of the reviews in the training set."
   ]
  },
  {
   "cell_type": "code",
   "execution_count": 8,
   "metadata": {},
   "outputs": [
    {
     "data": {
      "text/plain": [
       "['forbidden',\n",
       " 'planet',\n",
       " 'repres',\n",
       " 'kind',\n",
       " 'scienc',\n",
       " 'fiction',\n",
       " 'preciou',\n",
       " 'cinema',\n",
       " 'especi',\n",
       " '1950',\n",
       " 'day',\n",
       " 'earth',\n",
       " 'stood',\n",
       " 'still',\n",
       " 'war',\n",
       " 'world',\n",
       " 'lest',\n",
       " 'forget',\n",
       " 'gem',\n",
       " 'took',\n",
       " 'stori',\n",
       " 'shakespear',\n",
       " 'tempest',\n",
       " 'tell',\n",
       " 'tale',\n",
       " 'astronaut',\n",
       " 'planet',\n",
       " 'doctor',\n",
       " 'made',\n",
       " 'remark',\n",
       " 'breakthrough',\n",
       " 'kind',\n",
       " 'breakthrough',\n",
       " 'much',\n",
       " 'incred',\n",
       " 'look',\n",
       " 'though',\n",
       " '1956',\n",
       " 'look',\n",
       " 'quit',\n",
       " 'amaz',\n",
       " 'look',\n",
       " 'set',\n",
       " 'gigant',\n",
       " 'machin',\n",
       " 'doctor',\n",
       " 'creat',\n",
       " 'emphasi',\n",
       " 'charact',\n",
       " 'theme',\n",
       " 'technolog',\n",
       " 'taken',\n",
       " 'far',\n",
       " 'primit',\n",
       " 'side',\n",
       " 'human',\n",
       " 'natur',\n",
       " 'even',\n",
       " 'know',\n",
       " 'channel',\n",
       " 'surfac',\n",
       " 'first',\n",
       " 'ten',\n",
       " 'minut',\n",
       " 'look',\n",
       " 'standard',\n",
       " 'littl',\n",
       " 'profession',\n",
       " 'act',\n",
       " 'direct',\n",
       " 'better',\n",
       " 'skill',\n",
       " 'b',\n",
       " 'movi',\n",
       " 'period',\n",
       " 'ship',\n",
       " 'astronaut',\n",
       " 'mission',\n",
       " 'planet',\n",
       " 'altair',\n",
       " '4',\n",
       " 'bring',\n",
       " 'back',\n",
       " 'expedit',\n",
       " 'went',\n",
       " 'miss',\n",
       " 'decad',\n",
       " 'one',\n",
       " 'left',\n",
       " 'dr',\n",
       " 'morbi',\n",
       " 'walter',\n",
       " 'pidgeon',\n",
       " 'daughter',\n",
       " 'somehow',\n",
       " 'immun',\n",
       " 'attack',\n",
       " 'left',\n",
       " 'everyon',\n",
       " 'els',\n",
       " 'dead',\n",
       " 'morbiu',\n",
       " 'appear',\n",
       " 'cordial',\n",
       " 'highli',\n",
       " 'intellig',\n",
       " 'man',\n",
       " 'technolog',\n",
       " 'look',\n",
       " 'impress',\n",
       " 'thing',\n",
       " 'astronaut',\n",
       " 'led',\n",
       " 'skipper',\n",
       " 'lesli',\n",
       " 'nielsen',\n",
       " 'think',\n",
       " 'report',\n",
       " 'back',\n",
       " 'superior',\n",
       " 'earth',\n",
       " 'catch',\n",
       " 'someth',\n",
       " 'kill',\n",
       " 'member',\n",
       " 'crew',\n",
       " 'ship',\n",
       " 'one',\n",
       " 'one',\n",
       " 'everi',\n",
       " 'night',\n",
       " 'even',\n",
       " 'other',\n",
       " 'keep',\n",
       " 'eye',\n",
       " 'put',\n",
       " 'invis',\n",
       " 'electr',\n",
       " 'fenc',\n",
       " 'invis',\n",
       " 'someth',\n",
       " 'goe',\n",
       " 'easili',\n",
       " 'meanwhil',\n",
       " 'romanc',\n",
       " 'possibl',\n",
       " 'skipper',\n",
       " 'alraira',\n",
       " 'pushi',\n",
       " 'vibe',\n",
       " 'doctor',\n",
       " 'come',\n",
       " 'planet',\n",
       " 'start',\n",
       " 'need',\n",
       " 'go',\n",
       " 'happen',\n",
       " 'even',\n",
       " 'fascin',\n",
       " 'pure',\n",
       " 'intellectu',\n",
       " 'level',\n",
       " 'forbidden',\n",
       " 'planet',\n",
       " 'never',\n",
       " 'forget',\n",
       " 'audienc',\n",
       " 'also',\n",
       " 'entertain',\n",
       " 'stori',\n",
       " 'get',\n",
       " 'use',\n",
       " 'idea',\n",
       " 'everyon',\n",
       " 'may',\n",
       " 'rememb',\n",
       " 'robbi',\n",
       " 'robot',\n",
       " 'good',\n",
       " 'reason',\n",
       " 'perhap',\n",
       " 'unforgett',\n",
       " 'imag',\n",
       " 'monster',\n",
       " 'realiz',\n",
       " 'screen',\n",
       " 'crew',\n",
       " 'fire',\n",
       " 'avail',\n",
       " 'anim',\n",
       " 'red',\n",
       " 'electr',\n",
       " 'look',\n",
       " 'beastli',\n",
       " 'look',\n",
       " 'fantasia',\n",
       " 'act',\n",
       " 'pidgeon',\n",
       " 'subtl',\n",
       " 'expect',\n",
       " 'villain',\n",
       " 'though',\n",
       " 'someth',\n",
       " 'charact',\n",
       " 'perform',\n",
       " 'speak',\n",
       " 'end',\n",
       " 'make',\n",
       " 'charact',\n",
       " 'far',\n",
       " 'complex',\n",
       " 'one',\n",
       " 'would',\n",
       " 'expect',\n",
       " 'perform',\n",
       " 'workmanlik',\n",
       " 'also',\n",
       " 'excel',\n",
       " 'nielsen',\n",
       " 'born',\n",
       " 'leader',\n",
       " 'holliman',\n",
       " 'provid',\n",
       " 'great',\n",
       " 'comic',\n",
       " 'relief',\n",
       " 'cook',\n",
       " 'add',\n",
       " 'help',\n",
       " 'one',\n",
       " 'funniest',\n",
       " 'scene',\n",
       " 'film',\n",
       " 'gallon',\n",
       " 'bourbon',\n",
       " 'robbi',\n",
       " 'provid',\n",
       " 'effect',\n",
       " 'time',\n",
       " 'extraordinari',\n",
       " 'sophist',\n",
       " 'nostalg',\n",
       " 'pulp',\n",
       " 'way',\n",
       " 'today',\n",
       " 'music',\n",
       " 'done',\n",
       " 'electron',\n",
       " 'beauti',\n",
       " 'tone',\n",
       " 'ultim',\n",
       " 'screenplay',\n",
       " 'care',\n",
       " 'direct',\n",
       " 'hilcox',\n",
       " 'put',\n",
       " 'notch',\n",
       " 'rest',\n",
       " 'b',\n",
       " 'movi',\n",
       " 'lot',\n",
       " 'meant',\n",
       " 'funni',\n",
       " 'intent',\n",
       " 'work',\n",
       " 'dramat',\n",
       " 'connect',\n",
       " 'quit',\n",
       " 'well',\n",
       " 'even',\n",
       " 'stiff',\n",
       " 'moment',\n",
       " 'actor',\n",
       " 'made',\n",
       " 'think',\n",
       " 'horribl',\n",
       " 'situat',\n",
       " 'come',\n",
       " 'gradual',\n",
       " 'nuanc',\n",
       " 'shove',\n",
       " 'face',\n",
       " 'inject',\n",
       " 'mega',\n",
       " 'action',\n",
       " 'inspir',\n",
       " 'mani',\n",
       " 'sci',\n",
       " 'fi',\n",
       " 'film',\n",
       " 'fine',\n",
       " 'marker',\n",
       " 'thought',\n",
       " 'scienc',\n",
       " 'fiction',\n",
       " 'stori',\n",
       " 'book',\n",
       " 'time',\n",
       " 'old',\n",
       " 'classi',\n",
       " 'entertain',\n",
       " 'classic']"
      ]
     },
     "execution_count": 8,
     "metadata": {},
     "output_type": "execute_result"
    }
   ],
   "source": [
    "# TODO: Apply review_to_words to a review (train_X[100] or any other review)\n",
    "review_to_words(train_X[100])"
   ]
  },
  {
   "cell_type": "markdown",
   "metadata": {},
   "source": [
    "**Question:** Above we mentioned that `review_to_words` method removes html formatting and allows us to tokenize the words found in a review, for example, converting *entertained* and *entertaining* into *entertain* so that they are treated as though they are the same word. What else, if anything, does this method do to the input?"
   ]
  },
  {
   "cell_type": "markdown",
   "metadata": {},
   "source": [
    "**Answer:** Apart from removing html tags and tokening words, the review_to_words is  processing each review(text) by\n",
    "1. Converting the text to lowercase. \n",
    "2. Splitting each review (text) into list of words. \n",
    "3. Removing stopwords using NLTK's list of \"english\" stopwords from the list of words."
   ]
  },
  {
   "cell_type": "markdown",
   "metadata": {},
   "source": [
    "The method below applies the `review_to_words` method to each of the reviews in the training and testing datasets. In addition it caches the results. This is because performing this processing step can take a long time. This way if you are unable to complete the notebook in the current session, you can come back without needing to process the data a second time."
   ]
  },
  {
   "cell_type": "code",
   "execution_count": 9,
   "metadata": {},
   "outputs": [],
   "source": [
    "import pickle\n",
    "\n",
    "cache_dir = os.path.join(\"../cache\", \"sentiment_analysis\")  # where to store cache files\n",
    "os.makedirs(cache_dir, exist_ok=True)  # ensure cache directory exists\n",
    "\n",
    "def preprocess_data(data_train, data_test, labels_train, labels_test,\n",
    "                    cache_dir=cache_dir, cache_file=\"preprocessed_data.pkl\"):\n",
    "    \"\"\"Convert each review to words; read from cache if available.\"\"\"\n",
    "\n",
    "    # If cache_file is not None, try to read from it first\n",
    "    cache_data = None\n",
    "    if cache_file is not None:\n",
    "        try:\n",
    "            with open(os.path.join(cache_dir, cache_file), \"rb\") as f:\n",
    "                cache_data = pickle.load(f)\n",
    "            print(\"Read preprocessed data from cache file:\", cache_file)\n",
    "        except:\n",
    "            pass  # unable to read from cache, but that's okay\n",
    "    \n",
    "    # If cache is missing, then do the heavy lifting\n",
    "    if cache_data is None:\n",
    "        # Preprocess training and test data to obtain words for each review\n",
    "        #words_train = list(map(review_to_words, data_train))\n",
    "        #words_test = list(map(review_to_words, data_test))\n",
    "        words_train = [review_to_words(review) for review in data_train]\n",
    "        words_test = [review_to_words(review) for review in data_test]\n",
    "        \n",
    "        # Write to cache file for future runs\n",
    "        if cache_file is not None:\n",
    "            cache_data = dict(words_train=words_train, words_test=words_test,\n",
    "                              labels_train=labels_train, labels_test=labels_test)\n",
    "            with open(os.path.join(cache_dir, cache_file), \"wb\") as f:\n",
    "                pickle.dump(cache_data, f)\n",
    "            print(\"Wrote preprocessed data to cache file:\", cache_file)\n",
    "    else:\n",
    "        # Unpack data loaded from cache file\n",
    "        words_train, words_test, labels_train, labels_test = (cache_data['words_train'],\n",
    "                cache_data['words_test'], cache_data['labels_train'], cache_data['labels_test'])\n",
    "    \n",
    "    return words_train, words_test, labels_train, labels_test"
   ]
  },
  {
   "cell_type": "code",
   "execution_count": 10,
   "metadata": {},
   "outputs": [
    {
     "name": "stdout",
     "output_type": "stream",
     "text": [
      "Read preprocessed data from cache file: preprocessed_data.pkl\n"
     ]
    }
   ],
   "source": [
    "# Preprocess data\n",
    "train_X, test_X, train_y, test_y = preprocess_data(train_X, test_X, train_y, test_y)"
   ]
  },
  {
   "cell_type": "markdown",
   "metadata": {},
   "source": [
    "## Transform the data\n",
    "\n",
    "In the XGBoost notebook we transformed the data from its word representation to a bag-of-words feature representation. For the model we are going to construct in this notebook we will construct a feature representation which is very similar. To start, we will represent each word as an integer. Of course, some of the words that appear in the reviews occur very infrequently and so likely don't contain much information for the purposes of sentiment analysis. The way we will deal with this problem is that we will fix the size of our working vocabulary and we will only include the words that appear most frequently. We will then combine all of the infrequent words into a single category and, in our case, we will label it as `1`.\n",
    "\n",
    "Since we will be using a recurrent neural network, it will be convenient if the length of each review is the same. To do this, we will fix a size for our reviews and then pad short reviews with the category 'no word' (which we will label `0`) and truncate long reviews."
   ]
  },
  {
   "cell_type": "markdown",
   "metadata": {},
   "source": [
    "### (TODO) Create a word dictionary\n",
    "\n",
    "To begin with, we need to construct a way to map words that appear in the reviews to integers. Here we fix the size of our vocabulary (including the 'no word' and 'infrequent' categories) to be `5000` but you may wish to change this to see how it affects the model.\n",
    "\n",
    "> **TODO:** Complete the implementation for the `build_dict()` method below. Note that even though the vocab_size is set to `5000`, we only want to construct a mapping for the most frequently appearing `4998` words. This is because we want to reserve the special labels `0` for 'no word' and `1` for 'infrequent word'."
   ]
  },
  {
   "cell_type": "code",
   "execution_count": 11,
   "metadata": {},
   "outputs": [],
   "source": [
    "import numpy as np\n",
    "\n",
    "def build_dict(data, vocab_size = 5000):\n",
    "    \"\"\"Construct and return a dictionary mapping each of the most frequently appearing words to a unique integer.\"\"\"\n",
    "    \n",
    "    # TODO: Determine how often each word appears in `data`. Note that `data` is a list of sentences and that a\n",
    "    #       sentence is a list of words.\n",
    "    word_count = {} # A dict storing the words that appear in the reviews along with how often they occur\n",
    "    for review in data:\n",
    "        for word in review:\n",
    "            if word in word_count:\n",
    "                word_count[word] +=1\n",
    "            else:\n",
    "                word_count[word] = 1\n",
    "    \n",
    "    # TODO: Sort the words found in `data` so that sorted_words[0] is the most frequently appearing word and\n",
    "    #       sorted_words[-1] is the least frequently appearing word.\n",
    "    \n",
    "    word_count = {k: v for k, v in sorted(word_count.items(), key=lambda item: item[1], reverse = True)}\n",
    "    \n",
    "    sorted_words = None\n",
    "    sorted_words = list(word_count.keys())\n",
    "    \n",
    "    word_dict = {} # This is what we are building, a dictionary that translates words into integers\n",
    "    for idx, word in enumerate(sorted_words[:vocab_size - 2]): # The -2 is so that we save room for the 'no word'\n",
    "        word_dict[word] = idx + 2                              # 'infrequent' labels\n",
    "    \n",
    "    return word_dict"
   ]
  },
  {
   "cell_type": "code",
   "execution_count": 12,
   "metadata": {},
   "outputs": [],
   "source": [
    "word_dict = build_dict(train_X)"
   ]
  },
  {
   "cell_type": "code",
   "execution_count": 13,
   "metadata": {},
   "outputs": [
    {
     "name": "stdout",
     "output_type": "stream",
     "text": [
      "{'movi': 2, 'film': 3, 'one': 4, 'like': 5, 'time': 6, 'good': 7, 'make': 8, 'charact': 9, 'get': 10, 'see': 11, 'watch': 12, 'stori': 13, 'even': 14, 'would': 15, 'realli': 16, 'well': 17, 'scene': 18, 'look': 19, 'show': 20, 'much': 21, 'end': 22, 'peopl': 23, 'bad': 24, 'go': 25, 'great': 26, 'also': 27, 'first': 28, 'love': 29, 'think': 30, 'way': 31, 'act': 32, 'play': 33, 'made': 34, 'thing': 35, 'could': 36, 'know': 37, 'say': 38, 'seem': 39, 'work': 40, 'plot': 41, 'two': 42, 'actor': 43, 'year': 44, 'come': 45, 'mani': 46, 'seen': 47, 'take': 48, 'want': 49, 'life': 50, 'never': 51, 'littl': 52, 'best': 53, 'tri': 54, 'man': 55, 'ever': 56, 'give': 57, 'better': 58, 'still': 59, 'perform': 60, 'find': 61, 'feel': 62, 'part': 63, 'back': 64, 'use': 65, 'someth': 66, 'director': 67, 'actual': 68, 'interest': 69, 'lot': 70, 'real': 71, 'old': 72, 'cast': 73, 'though': 74, 'live': 75, 'star': 76, 'enjoy': 77, 'guy': 78, 'anoth': 79, 'new': 80, 'role': 81, 'noth': 82, '10': 83, 'funni': 84, 'music': 85, 'point': 86, 'start': 87, 'set': 88, 'girl': 89, 'origin': 90, 'day': 91, 'world': 92, 'everi': 93, 'believ': 94, 'turn': 95, 'quit': 96, 'us': 97, 'direct': 98, 'thought': 99, 'fact': 100, 'minut': 101, 'horror': 102, 'kill': 103, 'action': 104, 'comedi': 105, 'pretti': 106, 'young': 107, 'wonder': 108, 'happen': 109, 'around': 110, 'got': 111, 'effect': 112, 'right': 113, 'long': 114, 'howev': 115, 'big': 116, 'line': 117, 'famili': 118, 'enough': 119, 'seri': 120, 'may': 121, 'need': 122, 'fan': 123, 'bit': 124, 'script': 125, 'beauti': 126, 'person': 127, 'becom': 128, 'without': 129, 'must': 130, 'alway': 131, 'friend': 132, 'tell': 133, 'reason': 134, 'saw': 135, 'last': 136, 'final': 137, 'kid': 138, 'almost': 139, 'put': 140, 'least': 141, 'sure': 142, 'done': 143, 'whole': 144, 'place': 145, 'complet': 146, 'kind': 147, 'expect': 148, 'differ': 149, 'shot': 150, 'far': 151, 'mean': 152, 'anyth': 153, 'book': 154, 'laugh': 155, 'might': 156, 'name': 157, 'sinc': 158, 'begin': 159, '2': 160, 'probabl': 161, 'woman': 162, 'help': 163, 'entertain': 164, 'let': 165, 'screen': 166, 'call': 167, 'tv': 168, 'moment': 169, 'away': 170, 'read': 171, 'yet': 172, 'rather': 173, 'worst': 174, 'run': 175, 'fun': 176, 'lead': 177, 'hard': 178, 'audienc': 179, 'idea': 180, 'anyon': 181, 'episod': 182, 'american': 183, 'found': 184, 'appear': 185, 'bore': 186, 'especi': 187, 'although': 188, 'hope': 189, 'keep': 190, 'cours': 191, 'anim': 192, 'job': 193, 'goe': 194, 'move': 195, 'sens': 196, 'version': 197, 'dvd': 198, 'war': 199, 'money': 200, 'someon': 201, 'mind': 202, 'mayb': 203, 'problem': 204, 'true': 205, 'hous': 206, 'everyth': 207, 'nice': 208, 'second': 209, 'rate': 210, 'three': 211, 'night': 212, 'face': 213, 'follow': 214, 'recommend': 215, 'product': 216, 'main': 217, 'worth': 218, 'leav': 219, 'human': 220, 'special': 221, 'excel': 222, 'togeth': 223, 'wast': 224, 'sound': 225, 'everyon': 226, 'john': 227, 'hand': 228, '1': 229, 'father': 230, 'later': 231, 'eye': 232, 'said': 233, 'view': 234, 'instead': 235, 'review': 236, 'boy': 237, 'high': 238, 'hour': 239, 'miss': 240, 'classic': 241, 'talk': 242, 'wife': 243, 'understand': 244, 'left': 245, 'care': 246, 'black': 247, 'death': 248, 'open': 249, 'murder': 250, 'write': 251, 'half': 252, 'head': 253, 'rememb': 254, 'chang': 255, 'viewer': 256, 'fight': 257, 'gener': 258, 'surpris': 259, 'short': 260, 'includ': 261, 'die': 262, 'fall': 263, 'less': 264, 'els': 265, 'entir': 266, 'piec': 267, 'involv': 268, 'pictur': 269, 'simpli': 270, 'home': 271, 'power': 272, 'top': 273, 'total': 274, 'usual': 275, 'budget': 276, 'attempt': 277, 'suppos': 278, 'releas': 279, 'hollywood': 280, 'terribl': 281, 'song': 282, 'men': 283, 'possibl': 284, 'featur': 285, 'portray': 286, 'disappoint': 287, 'poor': 288, '3': 289, 'coupl': 290, 'stupid': 291, 'camera': 292, 'dead': 293, 'wrong': 294, 'low': 295, 'produc': 296, 'video': 297, 'either': 298, 'aw': 299, 'definit': 300, 'except': 301, 'rest': 302, 'given': 303, 'absolut': 304, 'women': 305, 'lack': 306, 'word': 307, 'writer': 308, 'titl': 309, 'talent': 310, 'decid': 311, 'full': 312, 'perfect': 313, 'along': 314, 'style': 315, 'close': 316, 'truli': 317, 'school': 318, 'save': 319, 'emot': 320, 'sex': 321, 'age': 322, 'next': 323, 'bring': 324, 'mr': 325, 'case': 326, 'killer': 327, 'heart': 328, 'comment': 329, 'sort': 330, 'creat': 331, 'perhap': 332, 'came': 333, 'brother': 334, 'sever': 335, 'joke': 336, 'art': 337, 'dialogu': 338, 'game': 339, 'small': 340, 'base': 341, 'flick': 342, 'written': 343, 'sequenc': 344, 'meet': 345, 'earli': 346, 'often': 347, 'other': 348, 'mother': 349, 'develop': 350, 'humor': 351, 'actress': 352, 'consid': 353, 'dark': 354, 'guess': 355, 'amaz': 356, 'unfortun': 357, 'lost': 358, 'light': 359, 'exampl': 360, 'cinema': 361, 'drama': 362, 'ye': 363, 'white': 364, 'experi': 365, 'imagin': 366, 'mention': 367, 'stop': 368, 'natur': 369, 'forc': 370, 'manag': 371, 'felt': 372, 'cut': 373, 'present': 374, 'children': 375, 'fail': 376, 'son': 377, 'qualiti': 378, 'support': 379, 'car': 380, 'ask': 381, 'hit': 382, 'side': 383, 'voic': 384, 'extrem': 385, 'impress': 386, 'wors': 387, 'evil': 388, 'stand': 389, 'went': 390, 'certainli': 391, 'basic': 392, 'oh': 393, 'overal': 394, 'favorit': 395, 'horribl': 396, 'mysteri': 397, 'number': 398, 'type': 399, 'danc': 400, 'wait': 401, 'hero': 402, 'alreadi': 403, '5': 404, 'learn': 405, 'matter': 406, '4': 407, 'michael': 408, 'genr': 409, 'fine': 410, 'despit': 411, 'throughout': 412, 'walk': 413, 'success': 414, 'histori': 415, 'question': 416, 'zombi': 417, 'town': 418, 'realiz': 419, 'relationship': 420, 'child': 421, 'past': 422, 'daughter': 423, 'late': 424, 'b': 425, 'wish': 426, 'credit': 427, 'hate': 428, 'event': 429, 'theme': 430, 'touch': 431, 'citi': 432, 'today': 433, 'sometim': 434, 'behind': 435, 'god': 436, 'twist': 437, 'sit': 438, 'stay': 439, 'deal': 440, 'annoy': 441, 'abl': 442, 'rent': 443, 'pleas': 444, 'edit': 445, 'blood': 446, 'deserv': 447, 'comic': 448, 'anyway': 449, 'appar': 450, 'soon': 451, 'gave': 452, 'etc': 453, 'level': 454, 'slow': 455, 'chanc': 456, 'score': 457, 'bodi': 458, 'brilliant': 459, 'incred': 460, 'figur': 461, 'situat': 462, 'self': 463, 'major': 464, 'stuff': 465, 'decent': 466, 'element': 467, 'dream': 468, 'return': 469, 'obvious': 470, 'continu': 471, 'order': 472, 'pace': 473, 'ridicul': 474, 'happi': 475, 'highli': 476, 'group': 477, 'add': 478, 'thank': 479, 'ladi': 480, 'novel': 481, 'speak': 482, 'pain': 483, 'career': 484, 'shoot': 485, 'strang': 486, 'heard': 487, 'sad': 488, 'husband': 489, 'polic': 490, 'import': 491, 'break': 492, 'took': 493, 'strong': 494, 'cannot': 495, 'predict': 496, 'robert': 497, 'violenc': 498, 'hilari': 499, 'recent': 500, 'countri': 501, 'known': 502, 'particularli': 503, 'pick': 504, 'documentari': 505, 'season': 506, 'critic': 507, 'jame': 508, 'compar': 509, 'alon': 510, 'obviou': 511, 'told': 512, 'state': 513, 'rock': 514, 'visual': 515, 'exist': 516, 'theater': 517, 'offer': 518, 'opinion': 519, 'gore': 520, 'crap': 521, 'hold': 522, 'result': 523, 'hear': 524, 'realiti': 525, 'room': 526, 'clich': 527, 'effort': 528, 'thriller': 529, 'caus': 530, 'serious': 531, 'sequel': 532, 'explain': 533, 'king': 534, 'local': 535, 'ago': 536, 'none': 537, 'hell': 538, 'note': 539, 'allow': 540, 'david': 541, 'sister': 542, 'simpl': 543, 'femal': 544, 'deliv': 545, 'ok': 546, 'class': 547, 'convinc': 548, 'check': 549, 'suspens': 550, 'win': 551, 'buy': 552, 'oscar': 553, 'huge': 554, 'valu': 555, 'sexual': 556, 'cool': 557, 'scari': 558, 'similar': 559, 'excit': 560, 'provid': 561, 'exactli': 562, 'apart': 563, 'avoid': 564, 'shown': 565, 'seriou': 566, 'english': 567, 'whose': 568, 'taken': 569, 'cinematographi': 570, 'shock': 571, 'polit': 572, 'spoiler': 573, 'offic': 574, 'across': 575, 'middl': 576, 'pass': 577, 'street': 578, 'messag': 579, 'somewhat': 580, 'silli': 581, 'charm': 582, 'modern': 583, 'confus': 584, 'filmmak': 585, 'form': 586, 'tale': 587, 'singl': 588, 'jack': 589, 'mostli': 590, 'attent': 591, 'carri': 592, 'william': 593, 'sing': 594, 'subject': 595, 'five': 596, 'richard': 597, 'prove': 598, 'team': 599, 'stage': 600, 'cop': 601, 'unlik': 602, 'georg': 603, 'televis': 604, 'monster': 605, 'earth': 606, 'villain': 607, 'cover': 608, 'pay': 609, 'marri': 610, 'toward': 611, 'build': 612, 'parent': 613, 'pull': 614, 'due': 615, 'respect': 616, 'fill': 617, 'dialog': 618, 'four': 619, 'remind': 620, 'futur': 621, 'typic': 622, 'weak': 623, '7': 624, 'cheap': 625, 'intellig': 626, 'british': 627, 'atmospher': 628, 'clearli': 629, '80': 630, 'dog': 631, 'non': 632, 'paul': 633, 'fast': 634, 'artist': 635, 'knew': 636, '8': 637, 'crime': 638, 'easili': 639, 'escap': 640, 'doubt': 641, 'adult': 642, 'detail': 643, 'date': 644, 'member': 645, 'romant': 646, 'fire': 647, 'gun': 648, 'drive': 649, 'straight': 650, 'fit': 651, 'beyond': 652, 'attack': 653, 'imag': 654, 'upon': 655, 'posit': 656, 'whether': 657, 'peter': 658, 'fantast': 659, 'captur': 660, 'appreci': 661, 'aspect': 662, 'ten': 663, 'plan': 664, 'discov': 665, 'remain': 666, 'near': 667, 'period': 668, 'realist': 669, 'air': 670, 'mark': 671, 'red': 672, 'dull': 673, 'adapt': 674, 'within': 675, 'lose': 676, 'spend': 677, 'materi': 678, 'color': 679, 'chase': 680, 'mari': 681, 'storylin': 682, 'forget': 683, 'bunch': 684, 'clear': 685, 'lee': 686, 'victim': 687, 'nearli': 688, 'box': 689, 'york': 690, 'match': 691, 'inspir': 692, 'mess': 693, 'finish': 694, 'standard': 695, 'easi': 696, 'truth': 697, 'suffer': 698, 'busi': 699, 'space': 700, 'dramat': 701, 'bill': 702, 'western': 703, 'e': 704, 'list': 705, 'battl': 706, 'notic': 707, 'de': 708, 'french': 709, 'ad': 710, '9': 711, 'tom': 712, 'larg': 713, 'among': 714, 'eventu': 715, 'train': 716, 'accept': 717, 'agre': 718, 'soundtrack': 719, 'spirit': 720, 'third': 721, 'teenag': 722, 'adventur': 723, 'soldier': 724, 'drug': 725, 'sorri': 726, 'suggest': 727, 'famou': 728, 'cri': 729, 'normal': 730, 'babi': 731, 'troubl': 732, 'ultim': 733, 'contain': 734, 'certain': 735, 'cultur': 736, 'romanc': 737, 'rare': 738, 'lame': 739, 'somehow': 740, 'disney': 741, 'mix': 742, 'gone': 743, 'cartoon': 744, 'student': 745, 'reveal': 746, 'fear': 747, 'suck': 748, 'kept': 749, 'attract': 750, 'appeal': 751, 'premis': 752, 'greatest': 753, 'secret': 754, 'design': 755, 'shame': 756, 'throw': 757, 'scare': 758, 'copi': 759, 'wit': 760, 'admit': 761, 'america': 762, 'relat': 763, 'particular': 764, 'brought': 765, 'screenplay': 766, 'whatev': 767, 'pure': 768, '70': 769, 'averag': 770, 'harri': 771, 'master': 772, 'describ': 773, 'male': 774, 'treat': 775, '20': 776, 'fantasi': 777, 'issu': 778, 'warn': 779, 'inde': 780, 'forward': 781, 'background': 782, 'free': 783, 'project': 784, 'memor': 785, 'japanes': 786, 'poorli': 787, 'award': 788, 'locat': 789, 'potenti': 790, 'amus': 791, 'struggl': 792, 'weird': 793, 'magic': 794, 'societi': 795, 'okay': 796, 'accent': 797, 'imdb': 798, 'doctor': 799, 'hot': 800, 'water': 801, 'alien': 802, 'dr': 803, 'express': 804, '30': 805, 'odd': 806, 'crazi': 807, 'choic': 808, 'studio': 809, 'fiction': 810, 'control': 811, 'becam': 812, 'masterpiec': 813, 'fli': 814, 'difficult': 815, 'joe': 816, 'scream': 817, 'costum': 818, 'lover': 819, 'uniqu': 820, 'refer': 821, 'remak': 822, 'vampir': 823, 'girlfriend': 824, 'prison': 825, 'execut': 826, 'wear': 827, 'jump': 828, 'unless': 829, 'wood': 830, 'creepi': 831, 'cheesi': 832, 'superb': 833, 'otherwis': 834, 'parti': 835, 'ghost': 836, 'roll': 837, 'public': 838, 'mad': 839, 'depict': 840, 'earlier': 841, 'week': 842, 'moral': 843, 'badli': 844, 'jane': 845, 'dumb': 846, 'fi': 847, 'grow': 848, 'flaw': 849, 'deep': 850, 'sci': 851, 'cat': 852, 'maker': 853, 'older': 854, 'footag': 855, 'connect': 856, 'plenti': 857, 'bother': 858, 'outsid': 859, 'stick': 860, 'gay': 861, 'catch': 862, 'plu': 863, 'co': 864, 'popular': 865, 'equal': 866, 'social': 867, 'quickli': 868, 'disturb': 869, 'perfectli': 870, 'dress': 871, '90': 872, 'era': 873, 'mistak': 874, 'lie': 875, 'ride': 876, 'previou': 877, 'combin': 878, 'band': 879, 'concept': 880, 'rich': 881, 'surviv': 882, 'answer': 883, 'front': 884, 'sweet': 885, 'christma': 886, 'insid': 887, 'bare': 888, 'eat': 889, 'concern': 890, 'beat': 891, 'ben': 892, 'listen': 893, 'c': 894, 'serv': 895, 'term': 896, 'german': 897, 'meant': 898, 'la': 899, 'stereotyp': 900, 'hardli': 901, 'law': 902, 'innoc': 903, 'desper': 904, 'promis': 905, 'memori': 906, 'cute': 907, 'intent': 908, 'inform': 909, 'variou': 910, 'steal': 911, 'brain': 912, 'post': 913, 'tone': 914, 'island': 915, 'amount': 916, 'nuditi': 917, 'track': 918, 'compani': 919, 'store': 920, 'claim': 921, '50': 922, 'hair': 923, 'flat': 924, 'land': 925, 'univers': 926, 'kick': 927, 'scott': 928, 'fairli': 929, 'danger': 930, 'player': 931, 'plain': 932, 'step': 933, 'crew': 934, 'toni': 935, 'share': 936, 'tast': 937, 'centuri': 938, 'engag': 939, 'achiev': 940, 'cold': 941, 'travel': 942, 'rip': 943, 'record': 944, 'suit': 945, 'manner': 946, 'sadli': 947, 'spot': 948, 'wrote': 949, 'tension': 950, 'intens': 951, 'fascin': 952, 'familiar': 953, 'remark': 954, 'burn': 955, 'depth': 956, 'destroy': 957, 'histor': 958, 'sleep': 959, 'purpos': 960, 'languag': 961, 'ruin': 962, 'ignor': 963, 'delight': 964, 'italian': 965, 'unbeliev': 966, 'collect': 967, 'abil': 968, 'soul': 969, 'clever': 970, 'detect': 971, 'violent': 972, 'rape': 973, 'reach': 974, 'door': 975, 'scienc': 976, 'trash': 977, 'liter': 978, 'caught': 979, 'commun': 980, 'reveng': 981, 'creatur': 982, 'approach': 983, 'trip': 984, 'fashion': 985, 'intrigu': 986, 'skill': 987, 'paint': 988, 'introduc': 989, 'channel': 990, 'complex': 991, 'camp': 992, 'christian': 993, 'hole': 994, 'extra': 995, 'immedi': 996, 'mental': 997, 'limit': 998, 'ann': 999, 'million': 1000, 'slightli': 1001, 'comput': 1002, '6': 1003, 'mere': 1004, 'conclus': 1005, 'slasher': 1006, 'suddenli': 1007, 'imposs': 1008, 'neither': 1009, 'teen': 1010, 'crimin': 1011, 'physic': 1012, 'nation': 1013, 'spent': 1014, 'respons': 1015, 'planet': 1016, 'fake': 1017, 'receiv': 1018, 'sick': 1019, 'blue': 1020, 'bizarr': 1021, 'embarrass': 1022, 'indian': 1023, 'ring': 1024, '15': 1025, 'drop': 1026, 'pop': 1027, 'drag': 1028, 'haunt': 1029, 'pointless': 1030, 'suspect': 1031, 'edg': 1032, 'search': 1033, 'handl': 1034, 'biggest': 1035, 'common': 1036, 'hurt': 1037, 'arriv': 1038, 'faith': 1039, 'technic': 1040, 'angel': 1041, 'dad': 1042, 'genuin': 1043, 'solid': 1044, 'f': 1045, 'awesom': 1046, 'former': 1047, 'van': 1048, 'focu': 1049, 'colleg': 1050, 'count': 1051, 'tear': 1052, 'heavi': 1053, 'rais': 1054, 'wall': 1055, 'laughabl': 1056, 'younger': 1057, 'visit': 1058, 'sign': 1059, 'excus': 1060, 'fair': 1061, 'cult': 1062, 'motion': 1063, 'tough': 1064, 'key': 1065, 'desir': 1066, 'super': 1067, 'stun': 1068, 'addit': 1069, 'cloth': 1070, 'exploit': 1071, 'tortur': 1072, 'smith': 1073, 'race': 1074, 'davi': 1075, 'author': 1076, 'cross': 1077, 'jim': 1078, 'compel': 1079, 'focus': 1080, 'minor': 1081, 'consist': 1082, 'pathet': 1083, 'chemistri': 1084, 'commit': 1085, 'park': 1086, 'tradit': 1087, 'obsess': 1088, 'frank': 1089, 'grade': 1090, 'asid': 1091, '60': 1092, 'brutal': 1093, 'steve': 1094, 'somewher': 1095, 'rule': 1096, 'u': 1097, 'depress': 1098, 'opportun': 1099, 'explor': 1100, 'grant': 1101, 'besid': 1102, 'honest': 1103, 'dub': 1104, 'anti': 1105, 'trailer': 1106, 'intend': 1107, 'bar': 1108, 'scientist': 1109, 'longer': 1110, 'regard': 1111, 'west': 1112, 'decad': 1113, 'judg': 1114, 'silent': 1115, 'armi': 1116, 'creativ': 1117, 'wild': 1118, 'stewart': 1119, 'g': 1120, 'south': 1121, 'draw': 1122, 'road': 1123, 'govern': 1124, 'boss': 1125, 'ex': 1126, 'practic': 1127, 'gang': 1128, 'festiv': 1129, 'motiv': 1130, 'club': 1131, 'surprisingli': 1132, 'page': 1133, 'london': 1134, 'green': 1135, 'redeem': 1136, 'aliv': 1137, 'militari': 1138, 'idiot': 1139, 'display': 1140, 'machin': 1141, 'repeat': 1142, 'thrill': 1143, '100': 1144, 'yeah': 1145, 'nobodi': 1146, 'folk': 1147, '40': 1148, 'journey': 1149, 'garbag': 1150, 'smile': 1151, 'ground': 1152, 'tire': 1153, 'mood': 1154, 'bought': 1155, 'cost': 1156, 'sam': 1157, 'stone': 1158, 'mouth': 1159, 'noir': 1160, 'terrif': 1161, 'agent': 1162, 'utterli': 1163, 'requir': 1164, 'sexi': 1165, 'area': 1166, 'honestli': 1167, 'report': 1168, 'geniu': 1169, 'humour': 1170, 'glad': 1171, 'enter': 1172, 'investig': 1173, 'serial': 1174, 'passion': 1175, 'occasion': 1176, 'narr': 1177, 'marriag': 1178, 'climax': 1179, 'industri': 1180, 'studi': 1181, 'ship': 1182, 'center': 1183, 'nowher': 1184, 'charli': 1185, 'demon': 1186, 'loos': 1187, 'hors': 1188, 'bear': 1189, 'hang': 1190, 'wow': 1191, 'graphic': 1192, 'admir': 1193, 'giant': 1194, 'send': 1195, 'loud': 1196, 'damn': 1197, 'nake': 1198, 'rel': 1199, 'subtl': 1200, 'profession': 1201, 'blow': 1202, 'bottom': 1203, 'insult': 1204, 'batman': 1205, 'boyfriend': 1206, 'r': 1207, 'doubl': 1208, 'kelli': 1209, 'initi': 1210, 'frame': 1211, 'gem': 1212, 'opera': 1213, 'challeng': 1214, 'cinemat': 1215, 'drawn': 1216, 'church': 1217, 'affect': 1218, 'j': 1219, 'seek': 1220, 'fulli': 1221, 'nightmar': 1222, 'l': 1223, 'evid': 1224, 'arm': 1225, 'essenti': 1226, 'conflict': 1227, 'grace': 1228, 'henri': 1229, 'christoph': 1230, 'wind': 1231, 'assum': 1232, 'narrat': 1233, 'witch': 1234, 'hunt': 1235, 'push': 1236, 'wise': 1237, 'chri': 1238, 'month': 1239, 'nomin': 1240, 'repres': 1241, 'hide': 1242, 'avail': 1243, 'affair': 1244, 'sceneri': 1245, 'thu': 1246, 'bond': 1247, 'smart': 1248, 'justic': 1249, 'interview': 1250, 'flashback': 1251, 'outstand': 1252, 'constantli': 1253, 'satisfi': 1254, 'presenc': 1255, 'bed': 1256, 'central': 1257, 'content': 1258, 'iron': 1259, 'sell': 1260, 'gag': 1261, 'everybodi': 1262, 'slowli': 1263, 'hotel': 1264, 'hire': 1265, 'system': 1266, 'thrown': 1267, 'hey': 1268, 'individu': 1269, 'adam': 1270, 'charl': 1271, 'mediocr': 1272, 'jone': 1273, 'allen': 1274, 'ray': 1275, 'lesson': 1276, 'billi': 1277, 'photographi': 1278, 'cameo': 1279, 'fellow': 1280, 'pari': 1281, 'strike': 1282, 'brief': 1283, 'absurd': 1284, 'independ': 1285, 'rise': 1286, 'neg': 1287, 'impact': 1288, 'phone': 1289, 'ill': 1290, 'born': 1291, 'model': 1292, 'fresh': 1293, 'angl': 1294, 'spoil': 1295, 'likabl': 1296, 'abus': 1297, 'hill': 1298, 'discuss': 1299, 'sight': 1300, 'ahead': 1301, 'sent': 1302, 'photograph': 1303, 'occur': 1304, 'shine': 1305, 'logic': 1306, 'blame': 1307, 'bruce': 1308, 'mainli': 1309, 'forev': 1310, 'commerci': 1311, 'skip': 1312, 'segment': 1313, 'teacher': 1314, 'surround': 1315, 'held': 1316, 'blond': 1317, 'zero': 1318, 'trap': 1319, 'summer': 1320, 'satir': 1321, 'resembl': 1322, 'six': 1323, 'fool': 1324, 'ball': 1325, 'queen': 1326, 'tragedi': 1327, 'twice': 1328, 'sub': 1329, 'pack': 1330, 'reaction': 1331, 'bomb': 1332, 'hospit': 1333, 'will': 1334, 'protagonist': 1335, 'mile': 1336, 'sport': 1337, 'mom': 1338, 'jerri': 1339, 'drink': 1340, 'trust': 1341, 'vote': 1342, 'encount': 1343, 'plane': 1344, 'program': 1345, 'current': 1346, 'al': 1347, 'station': 1348, 'celebr': 1349, 'choos': 1350, 'martin': 1351, 'join': 1352, 'field': 1353, 'round': 1354, 'favourit': 1355, 'lord': 1356, 'tragic': 1357, 'vision': 1358, 'jean': 1359, 'robot': 1360, 'arthur': 1361, 'tie': 1362, 'random': 1363, 'fortun': 1364, 'roger': 1365, 'psycholog': 1366, 'intern': 1367, 'dread': 1368, 'prefer': 1369, 'improv': 1370, 'nonsens': 1371, 'epic': 1372, 'formula': 1373, 'pleasur': 1374, 'legend': 1375, 'highlight': 1376, 'dollar': 1377, '11': 1378, 'tape': 1379, 'fox': 1380, 'object': 1381, 'thin': 1382, 'porn': 1383, 'gorgeou': 1384, 'wide': 1385, 'influenc': 1386, 'buddi': 1387, 'ugli': 1388, 'ii': 1389, 'prepar': 1390, 'nasti': 1391, 'progress': 1392, 'reflect': 1393, 'warm': 1394, 'supposedli': 1395, 'worthi': 1396, 'youth': 1397, 'latter': 1398, 'length': 1399, 'unusu': 1400, 'crash': 1401, 'childhood': 1402, 'seven': 1403, 'superior': 1404, 'shop': 1405, 'theatr': 1406, 'remot': 1407, 'pilot': 1408, 'paid': 1409, 'disgust': 1410, 'funniest': 1411, 'fell': 1412, 'convers': 1413, 'trick': 1414, 'castl': 1415, 'disast': 1416, 'establish': 1417, 'rob': 1418, 'gangster': 1419, 'suicid': 1420, 'ident': 1421, 'disappear': 1422, 'mine': 1423, 'heaven': 1424, 'heroin': 1425, 'mask': 1426, 'decis': 1427, 'singer': 1428, 'tend': 1429, 'forgotten': 1430, 'partner': 1431, 'brian': 1432, 'alan': 1433, 'recogn': 1434, 'desert': 1435, 'ms': 1436, 'thoroughli': 1437, 'stuck': 1438, 'sky': 1439, 'p': 1440, 'replac': 1441, 'accur': 1442, 'market': 1443, 'danni': 1444, 'commentari': 1445, 'seemingli': 1446, 'uncl': 1447, 'clue': 1448, 'eddi': 1449, 'andi': 1450, 'devil': 1451, 'jackson': 1452, 'refus': 1453, 'therefor': 1454, 'that': 1455, 'pair': 1456, 'river': 1457, 'fate': 1458, 'ed': 1459, 'unit': 1460, 'fault': 1461, 'accid': 1462, 'afraid': 1463, 'tune': 1464, 'clean': 1465, 'hidden': 1466, 'stephen': 1467, 'russian': 1468, 'instanc': 1469, 'irrit': 1470, 'quick': 1471, 'readi': 1472, 'convey': 1473, 'captain': 1474, 'test': 1475, 'european': 1476, 'insan': 1477, 'daniel': 1478, 'frustrat': 1479, 'food': 1480, '1950': 1481, 'chines': 1482, 'rescu': 1483, 'wed': 1484, 'lock': 1485, 'dirti': 1486, 'angri': 1487, 'joy': 1488, 'price': 1489, 'steven': 1490, 'bland': 1491, 'cage': 1492, 'anymor': 1493, 'rang': 1494, 'wooden': 1495, 'news': 1496, 'rush': 1497, 'n': 1498, 'jason': 1499, 'board': 1500, 'worri': 1501, 'twenti': 1502, '12': 1503, 'martial': 1504, 'led': 1505, 'transform': 1506, 'hunter': 1507, 'symbol': 1508, 'cgi': 1509, 'invent': 1510, 'piti': 1511, 'x': 1512, 'onto': 1513, 'sentiment': 1514, 'johnni': 1515, 'process': 1516, 'attitud': 1517, 'explan': 1518, 'owner': 1519, 'awar': 1520, 'aim': 1521, 'floor': 1522, 'target': 1523, 'necessari': 1524, 'favor': 1525, 'energi': 1526, 'opposit': 1527, 'religi': 1528, 'blind': 1529, 'chick': 1530, 'insight': 1531, 'window': 1532, 'movement': 1533, 'mountain': 1534, 'research': 1535, 'possess': 1536, 'deepli': 1537, 'comparison': 1538, 'whatsoev': 1539, 'comed': 1540, 'grand': 1541, 'rain': 1542, 'shadow': 1543, 'mid': 1544, 'began': 1545, 'bank': 1546, 'parodi': 1547, 'princ': 1548, 'taylor': 1549, 'friendship': 1550, 'pre': 1551, 'weapon': 1552, 'credibl': 1553, 'dougla': 1554, 'flesh': 1555, 'teach': 1556, 'bloodi': 1557, 'hint': 1558, 'protect': 1559, 'terror': 1560, 'marvel': 1561, 'superman': 1562, 'drunk': 1563, 'load': 1564, 'watchabl': 1565, 'anybodi': 1566, 'accord': 1567, 'leader': 1568, 'brown': 1569, 'freddi': 1570, 'jeff': 1571, 'tim': 1572, 'appropri': 1573, 'seat': 1574, 'hitler': 1575, 'unknown': 1576, 'villag': 1577, 'knock': 1578, 'keaton': 1579, 'charg': 1580, 'empti': 1581, 'media': 1582, 'england': 1583, 'unnecessari': 1584, 'enemi': 1585, 'strength': 1586, 'wave': 1587, 'craft': 1588, 'utter': 1589, 'dare': 1590, 'perspect': 1591, 'buck': 1592, 'contrast': 1593, 'nativ': 1594, 'correct': 1595, 'kiss': 1596, 'ford': 1597, 'nazi': 1598, 'knowledg': 1599, 'magnific': 1600, 'distract': 1601, 'soap': 1602, 'speed': 1603, 'chill': 1604, 'anywher': 1605, '1980': 1606, 'ice': 1607, 'mission': 1608, 'fred': 1609, 'breath': 1610, 'crowd': 1611, 'joan': 1612, 'moon': 1613, 'jr': 1614, '000': 1615, 'frighten': 1616, 'soft': 1617, 'kate': 1618, 'nick': 1619, 'dan': 1620, 'hundr': 1621, 'dick': 1622, 'radio': 1623, 'simon': 1624, 'dozen': 1625, 'somebodi': 1626, 'thousand': 1627, 'loss': 1628, 'andrew': 1629, 'academi': 1630, 'shakespear': 1631, 'account': 1632, 'sum': 1633, 'vehicl': 1634, 'quot': 1635, 'root': 1636, '1970': 1637, 'leg': 1638, 'convent': 1639, 'behavior': 1640, 'gold': 1641, 'regular': 1642, 'pretenti': 1643, 'demand': 1644, 'compet': 1645, 'worker': 1646, 'lynch': 1647, 'notabl': 1648, 'stretch': 1649, 'japan': 1650, 'candi': 1651, 'privat': 1652, 'explos': 1653, 'interpret': 1654, 'constant': 1655, 'debut': 1656, 'tarzan': 1657, 'prais': 1658, 'sea': 1659, 'revolv': 1660, 'spi': 1661, 'translat': 1662, 'ass': 1663, 'threaten': 1664, 'franc': 1665, 'sat': 1666, 'technolog': 1667, 'quiet': 1668, 'failur': 1669, 'jesu': 1670, 'punch': 1671, 'toy': 1672, 'met': 1673, 'aid': 1674, 'higher': 1675, 'kevin': 1676, 'interact': 1677, 'mike': 1678, 'abandon': 1679, 'vh': 1680, 'confront': 1681, 'command': 1682, 'separ': 1683, 'bet': 1684, 'stunt': 1685, 'belong': 1686, 'recal': 1687, 'servic': 1688, 'gotten': 1689, 'techniqu': 1690, 'site': 1691, 'cabl': 1692, 'bug': 1693, 'foot': 1694, 'freak': 1695, 'fu': 1696, 'bright': 1697, 'jimmi': 1698, 'african': 1699, 'capabl': 1700, 'presid': 1701, 'fat': 1702, 'boat': 1703, 'clark': 1704, 'stock': 1705, 'succeed': 1706, 'structur': 1707, 'spanish': 1708, 'gene': 1709, 'kidnap': 1710, 'paper': 1711, 'factor': 1712, 'whilst': 1713, 'belief': 1714, 'complic': 1715, 'realis': 1716, 'realism': 1717, 'tree': 1718, 'attend': 1719, 'witti': 1720, 'bob': 1721, 'educ': 1722, 'broken': 1723, 'assist': 1724, 'santa': 1725, 'finest': 1726, 'observ': 1727, 'v': 1728, 'determin': 1729, 'up': 1730, 'depart': 1731, 'smoke': 1732, 'domin': 1733, 'fame': 1734, 'routin': 1735, 'rubbish': 1736, 'hat': 1737, 'oper': 1738, 'lewi': 1739, 'safe': 1740, 'lone': 1741, 'kinda': 1742, 'hook': 1743, 'foreign': 1744, 'advanc': 1745, 'morgan': 1746, 'rank': 1747, 'numer': 1748, 'civil': 1749, 'shallow': 1750, 'rose': 1751, 'werewolf': 1752, 'washington': 1753, 'vs': 1754, 'shape': 1755, 'morn': 1756, 'gari': 1757, 'ordinari': 1758, 'accomplish': 1759, 'kong': 1760, 'winner': 1761, 'grab': 1762, 'virtual': 1763, 'whenev': 1764, 'peac': 1765, 'luck': 1766, 'offens': 1767, 'h': 1768, 'contriv': 1769, 'bigger': 1770, 'patient': 1771, 'complain': 1772, 'unfunni': 1773, 'activ': 1774, 'welcom': 1775, 'pretend': 1776, 'dimension': 1777, 'trek': 1778, 'con': 1779, 'code': 1780, 'wake': 1781, 'eric': 1782, 'flash': 1783, 'cain': 1784, 'lesbian': 1785, 'dri': 1786, 'manipul': 1787, 'guard': 1788, 'corrupt': 1789, 'dancer': 1790, 'albert': 1791, 'statu': 1792, 'awkward': 1793, 'gain': 1794, 'sourc': 1795, 'context': 1796, 'speech': 1797, 'signific': 1798, 'corni': 1799, '13': 1800, 'clip': 1801, 'sean': 1802, 'psycho': 1803, 'anthoni': 1804, 'reli': 1805, 'curiou': 1806, 'advic': 1807, 'w': 1808, 'religion': 1809, 'theatric': 1810, 'priest': 1811, 'flow': 1812, 'addict': 1813, 'howard': 1814, 'jennif': 1815, 'specif': 1816, 'skin': 1817, 'asian': 1818, 'secur': 1819, 'golden': 1820, 'comfort': 1821, 'promot': 1822, 'core': 1823, 'organ': 1824, 'luke': 1825, 'cash': 1826, 'lucki': 1827, 'cheat': 1828, 'lower': 1829, 'dislik': 1830, 'associ': 1831, 'balanc': 1832, 'frequent': 1833, 'frankli': 1834, 'wing': 1835, 'contribut': 1836, 'degre': 1837, 'regret': 1838, 'devic': 1839, 'spell': 1840, 'forgiv': 1841, 'lake': 1842, 'print': 1843, 'sake': 1844, 'mass': 1845, 'betti': 1846, 'thoma': 1847, 'crack': 1848, 'gordon': 1849, 'unexpect': 1850, 'amateur': 1851, 'categori': 1852, 'depend': 1853, 'unfold': 1854, 'invit': 1855, 'grown': 1856, 'construct': 1857, 'intellectu': 1858, 'walter': 1859, 'condit': 1860, 'honor': 1861, 'matur': 1862, 'anna': 1863, 'grew': 1864, 'mirror': 1865, 'spectacular': 1866, 'sudden': 1867, 'sole': 1868, 'veteran': 1869, 'liner': 1870, 'experienc': 1871, 'demonstr': 1872, 'robin': 1873, 'grip': 1874, 'overli': 1875, 'gift': 1876, 'card': 1877, 'meanwhil': 1878, 'freedom': 1879, 'oliv': 1880, 'theori': 1881, 'crappi': 1882, 'subtitl': 1883, 'colour': 1884, 'unabl': 1885, 'brilliantli': 1886, 'section': 1887, 'circumst': 1888, 'sheriff': 1889, 'drew': 1890, 'matt': 1891, 'laughter': 1892, 'cook': 1893, 'parker': 1894, 'pile': 1895, 'path': 1896, 'sheer': 1897, 'altern': 1898, 'treatment': 1899, 'relief': 1900, 'hall': 1901, 'wander': 1902, 'defin': 1903, 'lawyer': 1904, 'sinatra': 1905, 'accident': 1906, 'dragon': 1907, 'captiv': 1908, 'hank': 1909, 'gratuit': 1910, 'moor': 1911, 'halloween': 1912, 'unintent': 1913, 'kung': 1914, 'barbara': 1915, 'k': 1916, 'wound': 1917, 'cowboy': 1918, 'jacki': 1919, 'wayn': 1920, 'broadway': 1921, 'surreal': 1922, 'statement': 1923, 'winter': 1924, 'canadian': 1925, 'spoof': 1926, 'cheer': 1927, 'gonna': 1928, 'compos': 1929, 'fish': 1930, 'fare': 1931, 'treasur': 1932, 'victor': 1933, 'unrealist': 1934, 'sensit': 1935, 'woodi': 1936, 'emerg': 1937, 'ran': 1938, 'driven': 1939, 'neighbor': 1940, 'sympathet': 1941, 'authent': 1942, 'expos': 1943, 'menac': 1944, 'glass': 1945, 'overlook': 1946, 'topic': 1947, 'michel': 1948, 'handsom': 1949, 'ancient': 1950, 'chief': 1951, 'gross': 1952, 'built': 1953, 'pleasant': 1954, 'nevertheless': 1955, 'network': 1956, 'feet': 1957, 'contemporari': 1958, 'comedian': 1959, 'russel': 1960, 'stranger': 1961, 'cinderella': 1962, 'blockbust': 1963, 'endless': 1964, 'consider': 1965, 'earn': 1966, 'gori': 1967, 'letter': 1968, 'miser': 1969, 'underr': 1970, 'brook': 1971, 'solv': 1972, 'switch': 1973, 'bullet': 1974, 'joseph': 1975, 'virgin': 1976, 'victoria': 1977, 'edward': 1978, 'convict': 1979, 'chosen': 1980, 'alex': 1981, 'cynic': 1982, 'scale': 1983, '0': 1984, 'scenario': 1985, 'gut': 1986, 'outrag': 1987, 'curs': 1988, 'com': 1989, 'sword': 1990, 'uk': 1991, 'wrap': 1992, 'proper': 1993, 'substanc': 1994, 'juli': 1995, 'screenwrit': 1996, 'driver': 1997, 'monkey': 1998, 'court': 1999, 'remov': 2000, 'bird': 2001, 'indic': 2002, 'par': 2003, 'inevit': 2004, 'consequ': 2005, 'loser': 2006, 'grave': 2007, 'naiv': 2008, 'rental': 2009, 'advertis': 2010, 'nanci': 2011, 'roy': 2012, 'slap': 2013, 'bridg': 2014, 'fatal': 2015, 'germani': 2016, 'invis': 2017, 'brave': 2018, 'le': 2019, 'anger': 2020, 'provok': 2021, 'footbal': 2022, 'ador': 2023, 'loui': 2024, 'anderson': 2025, 'chan': 2026, 'alcohol': 2027, 'ryan': 2028, 'professor': 2029, 'stumbl': 2030, 'willi': 2031, 'sharp': 2032, 'assassin': 2033, 'patrick': 2034, '1930': 2035, 'australian': 2036, 'bat': 2037, 'heck': 2038, 'refresh': 2039, 'strongli': 2040, 'trilog': 2041, 'eight': 2042, 'liber': 2043, 'amateurish': 2044, 'cell': 2045, 'deni': 2046, 'lousi': 2047, 'saturday': 2048, 'ape': 2049, 'sin': 2050, 'resid': 2051, 'san': 2052, 'vagu': 2053, 'justifi': 2054, 'defeat': 2055, 'terrifi': 2056, 'mini': 2057, 'creator': 2058, 'indi': 2059, 'sympathi': 2060, 'reput': 2061, 'expert': 2062, 'tediou': 2063, 'task': 2064, 'tabl': 2065, 'endur': 2066, 'prevent': 2067, 'offend': 2068, 'employ': 2069, 'trial': 2070, 'imit': 2071, 'basebal': 2072, 'rival': 2073, 'che': 2074, 'complaint': 2075, 'weekend': 2076, 'dig': 2077, 'beach': 2078, 'max': 2079, 'fairi': 2080, 'europ': 2081, 'pitch': 2082, 'purchas': 2083, 'risk': 2084, 'murphi': 2085, 'format': 2086, 'bite': 2087, 'reminisc': 2088, 'nois': 2089, 'hype': 2090, 'powel': 2091, 'tini': 2092, 'glimps': 2093, 'harsh': 2094, 'titan': 2095, 'till': 2096, 'prime': 2097, 'strip': 2098, '14': 2099, 'fals': 2100, 'north': 2101, 'asleep': 2102, 'descript': 2103, 'africa': 2104, 'destruct': 2105, 'revel': 2106, 'texa': 2107, 'spin': 2108, 'sitcom': 2109, 'surfac': 2110, 'uninterest': 2111, 'excess': 2112, 'inner': 2113, 'arrest': 2114, 'semi': 2115, 'dinosaur': 2116, 'argu': 2117, 'twin': 2118, 'controversi': 2119, 'makeup': 2120, 'hitchcock': 2121, 'massiv': 2122, 'maintain': 2123, 'reject': 2124, 'insist': 2125, 'expens': 2126, 'stare': 2127, 'ludicr': 2128, 'melodrama': 2129, 'kim': 2130, 'ideal': 2131, 'nail': 2132, 'supernatur': 2133, 'ga': 2134, 'press': 2135, 'subplot': 2136, 'atroci': 2137, 'columbo': 2138, 'host': 2139, 'erot': 2140, 'ala': 2141, 'forest': 2142, 'notch': 2143, 'identifi': 2144, 'dude': 2145, 'cant': 2146, 'presum': 2147, 'forgett': 2148, 'closer': 2149, 'method': 2150, 'plagu': 2151, 'character': 2152, 'crude': 2153, 'guest': 2154, 'lion': 2155, 'border': 2156, 'princess': 2157, 'ear': 2158, 'landscap': 2159, 'foster': 2160, 'beast': 2161, 'bound': 2162, 'birth': 2163, 'jungl': 2164, 'damag': 2165, 'previous': 2166, 'aunt': 2167, 'urban': 2168, 'pacino': 2169, 'storytel': 2170, 'accus': 2171, 'propaganda': 2172, 'chose': 2173, 'doll': 2174, 'guid': 2175, 'thirti': 2176, 'jess': 2177, 'emma': 2178, 'nude': 2179, 'pet': 2180, 'whoever': 2181, 'mainstream': 2182, '25': 2183, 'mate': 2184, 'warrior': 2185, 'merit': 2186, 'latest': 2187, 'upset': 2188, 'size': 2189, 'poster': 2190, 'exact': 2191, 'deadli': 2192, 'gritti': 2193, 'friday': 2194, 'cooper': 2195, 'contest': 2196, 'popul': 2197, 'contact': 2198, 'warner': 2199, 'settl': 2200, 'rough': 2201, 'ton': 2202, 'corps': 2203, 'citizen': 2204, '1990': 2205, 'wilson': 2206, 'sun': 2207, 'blend': 2208, 'buff': 2209, 'select': 2210, 'widow': 2211, 'rat': 2212, 'environ': 2213, 'pitt': 2214, 'bu': 2215, 'mgm': 2216, 'metal': 2217, 'overcom': 2218, 'alic': 2219, 'particip': 2220, 'link': 2221, 'lift': 2222, 'ted': 2223, 'guilti': 2224, 'revolut': 2225, '1960': 2226, 'afternoon': 2227, 'corner': 2228, 'accompani': 2229, 'prostitut': 2230, 'corpor': 2231, 'johnson': 2232, 'moron': 2233, 'exagger': 2234, 'matrix': 2235, 'friendli': 2236, 'instal': 2237, 'holm': 2238, 'leagu': 2239, 'multipl': 2240, 'clair': 2241, 'hood': 2242, 'doom': 2243, 'sincer': 2244, 'hip': 2245, 'grim': 2246, 'campi': 2247, 'aka': 2248, 'examin': 2249, 'string': 2250, 'sunday': 2251, 'advis': 2252, 'lugosi': 2253, 'defend': 2254, 'irish': 2255, 'junk': 2256, 'blah': 2257, 'tight': 2258, 'icon': 2259, 'shake': 2260, 'pro': 2261, 'rachel': 2262, 'confid': 2263, 'varieti': 2264, 'shut': 2265, 'jaw': 2266, 'directli': 2267, 'mexican': 2268, 'denni': 2269, 'medic': 2270, 'attach': 2271, 'goal': 2272, 'sullivan': 2273, 'terrorist': 2274, 'prior': 2275, 'duke': 2276, 'courag': 2277, 'truck': 2278, 'legendari': 2279, 'vietnam': 2280, 'sentenc': 2281, 'sarah': 2282, 'dean': 2283, 'breast': 2284, 'bourn': 2285, 'nose': 2286, 'yell': 2287, 'un': 2288, 'hong': 2289, 'split': 2290, 'donald': 2291, 'entri': 2292, 'behav': 2293, 'proceed': 2294, 'forth': 2295, 'stolen': 2296, 'jerk': 2297, 'concentr': 2298, 'gather': 2299, 'everywher': 2300, 'unconvinc': 2301, 'lifetim': 2302, 'buri': 2303, 'swim': 2304, 'confess': 2305, 'borrow': 2306, 'crush': 2307, 'deliveri': 2308, 'pan': 2309, 'spite': 2310, 'lip': 2311, 'turkey': 2312, 'california': 2313, 'julia': 2314, 'downright': 2315, 'offici': 2316, 'proud': 2317, 'hoffman': 2318, 'freeman': 2319, 'china': 2320, 'flight': 2321, 'reward': 2322, 'quest': 2323, 'sink': 2324, 'jon': 2325, 'worthwhil': 2326, 'notori': 2327, 'betray': 2328, 'encourag': 2329, 'fade': 2330, 'inept': 2331, 'jail': 2332, 'fabul': 2333, 'lazi': 2334, 'sir': 2335, 'bell': 2336, 'imageri': 2337, 'survivor': 2338, 'relev': 2339, 'storm': 2340, 'teeth': 2341, 'shower': 2342, 'lisa': 2343, 'retard': 2344, 'branagh': 2345, 'cousin': 2346, 'bag': 2347, 'susan': 2348, 'quirki': 2349, 'summari': 2350, 'toler': 2351, 'shark': 2352, 'mexico': 2353, 'bride': 2354, 'alright': 2355, 'finger': 2356, 'trade': 2357, 'hugh': 2358, 'facial': 2359, 'tremend': 2360, 'stab': 2361, 'bitter': 2362, 'hyster': 2363, 'pose': 2364, 'von': 2365, 'blown': 2366, 'ha': 2367, 'afterward': 2368, 'bone': 2369, 'ron': 2370, 'larri': 2371, 'address': 2372, 'cruel': 2373, 'christ': 2374, 'scheme': 2375, 'ned': 2376, 'distinct': 2377, 'swear': 2378, 'beg': 2379, 'thumb': 2380, 'pursu': 2381, 'feed': 2382, 'traci': 2383, 'snake': 2384, 'screw': 2385, 'tour': 2386, 'obscur': 2387, 'chair': 2388, 'occas': 2389, 'raw': 2390, 'photo': 2391, 'stomach': 2392, 'mechan': 2393, 'sidney': 2394, 'holiday': 2395, 'resist': 2396, 'heavili': 2397, 'hardi': 2398, 'necessarili': 2399, 'gruesom': 2400, 'render': 2401, 'cabin': 2402, 'argument': 2403, 'southern': 2404, 'chain': 2405, 'racist': 2406, 'philip': 2407, 'satan': 2408, 'understood': 2409, 'indulg': 2410, 'india': 2411, 'obnoxi': 2412, 'integr': 2413, 'stalk': 2414, 'outfit': 2415, 'lay': 2416, 'belov': 2417, 'fourth': 2418, 'forgot': 2419, 'midnight': 2420, 'tongu': 2421, 'pregnant': 2422, 'magazin': 2423, 'restor': 2424, 'deeper': 2425, 'inhabit': 2426, '17': 2427, 'garden': 2428, 'slapstick': 2429, 'ticket': 2430, 'carol': 2431, 'brad': 2432, 'devot': 2433, 'incid': 2434, 'shoe': 2435, 'lincoln': 2436, 'divorc': 2437, 'elizabeth': 2438, 'underground': 2439, 'guarante': 2440, 'anticip': 2441, 'disbelief': 2442, 'benefit': 2443, 'lili': 2444, 'maria': 2445, 'sandler': 2446, 'greater': 2447, 'capit': 2448, 'bbc': 2449, 'amazingli': 2450, 'cring': 2451, 'creation': 2452, 'princip': 2453, 'slave': 2454, 'explod': 2455, 'mildli': 2456, 'funnier': 2457, 'introduct': 2458, 'halfway': 2459, 'lesli': 2460, 'extraordinari': 2461, 'advantag': 2462, 'extent': 2463, 'wreck': 2464, 'overwhelm': 2465, 'enhanc': 2466, 'punish': 2467, 'transfer': 2468, 'text': 2469, 'tap': 2470, 'dynam': 2471, 'lane': 2472, 'jessica': 2473, 'plant': 2474, 'east': 2475, 'error': 2476, 'horrif': 2477, 'lo': 2478, 'deliber': 2479, 'preview': 2480, 'vacat': 2481, 'sophist': 2482, 'appli': 2483, 'ensu': 2484, '2000': 2485, 'miscast': 2486, 'basi': 2487, 'miller': 2488, 'homosexu': 2489, 'vincent': 2490, 'via': 2491, 'bollywood': 2492, 'measur': 2493, 'sleazi': 2494, 'reed': 2495, 'elev': 2496, 'spoken': 2497, 'extend': 2498, 'uncomfort': 2499, 'steel': 2500, 'mansion': 2501, 'goofi': 2502, 'fix': 2503, 'hippi': 2504, 'breathtak': 2505, 'stanley': 2506, 'beer': 2507, 'daili': 2508, 'mous': 2509, 'overact': 2510, 'assign': 2511, 'conceiv': 2512, 'dentist': 2513, 'alter': 2514, 'blair': 2515, 'melt': 2516, 'cathol': 2517, 'savag': 2518, 'subsequ': 2519, 'burt': 2520, 'succe': 2521, 'properli': 2522, 'sacrific': 2523, 'nowaday': 2524, 'oppos': 2525, 'everyday': 2526, 'carpent': 2527, 'inspector': 2528, 'laura': 2529, 'circl': 2530, 'block': 2531, 'massacr': 2532, 'neck': 2533, 'mob': 2534, 'grey': 2535, 'pool': 2536, 'concert': 2537, 'lesser': 2538, 'christi': 2539, 'access': 2540, 'fay': 2541, 'seagal': 2542, 'fallen': 2543, 'portrait': 2544, 'isol': 2545, 'usa': 2546, 'competit': 2547, 'chees': 2548, 'sinist': 2549, 'jewish': 2550, 'relax': 2551, 'react': 2552, 'jake': 2553, 'chop': 2554, '2006': 2555, 'nonetheless': 2556, 'immens': 2557, 'stink': 2558, 'ironi': 2559, 'nine': 2560, 'suitabl': 2561, 'appal': 2562, 'creep': 2563, 'lyric': 2564, 'spiritu': 2565, 'franchis': 2566, 'rage': 2567, 'spring': 2568, 'reduc': 2569, 'needless': 2570, 'retir': 2571, 'sold': 2572, 'showcas': 2573, 'adopt': 2574, 'navi': 2575, 'shirt': 2576, 'user': 2577, 'luci': 2578, 'nut': 2579, 'zone': 2580, 'per': 2581, 'bath': 2582, 'digit': 2583, 'nurs': 2584, 'asham': 2585, 'jay': 2586, 'bulli': 2587, 'uninspir': 2588, 'stanwyck': 2589, 'upper': 2590, 'illustr': 2591, 'amongst': 2592, 'laid': 2593, '1940': 2594, '2001': 2595, 'broadcast': 2596, 'sutherland': 2597, 'oddli': 2598, 'aspir': 2599, 'fulfil': 2600, 'baker': 2601, 'stylish': 2602, 'disguis': 2603, 'throat': 2604, 'brando': 2605, 'pound': 2606, 'pride': 2607, 'wanna': 2608, 'impli': 2609, 'wwii': 2610, 'em': 2611, 'endear': 2612, '18': 2613, 'nobl': 2614, 'neighborhood': 2615, 'thief': 2616, 'shift': 2617, 'shoulder': 2618, 'tens': 2619, '16': 2620, 'coher': 2621, 'distribut': 2622, 'dawn': 2623, 'bo': 2624, 'cinematograph': 2625, 'bett': 2626, 'prop': 2627, 'diseas': 2628, 'rochest': 2629, 'albeit': 2630, 'dinner': 2631, 'shout': 2632, 'function': 2633, 'knife': 2634, 'surf': 2635, 'snow': 2636, 'forti': 2637, 'poignant': 2638, 'silenc': 2639, 'contract': 2640, 'matthau': 2641, 'rebel': 2642, 'wash': 2643, 'cannib': 2644, 'mindless': 2645, 'cancel': 2646, 'instinct': 2647, 'chuck': 2648, 'duti': 2649, 'henc': 2650, 'heat': 2651, 'silver': 2652, 'derek': 2653, 'internet': 2654, 'elvira': 2655, 'horrend': 2656, 'proof': 2657, 'eeri': 2658, 'widmark': 2659, 'reunion': 2660, 'height': 2661, 'pie': 2662, 'incoher': 2663, 'greatli': 2664, 'musician': 2665, 'glori': 2666, 'repetit': 2667, 'spielberg': 2668, 'innov': 2669, 'absorb': 2670, 'mill': 2671, 'etern': 2672, 'elvi': 2673, 'premier': 2674, 'alik': 2675, 'neat': 2676, 'torn': 2677, 'lovabl': 2678, 'announc': 2679, 'britain': 2680, 'bang': 2681, 'homag': 2682, 'racism': 2683, 'blank': 2684, 'diamond': 2685, 'crisi': 2686, 'wealthi': 2687, 'redempt': 2688, 'precis': 2689, 'burton': 2690, 'horrifi': 2691, 'trite': 2692, 'fbi': 2693, 'itali': 2694, 'nelson': 2695, 'infam': 2696, 'wilder': 2697, 'happili': 2698, 'dedic': 2699, 'ensembl': 2700, 'chaplin': 2701, 'flop': 2702, 'hammer': 2703, 'parallel': 2704, 'pat': 2705, 'resolut': 2706, 'helen': 2707, 'streisand': 2708, 'oil': 2709, 'st': 2710, 'plastic': 2711, 'broke': 2712, 'triumph': 2713, 'factori': 2714, 'mar': 2715, 'disagre': 2716, 'carter': 2717, 'conclud': 2718, 'cube': 2719, 'row': 2720, 'climb': 2721, 'march': 2722, 'rocket': 2723, 'chuckl': 2724, 'own': 2725, 'fighter': 2726, 'weight': 2727, 'bush': 2728, 'vega': 2729, 'lust': 2730, 'wherea': 2731, 'dump': 2732, 'meaning': 2733, 'enorm': 2734, 'kurt': 2735, 'sensibl': 2736, 'mst3k': 2737, 'thug': 2738, 'spare': 2739, 'unforgett': 2740, 'dane': 2741, 'luca': 2742, 'boot': 2743, 'fifti': 2744, 'engin': 2745, 'brand': 2746, 'butt': 2747, 'adequ': 2748, 'caricatur': 2749, 'threat': 2750, 'dear': 2751, 'difficulti': 2752, 'karloff': 2753, 'stress': 2754, 'arnold': 2755, 'rap': 2756, 'bobbi': 2757, 'journalist': 2758, 'ralph': 2759, 'arrog': 2760, 'secretari': 2761, 'elabor': 2762, 'flynn': 2763, 'polish': 2764, 'swing': 2765, 'fest': 2766, 'barri': 2767, 'ego': 2768, 'homeless': 2769, 'hamlet': 2770, 'conspiraci': 2771, 'float': 2772, 'grate': 2773, 'simpson': 2774, 'resort': 2775, 'tool': 2776, 'puppet': 2777, 'induc': 2778, 'fanci': 2779, 'arrang': 2780, 'spike': 2781, 'unbear': 2782, 'exercis': 2783, 'pig': 2784, 'guilt': 2785, 'cruis': 2786, 'phillip': 2787, 'boll': 2788, 'basement': 2789, 'tribut': 2790, 'choreograph': 2791, 'muppet': 2792, 'babe': 2793, 'medium': 2794, 'puzzl': 2795, 'korean': 2796, 'stan': 2797, 'file': 2798, 'toilet': 2799, 'layer': 2800, 'tower': 2801, 'fianc': 2802, 'ward': 2803, 'document': 2804, '24': 2805, 'editor': 2806, 'scarecrow': 2807, 'ham': 2808, 'item': 2809, 'slip': 2810, 'minim': 2811, 'superfici': 2812, 'transit': 2813, 'spark': 2814, 'territori': 2815, 'philosoph': 2816, 'glover': 2817, 'inexplic': 2818, 'catherin': 2819, 'denzel': 2820, 'assur': 2821, 'persona': 2822, 'portion': 2823, 'larger': 2824, 'orient': 2825, 'librari': 2826, 'doc': 2827, 'slaughter': 2828, 'boredom': 2829, 'sneak': 2830, 'pg': 2831, 'walken': 2832, 'wolf': 2833, 'dorothi': 2834, 'owe': 2835, 'jeremi': 2836, 'financi': 2837, 'shi': 2838, 'jet': 2839, 'curti': 2840, 'ban': 2841, 'multi': 2842, 'ambigu': 2843, 'eleph': 2844, 'whale': 2845, 'hudson': 2846, 'backdrop': 2847, 'metaphor': 2848, 'profound': 2849, 'cusack': 2850, 'implaus': 2851, 'notion': 2852, 'hack': 2853, 'elsewher': 2854, 'rave': 2855, '2005': 2856, 'ultra': 2857, 'stiff': 2858, 'union': 2859, 'birthday': 2860, 'gadget': 2861, 'viru': 2862, 'eastwood': 2863, 'reader': 2864, 'hawk': 2865, 'pad': 2866, 'squar': 2867, 'bibl': 2868, 'newspap': 2869, 'canada': 2870, '1st': 2871, 'slight': 2872, 'disc': 2873, 'poison': 2874, 'afford': 2875, 'superhero': 2876, 'deriv': 2877, 'distanc': 2878, 'urg': 2879, 'lloyd': 2880, 'eva': 2881, 'spread': 2882, 'skit': 2883, 'charisma': 2884, 'button': 2885, 'essenc': 2886, 'montag': 2887, 'cure': 2888, 'huh': 2889, 'drown': 2890, 'health': 2891, 'sadist': 2892, 'restaur': 2893, 'heston': 2894, 'maniac': 2895, 'scoobi': 2896, 'peak': 2897, 'estat': 2898, 'companion': 2899, 'fetch': 2900, 'dealt': 2901, 'gradual': 2902, 'lab': 2903, 'godfath': 2904, 'invest': 2905, 'muslim': 2906, 'countless': 2907, 'miik': 2908, 'subtleti': 2909, 'servant': 2910, 'cup': 2911, 'alli': 2912, 'ritter': 2913, 'tea': 2914, 'gothic': 2915, 'kane': 2916, 'salli': 2917, 'heroic': 2918, 'iii': 2919, 'electr': 2920, 'briefli': 2921, 'elect': 2922, 'charismat': 2923, 'admittedli': 2924, 'wannab': 2925, 'nuanc': 2926, 'bud': 2927, 'toss': 2928, 'neil': 2929, 'ingredi': 2930, 'reel': 2931, 'resourc': 2932, 'tender': 2933, 'grandmoth': 2934, 'cole': 2935, 'reev': 2936, 'mild': 2937, 'shall': 2938, 'stronger': 2939, 'dawson': 2940, 'stood': 2941, 'pit': 2942, 'poverti': 2943, 'carrey': 2944, 'mafia': 2945, 'gate': 2946, 'punk': 2947, 'label': 2948, 'pauli': 2949, 'kubrick': 2950, 'fond': 2951, 'cardboard': 2952, 'ian': 2953, 'outcom': 2954, 'bakshi': 2955, 'useless': 2956, 'assault': 2957, 'updat': 2958, 'smash': 2959, 'smooth': 2960, 'burst': 2961, 'terri': 2962, 'cox': 2963, 'astair': 2964, 'easier': 2965, 'tag': 2966, 'increasingli': 2967, 'qualifi': 2968, 'resolv': 2969, 'exchang': 2970, 'coincid': 2971, 'vulner': 2972, 'samurai': 2973, 'divers': 2974, 'vari': 2975, 'fist': 2976, '2002': 2977, 'melodramat': 2978, 'sketch': 2979, 'rex': 2980, 'insert': 2981, 'reynold': 2982, 'templ': 2983, 'brillianc': 2984, 'scratch': 2985, 'conveni': 2986, 'luckili': 2987, 'be': 2988, 'blast': 2989, 'tame': 2990, 'suspend': 2991, 'farm': 2992, 'seventi': 2993, 'matthew': 2994, 'ambiti': 2995, 'pin': 2996, 'strictli': 2997, 'hamilton': 2998, 'nuclear': 2999, 'fisher': 3000, 'meat': 3001, 'gotta': 3002, 'soprano': 3003, 'jami': 3004, 'coach': 3005, 'walker': 3006, 'instantli': 3007, 'grasp': 3008, 'eccentr': 3009, 'brosnan': 3010, 'recreat': 3011, 'worthless': 3012, 'clock': 3013, 'spooki': 3014, 'kudo': 3015, 'monk': 3016, 'discoveri': 3017, 'joey': 3018, 'empir': 3019, 'struck': 3020, 'timeless': 3021, 'ninja': 3022, 'revers': 3023, 'closet': 3024, 'cave': 3025, 'butcher': 3026, 'convolut': 3027, 'fifteen': 3028, 'sloppi': 3029, 'eighti': 3030, 'selfish': 3031, 'bleak': 3032, 'cliff': 3033, 'declar': 3034, 'importantli': 3035, 'mitchel': 3036, 'seller': 3037, 'norman': 3038, 'pal': 3039, 'miracl': 3040, 'clown': 3041, 'communist': 3042, 'sidekick': 3043, 'partli': 3044, 'inconsist': 3045, 'wipe': 3046, 'evok': 3047, 'gray': 3048, 'australia': 3049, 'lifestyl': 3050, 'seed': 3051, 'debat': 3052, 'ho': 3053, 'piano': 3054, 'psychiatrist': 3055, 'superbl': 3056, 'chew': 3057, '45': 3058, 'aforement': 3059, 'cheek': 3060, 'destin': 3061, 'enthusiast': 3062, 'farc': 3063, 'websit': 3064, 'flawless': 3065, 'stoog': 3066, 'splatter': 3067, 'dire': 3068, 'wrestl': 3069, 'incompet': 3070, 'bash': 3071, 'wick': 3072, 'regardless': 3073, 'slice': 3074, 'soviet': 3075, 'pressur': 3076, 'emili': 3077, 'drivel': 3078, 'directori': 3079, 'abc': 3080, 'anni': 3081, 'dash': 3082, 'akshay': 3083, 'kitchen': 3084, 'glow': 3085, 'flower': 3086, 'increas': 3087, 'helicopt': 3088, 'seduc': 3089, 'distant': 3090, 'duo': 3091, 'doo': 3092, 'curios': 3093, 'lou': 3094, 'pleasantli': 3095, 'cameron': 3096, 'dave': 3097, 'mann': 3098, 'jar': 3099, 'suppli': 3100, 'beaten': 3101, 'artifici': 3102, 'cagney': 3103, 'prize': 3104, 'boil': 3105, 'ken': 3106, 'chapter': 3107, 'recov': 3108, 'judi': 3109, 'cia': 3110, 'blob': 3111, 'combat': 3112, 'ellen': 3113, 'craig': 3114, 'goldberg': 3115, 'laurel': 3116, 'glenn': 3117, 'francisco': 3118, 'eleg': 3119, 'hop': 3120, 'turner': 3121, 'panic': 3122, 'splendid': 3123, 'craven': 3124, 'psychot': 3125, 'web': 3126, 'drunken': 3127, 'favour': 3128, 'perri': 3129, 'ranger': 3130, 'shortli': 3131, 'modesti': 3132, 'alexand': 3133, 'min': 3134, 'fx': 3135, 'rid': 3136, 'gentl': 3137, 'falk': 3138, 'flip': 3139, 'graduat': 3140, 'ruth': 3141, 'wizard': 3142, 'gandhi': 3143, 'philosophi': 3144, 'plausibl': 3145, '20th': 3146, 'greek': 3147, 'slightest': 3148, 'hatr': 3149, 'futurist': 3150, 'knight': 3151, 'preciou': 3152, 'tall': 3153, 'we': 3154, 'dracula': 3155, 'felix': 3156, 'ocean': 3157, 'lend': 3158, 'manhattan': 3159, 'legal': 3160, 'fund': 3161, 'jealou': 3162, 'harm': 3163, 'unpleas': 3164, 'holi': 3165, 'nod': 3166, 'scientif': 3167, 'explicit': 3168, 'giallo': 3169, 'childish': 3170, 'ami': 3171, 'thread': 3172, 'overdon': 3173, 'reviv': 3174, 'forbidden': 3175, 'digniti': 3176, 'bless': 3177, 'mock': 3178, 'tank': 3179, '99': 3180, 'thick': 3181, 'nerv': 3182, 'awe': 3183, 'broad': 3184, 'eve': 3185, 'mel': 3186, 'elderli': 3187, 'yesterday': 3188, 'torment': 3189, 'margaret': 3190, 'awaken': 3191, '2004': 3192, 'pirat': 3193, 'unwatch': 3194, 'fever': 3195, 'repeatedli': 3196, 'verhoeven': 3197, 'absenc': 3198, 'bin': 3199, 'lean': 3200, 'stiller': 3201, 'automat': 3202, 'launch': 3203, 'ambit': 3204, 'griffith': 3205, 'uniform': 3206, 'publish': 3207, 'custom': 3208, 'acclaim': 3209, 'roman': 3210, 'royal': 3211, 'eas': 3212, 'kay': 3213, 'politician': 3214, 'ah': 3215, 'timothi': 3216, 'romero': 3217, 'rivet': 3218, 'pulp': 3219, 'homicid': 3220, 'phrase': 3221, 'bathroom': 3222, 'pierc': 3223, 'termin': 3224, 'darker': 3225, 'antic': 3226, 'foul': 3227, 'warren': 3228, 'tomato': 3229, 'gabriel': 3230, 'sunshin': 3231, 'stinker': 3232, 'transport': 3233, 'wallac': 3234, 'purpl': 3235, 'crook': 3236, 'ought': 3237, 'brazil': 3238, 'pray': 3239, 'hollow': 3240, 'juvenil': 3241, 'sixti': 3242, 'packag': 3243, 'revolutionari': 3244, 'marin': 3245, 'contrari': 3246, 'donna': 3247, 'viciou': 3248, 'q': 3249, 'horrid': 3250, 'awak': 3251, 'kenneth': 3252, 'evolv': 3253, 'album': 3254, 'saint': 3255, 'li': 3256, 'eyr': 3257, 'karen': 3258, 'rambo': 3259, 'choreographi': 3260, '2003': 3261, 'coloni': 3262, 'prom': 3263, 'conserv': 3264, 'blade': 3265, 'option': 3266, 'dose': 3267, 'boast': 3268, 'overr': 3269, 'defi': 3270, 'mummi': 3271, 'nerd': 3272, 'mildr': 3273, 'beatti': 3274, 'ireland': 3275, 'twelv': 3276, 'stole': 3277, 'ramon': 3278, 'candid': 3279, 'kapoor': 3280, 'trio': 3281, 'astonish': 3282, 'global': 3283, 'funer': 3284, 'jazz': 3285, 'flame': 3286, 'confirm': 3287, 'protest': 3288, 'altman': 3289, 'collabor': 3290, 'detract': 3291, 'fulci': 3292, 'kirk': 3293, 'natali': 3294, 'bottl': 3295, 'leap': 3296, 'tommi': 3297, 'shade': 3298, 'spit': 3299, 'whip': 3300, 'nicholson': 3301, 'yellow': 3302, 'enterpris': 3303, 'delici': 3304, 'bull': 3305, 'audio': 3306, 'blake': 3307, 'mystic': 3308, 'racial': 3309, 'destini': 3310, 'staff': 3311, 'swedish': 3312, 'enchant': 3313, 'merci': 3314, 'todd': 3315, 'threw': 3316, 'altogeth': 3317, 'inherit': 3318, 'adolesc': 3319, 'pseudo': 3320, 'vivid': 3321, 'visibl': 3322, 'reunit': 3323, 'meaningless': 3324, 'neo': 3325, 'harder': 3326, 'bedroom': 3327, 'fonda': 3328, 'popcorn': 3329, 'await': 3330, 'exhibit': 3331, 'suspici': 3332, 'bust': 3333, 'tip': 3334, 'synopsi': 3335, 'fanat': 3336, 'roommat': 3337, 'befriend': 3338, 'respond': 3339, 'madonna': 3340, 'lemmon': 3341, 'reserv': 3342, 'decor': 3343, 'atlanti': 3344, 'moodi': 3345, 'voight': 3346, 'uneven': 3347, 'kennedi': 3348, 'ruthless': 3349, 'leonard': 3350, 'crocodil': 3351, 'lawrenc': 3352, 'edi': 3353, 'wire': 3354, 'jew': 3355, 'clint': 3356, 'bargain': 3357, 'clumsi': 3358, 'ventur': 3359, '2007': 3360, 'bold': 3361, 'garner': 3362, 'incident': 3363, 'centr': 3364, 'audit': 3365, 'dimens': 3366, 'abysm': 3367, 'bradi': 3368, 'chao': 3369, 'voyag': 3370, 'holli': 3371, 'rural': 3372, 'unsettl': 3373, 'carl': 3374, 'palma': 3375, 'timon': 3376, 'cari': 3377, '2nd': 3378, 'humili': 3379, 'troop': 3380, 'nearbi': 3381, 'cd': 3382, 'versu': 3383, 'immigr': 3384, 'trail': 3385, 'elimin': 3386, 'hart': 3387, 'characterist': 3388, 'poetic': 3389, 'wealth': 3390, 'tiger': 3391, 'acknowledg': 3392, 'echo': 3393, 'imperson': 3394, 'cuba': 3395, 'daddi': 3396, 'neglect': 3397, 'mall': 3398, 'ant': 3399, 'lit': 3400, 'infect': 3401, 'marshal': 3402, 'pun': 3403, 'mickey': 3404, 'celluloid': 3405, 'prejudic': 3406, 'domest': 3407, 'saga': 3408, 'jeffrey': 3409, 'paus': 3410, 'mistaken': 3411, 'repuls': 3412, 'solo': 3413, 'homer': 3414, 'collaps': 3415, 'gear': 3416, 'coat': 3417, 'hbo': 3418, 'equip': 3419, 'tribe': 3420, 'assembl': 3421, 'interrupt': 3422, 'cake': 3423, 'chest': 3424, 'milk': 3425, 'pant': 3426, 'leon': 3427, 'undoubtedli': 3428, 'inan': 3429, 'sore': 3430, 'inappropri': 3431, 'coffe': 3432, 'apolog': 3433, 'harvey': 3434, 'promin': 3435, '1996': 3436, 'ginger': 3437, 'olivi': 3438, 'brooklyn': 3439, 'trace': 3440, 'jenni': 3441, 'primari': 3442, 'furthermor': 3443, 'aveng': 3444, 'devast': 3445, 'retain': 3446, 'maggi': 3447, 'consum': 3448, 'pen': 3449, 'humbl': 3450, 'florida': 3451, 'airplan': 3452, 'solut': 3453, 'instant': 3454, 'highest': 3455, 'colleagu': 3456, 'exot': 3457, 'embrac': 3458, 'colonel': 3459, 'pot': 3460, 'polanski': 3461, 'institut': 3462, 'vulgar': 3463, 'gender': 3464, 'principl': 3465, 'bowl': 3466, 'sale': 3467, 'smaller': 3468, '1999': 3469, 'ya': 3470, 'linda': 3471, 'outer': 3472, 'illog': 3473, 'disabl': 3474, 'strain': 3475, 'descend': 3476, 'wive': 3477, 'poke': 3478, 'dian': 3479, 'godzilla': 3480, 'cope': 3481, 'seduct': 3482, 'rick': 3483, 'dutch': 3484, '3rd': 3485, 'dud': 3486, 'scope': 3487, 'devoid': 3488, 'gloriou': 3489, 'predecessor': 3490, 'lol': 3491, 'dive': 3492, 'mixtur': 3493, 'hal': 3494, 'primarili': 3495, 'blatant': 3496, 'secondli': 3497, 'cue': 3498, 'beneath': 3499, 'rabbit': 3500, 'glamor': 3501, 'bubbl': 3502, 'gundam': 3503, 'vast': 3504, 'yard': 3505, 'inferior': 3506, 'invas': 3507, 'talki': 3508, 'countrysid': 3509, 'senseless': 3510, 'disjoint': 3511, 'april': 3512, 'trademark': 3513, 'shelf': 3514, 'breed': 3515, 'alert': 3516, 'grinch': 3517, 'shirley': 3518, 'et': 3519, 'hideou': 3520, 'aggress': 3521, 'museum': 3522, 'myer': 3523, 'simplist': 3524, 'z': 3525, 'arab': 3526, 'pearl': 3527, 'alfr': 3528, 'casual': 3529, 'domino': 3530, 'garbo': 3531, 'streep': 3532, 'unhappi': 3533, 'hardcor': 3534, 'applaud': 3535, 'experiment': 3536, 'hopeless': 3537, 'khan': 3538, 'vanish': 3539, 'sh': 3540, 'robberi': 3541, 'mail': 3542, 'disgrac': 3543, 'uwe': 3544, 'mayor': 3545, 'loyal': 3546, 'defens': 3547, 'obtain': 3548, 'illeg': 3549, 'boom': 3550, 'slide': 3551, 'oz': 3552, 'stellar': 3553, 'acid': 3554, 'robinson': 3555, 'maci': 3556, 'stir': 3557, 'rendit': 3558, 'stack': 3559, 'tempt': 3560, 'emphasi': 3561, 'tenant': 3562, 'diana': 3563, 'psychic': 3564, 'fri': 3565, 'counter': 3566, 'incomprehens': 3567, 'span': 3568, 'soccer': 3569, 'hartley': 3570, 'declin': 3571, 'dismiss': 3572, 'rifl': 3573, 'blew': 3574, 'berlin': 3575, 'amanda': 3576, 'grandfath': 3577, 'craze': 3578, 'recruit': 3579, 'topless': 3580, 'spider': 3581, 'scroog': 3582, 'dicken': 3583, 'wont': 3584, 'faster': 3585, 'shed': 3586, 'intim': 3587, 'bitch': 3588, 'woo': 3589, 'goer': 3590, 'parad': 3591, 'resurrect': 3592, 'trashi': 3593, 'ration': 3594, 'justin': 3595, 'riot': 3596, 'wet': 3597, 'sibl': 3598, 'ethnic': 3599, 'sympath': 3600, 'niro': 3601, 'revolt': 3602, 'shaw': 3603, 'porno': 3604, 'lumet': 3605, 'ballet': 3606, 'gap': 3607, 'worm': 3608, 'biographi': 3609, 'rider': 3610, 'hopper': 3611, 'farmer': 3612, 'andr': 3613, 'lena': 3614, 'slick': 3615, 'mario': 3616, 'steam': 3617, 'choru': 3618, 'feminist': 3619, 'ensur': 3620, 'region': 3621, 'weakest': 3622, 'patriot': 3623, 'honesti': 3624, 'jonathan': 3625, 'wheel': 3626, 'eager': 3627, 'enlighten': 3628, 'dealer': 3629, '00': 3630, 'partial': 3631, 'hesit': 3632, 'immort': 3633, 'unreal': 3634, 'nephew': 3635, 'commend': 3636, 'wendi': 3637, 'sappi': 3638, 'util': 3639, 'prequel': 3640, 'morri': 3641, 'charlott': 3642, 'blunt': 3643, 'vice': 3644, 'confin': 3645, 'hung': 3646, 'sandra': 3647, 'properti': 3648, 'snap': 3649, 'mutant': 3650, 'macarthur': 3651, 'victori': 3652, 'safeti': 3653, 'owen': 3654, 'similarli': 3655, 'composit': 3656, 'wore': 3657, 'nostalg': 3658, 'kingdom': 3659, 'leo': 3660, 'psychopath': 3661, 'skull': 3662, 'repress': 3663, 'franco': 3664, 'rope': 3665, 'tail': 3666, 'valuabl': 3667, 'rambl': 3668, 'emperor': 3669, 'bonu': 3670, 'speci': 3671, '1972': 3672, 'snl': 3673, 'bow': 3674, 'whoopi': 3675, 'strand': 3676, 'compens': 3677, 'bergman': 3678, 'montana': 3679, 'recycl': 3680, 'tad': 3681, 'compass': 3682, 'nervou': 3683, 'dust': 3684, 'bumbl': 3685, 'acquir': 3686, 'deed': 3687, 'miseri': 3688, 'campbel': 3689, 'exit': 3690, 'del': 3691, 'drain': 3692, 'despair': 3693, 'pattern': 3694, 'latin': 3695, 'farrel': 3696, 'repli': 3697, 'thru': 3698, 'kyle': 3699, 'cg': 3700, 'heartbreak': 3701, 'drum': 3702, 'rocki': 3703, 'dalton': 3704, 'hyde': 3705, 'wacki': 3706, 'mistress': 3707, 'pour': 3708, 'contempl': 3709, 'rotten': 3710, 'olli': 3711, 'carradin': 3712, 'radic': 3713, 'bleed': 3714, 'oppress': 3715, 'slug': 3716, 'martian': 3717, 'chess': 3718, 'orson': 3719, 'rapist': 3720, 'gimmick': 3721, 'airport': 3722, 'percept': 3723, '35': 3724, 'tonight': 3725, 'gal': 3726, 'downhil': 3727, 'romp': 3728, 'roth': 3729, 'da': 3730, 'preach': 3731, 'belt': 3732, 'stilt': 3733, 'shelley': 3734, 'taught': 3735, 'arc': 3736, '1983': 3737, 'slash': 3738, 'programm': 3739, 'pursuit': 3740, 'attorney': 3741, 'champion': 3742, 'mislead': 3743, 'tackl': 3744, 'dazzl': 3745, 'melodi': 3746, 'pervers': 3747, 'unpredict': 3748, 'arguabl': 3749, 'banal': 3750, 'edgar': 3751, 'tooth': 3752, 'paltrow': 3753, 'heal': 3754, 'pervert': 3755, 'tiresom': 3756, 'gambl': 3757, 'plight': 3758, 'uplift': 3759, 'graham': 3760, 'closest': 3761, 'duval': 3762, 'conneri': 3763, 'sensat': 3764, 'rubi': 3765, 'vengeanc': 3766, 'employe': 3767, 'passeng': 3768, 'maid': 3769, 'cleverli': 3770, 'bela': 3771, 'virginia': 3772, 'raymond': 3773, 'mesmer': 3774, 'marti': 3775, 'poem': 3776, 'vocal': 3777, 'orang': 3778, 'chicken': 3779, 'franki': 3780, 'dixon': 3781, '1968': 3782, 'crystal': 3783, 'inject': 3784, 'scottish': 3785, 'amitabh': 3786, 'habit': 3787, 'paranoia': 3788, 'extens': 3789, 'iran': 3790, 'climact': 3791, 'secretli': 3792, 'abraham': 3793, 'mute': 3794, 'numb': 3795, 'gerard': 3796, 'swallow': 3797, 'calm': 3798, 'giggl': 3799, 'convincingli': 3800, 'volum': 3801, 'whine': 3802, 'monologu': 3803, 'profan': 3804, 'tube': 3805, 'engross': 3806, 'suffic': 3807, 'clone': 3808, 'yawn': 3809, 'quarter': 3810, 'lundgren': 3811, 'outing': 3812, 'bay': 3813, 'sirk': 3814, 'pokemon': 3815, 'dispos': 3816, 'nichola': 3817, 'chicago': 3818, 'septemb': 3819, 'fed': 3820, 'expand': 3821, 'frankenstein': 3822, 'underst': 3823, 'plod': 3824, 'grotesqu': 3825, 'poetri': 3826, 'backward': 3827, 'surpass': 3828, 'linger': 3829, 'bend': 3830, 'meander': 3831, 'junior': 3832, 'abort': 3833, 'profess': 3834, 'ethan': 3835, 'trend': 3836, 'taxi': 3837, 'earl': 3838, 'lowest': 3839, 'franci': 3840, 'austen': 3841, 'spock': 3842, 'im': 3843, 'richardson': 3844, 'household': 3845, 'cannon': 3846, 'dysfunct': 3847, 'nostalgia': 3848, 'descent': 3849, 'lure': 3850, 'mundan': 3851, 'simplic': 3852, 'muddl': 3853, 'hum': 3854, 'compliment': 3855, 'instrument': 3856, 'waitress': 3857, 'literatur': 3858, 'myth': 3859, 'sue': 3860, 'rant': 3861, 'rubber': 3862, 'eugen': 3863, 'econom': 3864, 'tourist': 3865, 'spoke': 3866, 'catchi': 3867, 'stallon': 3868, 'greedi': 3869, 'der': 3870, 'cent': 3871, 'recognis': 3872, 'insur': 3873, 'crucial': 3874, 'bacal': 3875, 'stale': 3876, 'duck': 3877, 'coast': 3878, 'hello': 3879, 'equival': 3880, 'map': 3881, 'recognit': 3882, 'dement': 3883, 'eaten': 3884, 'sissi': 3885, 'furi': 3886, 'alongsid': 3887, 'omen': 3888, 'firstli': 3889, 'occupi': 3890, 'mankind': 3891, 'irrelev': 3892, 'mortal': 3893, 'june': 3894, 'flee': 3895, 'carel': 3896, 'deaf': 3897, 'randi': 3898, 'phantom': 3899, 'molli': 3900, 'damon': 3901, 'dictat': 3902, 'lang': 3903, 'louis': 3904, 'phoni': 3905, 'likewis': 3906, 'drake': 3907, '1973': 3908, 'freez': 3909, 'rude': 3910, 'lengthi': 3911, 'bump': 3912, 'bike': 3913, 'dreari': 3914, 'cyborg': 3915, 'loyalti': 3916, 'daisi': 3917, 'blackmail': 3918, 'ashley': 3919, 'wisdom': 3920, 'damm': 3921, 'grayson': 3922, 'onlin': 3923, 'labor': 3924, 'antwon': 3925, 'twilight': 3926, 'heel': 3927, 'distinguish': 3928, 'buffalo': 3929, 'rooney': 3930, 'biko': 3931, 'newli': 3932, 'reign': 3933, 'boxer': 3934, 'proce': 3935, 'prey': 3936, 'emphas': 3937, 'chronicl': 3938, 'interior': 3939, 'keith': 3940, 'incorpor': 3941, 'vein': 3942, 'basketbal': 3943, 'inher': 3944, 'baddi': 3945, 'startl': 3946, 'butler': 3947, 'pink': 3948, 'worn': 3949, 'sailor': 3950, 'barrymor': 3951, 'ridden': 3952, 'unorigin': 3953, 'provoc': 3954, 'attribut': 3955, 'nineti': 3956, 'analysi': 3957, 'exposur': 3958, 'approv': 3959, 'tunnel': 3960, 'meg': 3961, 'robbin': 3962, 'predat': 3963, 'underli': 3964, 'nicol': 3965, 'condemn': 3966, 'undeni': 3967, 'stalker': 3968, 'unrel': 3969, 'bunni': 3970, 'walsh': 3971, 'barrel': 3972, 'elm': 3973, 'mormon': 3974, 'indiffer': 3975, 'hypnot': 3976, 'drift': 3977, 'belushi': 3978, 'improvis': 3979, 'simmon': 3980, 'meyer': 3981, 'mighti': 3982, 'millionair': 3983, 'substitut': 3984, 'fleet': 3985, 'othello': 3986, 'julian': 3987, 'carla': 3988, 'er': 3989, 'degrad': 3990, 'lampoon': 3991, 'greed': 3992, 'exquisit': 3993, 'edgi': 3994, 'disord': 3995, 'shove': 3996, '3d': 3997, 'errol': 3998, 'priceless': 3999, 'roof': 4000, 'rukh': 4001, 'firm': 4002, 'watson': 4003, 'agenda': 4004, 'alison': 4005, 'vital': 4006, 'nyc': 4007, 'reid': 4008, 'enthusiasm': 4009, 'warmth': 4010, 'palac': 4011, 'novak': 4012, 'unawar': 4013, 'alarm': 4014, 'hay': 4015, 'marion': 4016, 'dolph': 4017, 'mtv': 4018, 'spain': 4019, 'peril': 4020, 'beatl': 4021, 'nun': 4022, 'drip': 4023, 'preserv': 4024, 'pamela': 4025, 'what': 4026, 'testament': 4027, '13th': 4028, 'peck': 4029, 'campaign': 4030, 'glanc': 4031, 'distort': 4032, 'profit': 4033, 'ponder': 4034, 'crown': 4035, 'simultan': 4036, 'unleash': 4037, 'gestur': 4038, 'iraq': 4039, 'minimum': 4040, 'petti': 4041, 'sergeant': 4042, 'showdown': 4043, 'israel': 4044, 'session': 4045, 'thompson': 4046, '1933': 4047, 'valentin': 4048, 'championship': 4049, 'coup': 4050, 'cassidi': 4051, 'angela': 4052, 'orlean': 4053, 'randomli': 4054, 'eastern': 4055, 'zizek': 4056, 'stake': 4057, 'crawl': 4058, 'scotland': 4059, 'exposit': 4060, 'stroke': 4061, 'kurosawa': 4062, 'rout': 4063, 'jan': 4064, 'perpetu': 4065, 'restrain': 4066, 'quinn': 4067, 'gentleman': 4068, 'climat': 4069, 'brenda': 4070, 'fido': 4071, 'cooki': 4072, 'unimagin': 4073, 'crow': 4074, 'valley': 4075, 'contradict': 4076, 'regist': 4077, 'represent': 4078, 'travesti': 4079, 'mon': 4080, 'reson': 4081, '1984': 4082, 'din': 4083, 'cream': 4084, 'empathi': 4085, 'realm': 4086, 'calib': 4087, 'wig': 4088, 'buster': 4089, 'shootout': 4090, 'han': 4091, 'bro': 4092, 'sabrina': 4093, 'miyazaki': 4094, 'monoton': 4095, 'unsatisfi': 4096, 'perceiv': 4097, 'passabl': 4098, '1997': 4099, 'delic': 4100, 'baldwin': 4101, 'ross': 4102, 'sammi': 4103, 'tacki': 4104, 'femm': 4105, 'shoddi': 4106, 'greg': 4107, 'businessman': 4108, 'abomin': 4109, '1987': 4110, 'mclaglen': 4111, 'painter': 4112, 'dana': 4113, 'distress': 4114, 'unseen': 4115, 'absent': 4116, 'fuller': 4117, 'cloud': 4118, 'stargat': 4119, 'crawford': 4120, 'josh': 4121, 'pole': 4122, 'sucker': 4123, 'demis': 4124, 'derang': 4125, 'ustinov': 4126, 'pretens': 4127, 'geek': 4128, 'spacey': 4129, 'warrant': 4130, 'traumat': 4131, 'shaki': 4132, 'darren': 4133, 'compromis': 4134, 'wax': 4135, 'soderbergh': 4136, 'censor': 4137, 'meryl': 4138, 'fenc': 4139, 'polici': 4140, 'nathan': 4141, 'sid': 4142, 'exclus': 4143, 'deceas': 4144, 'wholli': 4145, 'verbal': 4146, 'uncov': 4147, 'dee': 4148, 'judgment': 4149, 'unravel': 4150, 'tech': 4151, 'click': 4152, 'expedit': 4153, 'austin': 4154, 'seal': 4155, 'jewel': 4156, 'correctli': 4157, 'antonioni': 4158, 'anchor': 4159, 'accuraci': 4160, 'valid': 4161, 'primit': 4162, 'norm': 4163, 'clash': 4164, 'kumar': 4165, 'reluct': 4166, 'deniro': 4167, '1993': 4168, 'furiou': 4169, 'fog': 4170, 'tarantino': 4171, 'mode': 4172, 'enforc': 4173, 'alec': 4174, 'dreck': 4175, 'seldom': 4176, 'sunni': 4177, 'pocket': 4178, 'clerk': 4179, 'vanc': 4180, 'conduct': 4181, '1971': 4182, 'fart': 4183, 'temper': 4184, 'sustain': 4185, 'murray': 4186, 'ritual': 4187, 'patienc': 4188, '2008': 4189, 'hallucin': 4190, 'fabric': 4191, 'wretch': 4192, 'sheet': 4193, 'wang': 4194, 'unfair': 4195, 'joel': 4196, 'behold': 4197, 'tax': 4198, 'trait': 4199, 'logan': 4200, '3000': 4201, 'darn': 4202, 'fought': 4203, 'sand': 4204, 'roller': 4205, '1995': 4206, 'slam': 4207, 'debt': 4208, 'crippl': 4209, 'shanghai': 4210, 'malon': 4211, 'nicola': 4212, 'bake': 4213, 'robber': 4214, 'fundament': 4215, 'guitar': 4216, 'squad': 4217, 'conscious': 4218, 'phil': 4219, 'divid': 4220, 'legaci': 4221, 'tactic': 4222, 'clau': 4223, 'despis': 4224, 'sweep': 4225, 'technicolor': 4226, 'bias': 4227, 'shell': 4228, 'stuart': 4229, 'critiqu': 4230, 'helpless': 4231, 'stark': 4232, 'grief': 4233, 'runner': 4234, 'preposter': 4235, 'outlin': 4236, 'scriptwrit': 4237, 'exhaust': 4238, 'rita': 4239, 'bridget': 4240, 'penni': 4241, 'schedul': 4242, 'pete': 4243, 'isabel': 4244, 'soup': 4245, 'canyon': 4246, 'preston': 4247, 'boyl': 4248, 'delv': 4249, 'vomit': 4250, 'bloom': 4251, 'lacklust': 4252, 'marc': 4253, 'sniper': 4254, 'restrict': 4255, 'alley': 4256, 'inabl': 4257, 'kansa': 4258, 'gregori': 4259, 'invad': 4260, 'drove': 4261, 'unexpectedli': 4262, 'jodi': 4263, 'rear': 4264, 'passag': 4265, 'culmin': 4266, 'russia': 4267, 'propos': 4268, 'cigarett': 4269, 'newman': 4270, 'jacket': 4271, 'rehash': 4272, 'liberti': 4273, 'consciou': 4274, 'downey': 4275, 'sugar': 4276, 'implic': 4277, 'agenc': 4278, 'palanc': 4279, 'flair': 4280, 'sentinel': 4281, 'alicia': 4282, 'connor': 4283, 'asylum': 4284, 'rampag': 4285, 'cap': 4286, 'pale': 4287, 'tripe': 4288, 'rod': 4289, 'horn': 4290, 'feat': 4291, 'lush': 4292, '22': 4293, 'tendenc': 4294, 'rehears': 4295, '1936': 4296, 'aesthet': 4297, 'mccoy': 4298, 'ladder': 4299, 'delet': 4300, 'sharon': 4301, 'chainsaw': 4302, 'karl': 4303, 'arrow': 4304, 'wrench': 4305, 'vet': 4306, 'awhil': 4307, 'bacon': 4308, 'improb': 4309, 'foxx': 4310, 'yeti': 4311, 'kolchak': 4312, 'behaviour': 4313, '1988': 4314, 'rumor': 4315, 'tasteless': 4316, 'paradis': 4317, 'aristocrat': 4318, 'rhythm': 4319, 'stream': 4320, 'underneath': 4321, 'loneli': 4322, 'elit': 4323, 'prank': 4324, '1920': 4325, 'shortcom': 4326, 'hackney': 4327, '1978': 4328, 'visitor': 4329, 'paramount': 4330, 'filler': 4331, 'minu': 4332, 'amazon': 4333, 'suffici': 4334, 'tomorrow': 4335, 'el': 4336, 'wildli': 4337, 'hulk': 4338, '19th': 4339, 'weav': 4340, 'suspicion': 4341, 'financ': 4342, 'spice': 4343, 'newcom': 4344, 'lurk': 4345, 'thunderbird': 4346, 'conscienc': 4347, 'coaster': 4348, 'wagner': 4349, 'sung': 4350, 'globe': 4351, 'hungri': 4352, 'basing': 4353, 'fright': 4354, 'scoop': 4355, 'brit': 4356, 'worship': 4357, '75': 4358, 'smell': 4359, 'beverli': 4360, 'secondari': 4361, 'lectur': 4362, 'minist': 4363, 'leigh': 4364, 'cancer': 4365, 'bread': 4366, 'teas': 4367, 'literari': 4368, 'quietli': 4369, 'ingeni': 4370, 'straightforward': 4371, 'standout': 4372, 'choppi': 4373, 'penn': 4374, 'abrupt': 4375, 'impos': 4376, 'inmat': 4377, 'hopkin': 4378, 'grudg': 4379, 'dirt': 4380, 'immers': 4381, 'heist': 4382, 'recogniz': 4383, 'paxton': 4384, 'iv': 4385, 'entranc': 4386, '1989': 4387, '1939': 4388, 'chamberlain': 4389, 'rub': 4390, 'couch': 4391, 'naughti': 4392, 'counterpart': 4393, 'en': 4394, 'ram': 4395, 'atroc': 4396, 'wwe': 4397, 'curli': 4398, 'tierney': 4399, 'springer': 4400, 'chavez': 4401, 'posey': 4402, 'sassi': 4403, 'misguid': 4404, 'missil': 4405, 'lindsay': 4406, 'attenborough': 4407, 'heartfelt': 4408, 'clan': 4409, 'geni': 4410, 'yearn': 4411, 'enthral': 4412, 'bernard': 4413, 'morbid': 4414, 'sublim': 4415, 'injuri': 4416, 'skeptic': 4417, 'policeman': 4418, 'cattl': 4419, '1986': 4420, 'watcher': 4421, 'entitl': 4422, 'transcend': 4423, 'nemesi': 4424, 'laurenc': 4425, 'ace': 4426, 'convert': 4427, 'nolan': 4428, 'variat': 4429, 'ratso': 4430, 'net': 4431, 'quaid': 4432, 'duel': 4433, 'esther': 4434, 'moreov': 4435, 'reliabl': 4436, 'enabl': 4437, 'kidman': 4438, 'egg': 4439, 'grin': 4440, 'diari': 4441, 'hopelessli': 4442, 'setup': 4443, 'artsi': 4444, 'facil': 4445, 'bean': 4446, 'characteris': 4447, 'kitti': 4448, 'brood': 4449, 'dont': 4450, 'hk': 4451, 'moder': 4452, 'graini': 4453, 'steadi': 4454, 'rosemari': 4455, 'youngest': 4456, 'uncut': 4457, 'unexplain': 4458, 'mytholog': 4459, 'poe': 4460, 'spiral': 4461, 'vader': 4462, 'obstacl': 4463, 'cruelti': 4464, 'bye': 4465, 'buzz': 4466, 'out': 4467, 'puppi': 4468, '1979': 4469, 'carlito': 4470, 'tyler': 4471, 'athlet': 4472, 'narrow': 4473, 'sweat': 4474, 'clueless': 4475, 'baffl': 4476, 'fuel': 4477, 'acquaint': 4478, 'preming': 4479, 'effici': 4480, 'hammi': 4481, 'christin': 4482, 'spontan': 4483, 'heap': 4484, '1969': 4485, 'bounc': 4486, 'oblig': 4487, 'hain': 4488, 'patricia': 4489, 'despic': 4490, 'disastr': 4491, 'brendan': 4492, 'weather': 4493, 'bewar': 4494, 'decept': 4495, 'martha': 4496, 'niec': 4497, 'gillian': 4498, 'exterior': 4499, 'underworld': 4500, 'kline': 4501, 'gina': 4502, 'bronson': 4503, 'tick': 4504, 'loi': 4505, 'scar': 4506, '19': 4507, 'analyz': 4508, 'goof': 4509, 'virtu': 4510, 'headach': 4511, 'circu': 4512, 'dandi': 4513, 'suprem': 4514, 'housewif': 4515, 'hepburn': 4516, 'biker': 4517, 'dilemma': 4518, 'shatter': 4519, 'astound': 4520, 'insipid': 4521, 'trigger': 4522, 'sooner': 4523, 'preachi': 4524, 'rome': 4525, 'candl': 4526, 'renaiss': 4527, 'viewpoint': 4528, 'enlist': 4529, 'angst': 4530, 'taboo': 4531, '73': 4532, 'outlaw': 4533, 'loath': 4534, 'harmless': 4535, 'sleepwalk': 4536, 'uh': 4537, 'mermaid': 4538, 'injur': 4539, 'fontain': 4540, 'mayhem': 4541, 'lester': 4542, 'hostag': 4543, 'stimul': 4544, 'idol': 4545, 'guin': 4546, 'hooker': 4547, 'immatur': 4548, 'phenomenon': 4549, 'camcord': 4550, 'whore': 4551, 'corbett': 4552, 'macho': 4553, 'claustrophob': 4554, 'oldest': 4555, 'spade': 4556, 'surgeri': 4557, 'intric': 4558, 'hokey': 4559, 'bent': 4560, 'ebert': 4561, 'zoom': 4562, 'scorses': 4563, 'amor': 4564, 'stair': 4565, 'contempt': 4566, 'dismal': 4567, 'foolish': 4568, 'slimi': 4569, 'boston': 4570, 'fluff': 4571, 'steer': 4572, 'salt': 4573, 'tripl': 4574, 'filth': 4575, 'overlong': 4576, 'gere': 4577, 'cassavet': 4578, 'dish': 4579, 'glorifi': 4580, 'ariel': 4581, 'redund': 4582, 'sox': 4583, 'muscl': 4584, '1981': 4585, 'faint': 4586, 'cohen': 4587, 'assert': 4588, 'antagonist': 4589, 'dwarf': 4590, 'flag': 4591, 'joker': 4592, 'gasp': 4593, 'fascist': 4594, 'radiat': 4595, 'beard': 4596, 'cow': 4597, 'schlock': 4598, 'trivia': 4599, 'preced': 4600, 'spree': 4601, 'flashi': 4602, 'strongest': 4603, 'nolt': 4604, 'flirt': 4605, 'obligatori': 4606, 'remad': 4607, 'keen': 4608, 'zane': 4609, 'perman': 4610, 'down': 4611, 'shield': 4612, 'widescreen': 4613, 'cush': 4614, 'mutual': 4615, 'corman': 4616, 'alvin': 4617, 'astronaut': 4618, 'rhyme': 4619, 'naschi': 4620, 'shred': 4621, 'transplant': 4622, 'mount': 4623, 'gabl': 4624, 'conquer': 4625, 'spinal': 4626, '1976': 4627, 'frantic': 4628, 'harold': 4629, 'margin': 4630, 'messi': 4631, 'proport': 4632, 'instruct': 4633, '28': 4634, 'bachelor': 4635, 'resum': 4636, 'inflict': 4637, 'mol': 4638, 'brush': 4639, 'discern': 4640, 'departur': 4641, 'flock': 4642, 'bitten': 4643, 'vaniti': 4644, 'off': 4645, 'danish': 4646, 'neurot': 4647, 'boob': 4648, '95': 4649, 'www': 4650, 'carey': 4651, 'fishburn': 4652, 'mobil': 4653, 'claud': 4654, 'divin': 4655, 'someday': 4656, 'archiv': 4657, 'persuad': 4658, 'wield': 4659, 'ritchi': 4660, 'deer': 4661, 'triangl': 4662, 'interestingli': 4663, 'hara': 4664, 'strive': 4665, 'info': 4666, 'scandal': 4667, 'aborigin': 4668, 'barn': 4669, 'raj': 4670, 'sensual': 4671, 'repris': 4672, '1945': 4673, 'senior': 4674, 'casino': 4675, 'cliffhang': 4676, 'clad': 4677, 'fragil': 4678, 'hapless': 4679, 'axe': 4680, 'jade': 4681, 'kathryn': 4682, 'dame': 4683, 'carlo': 4684, 'recit': 4685, 'rot': 4686, 'dylan': 4687, 'dim': 4688, 'loretta': 4689, 'helm': 4690, 'pacif': 4691, 'submit': 4692, 'bate': 4693, 'miracul': 4694, 'undermin': 4695, 'cb': 4696, 'proclaim': 4697, 'prophet': 4698, 'colin': 4699, 'heartwarm': 4700, 'harrison': 4701, 'mobster': 4702, 'biblic': 4703, 'parson': 4704, 'banter': 4705, 'pixar': 4706, 'cycl': 4707, 'ish': 4708, 'melissa': 4709, 'traffic': 4710, 'vibrant': 4711, 'frontier': 4712, 'wendigo': 4713, 'hilar': 4714, 'earnest': 4715, 'timberlak': 4716, 'artwork': 4717, 'hug': 4718, 'pickford': 4719, 'cher': 4720, 'anton': 4721, 'neill': 4722, 'europa': 4723, 'luka': 4724, 'aris': 4725, 'blatantli': 4726, 'lui': 4727, 'antholog': 4728, 'flavor': 4729, 'static': 4730, 'trier': 4731, 'cerebr': 4732, 'choke': 4733, 'bondag': 4734, 'northern': 4735, 'seedi': 4736, 'token': 4737, 'feast': 4738, 'misfortun': 4739, 'holocaust': 4740, 'sicken': 4741, 'razor': 4742, 'marlon': 4743, 'http': 4744, 'foil': 4745, 'pc': 4746, 'wardrob': 4747, 'venom': 4748, 'lucil': 4749, 'winchest': 4750, 'rooki': 4751, 'articl': 4752, 'estrang': 4753, 'legitim': 4754, 'orphan': 4755, 'vile': 4756, 'redneck': 4757, 'jo': 4758, 'akin': 4759, 'nope': 4760, 'mason': 4761, 'milo': 4762, 'shepherd': 4763, 'alexandr': 4764, 'vanessa': 4765, 'mathieu': 4766, 'eli': 4767, 'uma': 4768, 'jordan': 4769, 'illus': 4770, 'bikini': 4771, 'breakfast': 4772, 'isra': 4773, 'electron': 4774, 'toronto': 4775, 'retriev': 4776, 'feminin': 4777, 'comprehend': 4778, 'peer': 4779, 'outdat': 4780, 'ceremoni': 4781, 'boyer': 4782, 'linear': 4783, 'ideolog': 4784, 'huston': 4785, 'smack': 4786, 'glare': 4787, 'styliz': 4788, 'leather': 4789, 'tack': 4790, 'swept': 4791, 'wrestler': 4792, 'audrey': 4793, 'cartoonish': 4794, 'oppon': 4795, 'disregard': 4796, 'gunga': 4797, 'clinic': 4798, 'gilbert': 4799, 'nightclub': 4800, 'abund': 4801, 'psych': 4802, 'deem': 4803, 'frog': 4804, 'fifth': 4805, 'highway': 4806, 'charlton': 4807, 'shorter': 4808, 'dudley': 4809, 'affleck': 4810, 'knightley': 4811, 'howl': 4812, 'turd': 4813, 'magician': 4814, 'energet': 4815, 'spawn': 4816, 'monument': 4817, 'snatch': 4818, 'compris': 4819, 'cemeteri': 4820, 'salman': 4821, 'bogu': 4822, '4th': 4823, 'summar': 4824, 'phenomen': 4825, 'btw': 4826, 'uniformli': 4827, 'lighter': 4828, 'lavish': 4829, 'whack': 4830, 'durat': 4831, 'sleaz': 4832, 'spine': 4833, 'lifeless': 4834, 'client': 4835, 'mitch': 4836, 'collector': 4837, 'conrad': 4838, 'toe': 4839, 'boo': 4840, 'greet': 4841, 'newer': 4842, 'plate': 4843, 'tara': 4844, '1994': 4845, 'bastard': 4846, 'cuban': 4847, 'senat': 4848, 'deliver': 4849, 'corn': 4850, 'moe': 4851, 'braveheart': 4852, 'einstein': 4853, 'potter': 4854, 'evolut': 4855, '1991': 4856, 'chip': 4857, 'breakdown': 4858, 'goldsworthi': 4859, 'neatli': 4860, 'signal': 4861, 'bulk': 4862, 'judd': 4863, 'kent': 4864, 'eleven': 4865, 'appl': 4866, 'cecil': 4867, 'sorrow': 4868, 'wtf': 4869, 'firmli': 4870, '1977': 4871, 'embark': 4872, 'healthi': 4873, 'constitut': 4874, 'undead': 4875, 'bori': 4876, 'spectacl': 4877, 'outright': 4878, 'replay': 4879, 'trauma': 4880, 'pronounc': 4881, 'kazan': 4882, 'jule': 4883, '1974': 4884, 'inaccuraci': 4885, 'creek': 4886, 'lex': 4887, 'undertak': 4888, 'nina': 4889, 'ie': 4890, 'clara': 4891, 'belli': 4892, 'randolph': 4893, 'fluid': 4894, 'jam': 4895, 'historian': 4896, 'jare': 4897, 'jedi': 4898, 'armstrong': 4899, 'alleg': 4900, 'liu': 4901, 'luxuri': 4902, 'capot': 4903, 'occup': 4904, 'mcqueen': 4905, 'ol': 4906, 'gilliam': 4907, 'evelyn': 4908, 'spray': 4909, 'inclus': 4910, 'miami': 4911, 'abound': 4912, 'lauren': 4913, 'poker': 4914, 'genet': 4915, 'rosario': 4916, 'vain': 4917, 'kiddi': 4918, 'unattract': 4919, 'knee': 4920, 'pioneer': 4921, 'forgiven': 4922, 'congratul': 4923, 'blur': 4924, 'palm': 4925, 'galaxi': 4926, 'roar': 4927, 'vignett': 4928, 'porter': 4929, 'antonio': 4930, 'truman': 4931, 'curtain': 4932, 'sacrif': 4933, 'pepper': 4934, 'walt': 4935, 'carmen': 4936, 'bsg': 4937, 'propheci': 4938, 'groan': 4939, 'subtli': 4940, 'unsuspect': 4941, '1985': 4942, 'comprehens': 4943, 'basket': 4944, 'aussi': 4945, 'tokyo': 4946, 'sidewalk': 4947, 'decapit': 4948, 'paula': 4949, 'meal': 4950, 'fruit': 4951, 'inaccur': 4952, 'id': 4953, 'conan': 4954, 'ash': 4955, 'miniseri': 4956, 'mum': 4957, 'cape': 4958, 'lanc': 4959, 'comb': 4960, 'goldblum': 4961, 'relentless': 4962, 'bait': 4963, 'assort': 4964, 'sophi': 4965, 'modest': 4966, 'drone': 4967, 'detach': 4968, 'macabr': 4969, 'sparkl': 4970, 'playboy': 4971, 'epitom': 4972, 'dubiou': 4973, 'rapidli': 4974, 'bravo': 4975, 'incorrect': 4976, 'frontal': 4977, 'spill': 4978, 'asset': 4979, 'turtl': 4980, 'weaker': 4981, 'victorian': 4982, 'casper': 4983, 'weari': 4984, 'hostil': 4985, 'masterson': 4986, 'ingrid': 4987, 'hackman': 4988, 'mice': 4989, 'handicap': 4990, 'monti': 4991, 'orchestr': 4992, 'motorcycl': 4993, 'scarfac': 4994, 'evan': 4995, 'verg': 4996, 'vastli': 4997, 'profil': 4998, 'reincarn': 4999}\n"
     ]
    }
   ],
   "source": [
    "print(word_dict)"
   ]
  },
  {
   "cell_type": "markdown",
   "metadata": {},
   "source": [
    "**Question:** What are the five most frequently appearing (tokenized) words in the training set? Does it makes sense that these words appear frequently in the training set?"
   ]
  },
  {
   "cell_type": "markdown",
   "metadata": {},
   "source": [
    "**Answer:** 'movi', 'film', 'one', 'like', 'time' \n",
    "The words appear to make sense for a movie review (sentimental analysis). \n",
    "However I am not sure if individual words like 'one' and 'time' would be so useful. Techniques like N-grams would be good to identify combinations (words / characters) that may matter for movie sentiment analysis."
   ]
  },
  {
   "cell_type": "code",
   "execution_count": 14,
   "metadata": {},
   "outputs": [
    {
     "name": "stdout",
     "output_type": "stream",
     "text": [
      "['movi', 'film', 'one', 'like', 'time']\n"
     ]
    }
   ],
   "source": [
    "# TODO: Use this space to determine the five most frequently appearing words in the training set.\n",
    "words_list = list(word_dict.keys())\n",
    "print(words_list[:5])"
   ]
  },
  {
   "cell_type": "markdown",
   "metadata": {},
   "source": [
    "### Save `word_dict`\n",
    "\n",
    "Later on when we construct an endpoint which processes a submitted review we will need to make use of the `word_dict` which we have created. As such, we will save it to a file now for future use."
   ]
  },
  {
   "cell_type": "code",
   "execution_count": 15,
   "metadata": {},
   "outputs": [],
   "source": [
    "data_dir = '../data/pytorch' # The folder we will use for storing data\n",
    "if not os.path.exists(data_dir): # Make sure that the folder exists\n",
    "    os.makedirs(data_dir)"
   ]
  },
  {
   "cell_type": "code",
   "execution_count": 16,
   "metadata": {},
   "outputs": [],
   "source": [
    "with open(os.path.join(data_dir, 'word_dict.pkl'), \"wb\") as f:\n",
    "    pickle.dump(word_dict, f)"
   ]
  },
  {
   "cell_type": "markdown",
   "metadata": {},
   "source": [
    "### Transform the reviews\n",
    "\n",
    "Now that we have our word dictionary which allows us to transform the words appearing in the reviews into integers, it is time to make use of it and convert our reviews to their integer sequence representation, making sure to pad or truncate to a fixed length, which in our case is `500`."
   ]
  },
  {
   "cell_type": "code",
   "execution_count": 17,
   "metadata": {},
   "outputs": [],
   "source": [
    "def convert_and_pad(word_dict, sentence, pad=500):\n",
    "    NOWORD = 0 # We will use 0 to represent the 'no word' category\n",
    "    INFREQ = 1 # and we use 1 to represent the infrequent words, i.e., words not appearing in word_dict\n",
    "    \n",
    "    working_sentence = [NOWORD] * pad\n",
    "    \n",
    "    for word_index, word in enumerate(sentence[:pad]):\n",
    "        if word in word_dict:\n",
    "            working_sentence[word_index] = word_dict[word]\n",
    "        else:\n",
    "            working_sentence[word_index] = INFREQ\n",
    "            \n",
    "    return working_sentence, min(len(sentence), pad)\n",
    "\n",
    "def convert_and_pad_data(word_dict, data, pad=500):\n",
    "    result = []\n",
    "    lengths = []\n",
    "    \n",
    "    for sentence in data:\n",
    "        converted, leng = convert_and_pad(word_dict, sentence, pad)\n",
    "        result.append(converted)\n",
    "        lengths.append(leng)\n",
    "        \n",
    "    return np.array(result), np.array(lengths)"
   ]
  },
  {
   "cell_type": "code",
   "execution_count": 18,
   "metadata": {},
   "outputs": [],
   "source": [
    "train_X, train_X_len = convert_and_pad_data(word_dict, train_X)\n",
    "test_X, test_X_len = convert_and_pad_data(word_dict, test_X)"
   ]
  },
  {
   "cell_type": "markdown",
   "metadata": {},
   "source": [
    "As a quick check to make sure that things are working as intended, check to see what one of the reviews in the training set looks like after having been processeed. Does this look reasonable? What is the length of a review in the training set?"
   ]
  },
  {
   "cell_type": "code",
   "execution_count": 19,
   "metadata": {},
   "outputs": [
    {
     "name": "stdout",
     "output_type": "stream",
     "text": [
      "Size of the training set =  25000\n",
      "Length of each review =  500\n",
      "Count  NOWORD = 355 , INFREQ = 5\n",
      "Count  NOWORD = 116 , INFREQ = 49\n",
      "Count  NOWORD = 362 , INFREQ = 13\n",
      "Count  NOWORD = 347 , INFREQ = 13\n",
      "Count  NOWORD = 295 , INFREQ = 18\n",
      "Count  NOWORD = 297 , INFREQ = 10\n",
      "Count  NOWORD = 386 , INFREQ = 15\n",
      "Count  NOWORD = 335 , INFREQ = 10\n",
      "Count  NOWORD = 461 , INFREQ = 4\n",
      "Count  NOWORD = 427 , INFREQ = 5\n",
      "[ 132  452   38   79  241    5    1    1 1184  316   30  217 2075 4919\n",
      "  177  352 1383 1180   56   14  281  166 1763    6  171 1095   64   91\n",
      " 1383  635  555 1885   61   74   11   69  415  350 1383 2182  661  337\n",
      " 1383    2   37   67    2  185  310  127   14   54   10 1624    1   57\n",
      "    1   65  282  191 2124    0    0    0    0    0    0    0    0    0\n",
      "    0    0    0    0    0    0    0    0    0    0    0    0    0    0\n",
      "    0    0    0    0    0    0    0    0    0    0    0    0    0    0\n",
      "    0    0    0    0    0    0    0    0    0    0    0    0    0    0\n",
      "    0    0    0    0    0    0    0    0    0    0    0    0    0    0\n",
      "    0    0    0    0    0    0    0    0    0    0    0    0    0    0\n",
      "    0    0    0    0    0    0    0    0    0    0    0    0    0    0\n",
      "    0    0    0    0    0    0    0    0    0    0    0    0    0    0\n",
      "    0    0    0    0    0    0    0    0    0    0    0    0    0    0\n",
      "    0    0    0    0    0    0    0    0    0    0    0    0    0    0\n",
      "    0    0    0    0    0    0    0    0    0    0    0    0    0    0\n",
      "    0    0    0    0    0    0    0    0    0    0    0    0    0    0\n",
      "    0    0    0    0    0    0    0    0    0    0    0    0    0    0\n",
      "    0    0    0    0    0    0    0    0    0    0    0    0    0    0\n",
      "    0    0    0    0    0    0    0    0    0    0    0    0    0    0\n",
      "    0    0    0    0    0    0    0    0    0    0    0    0    0    0\n",
      "    0    0    0    0    0    0    0    0    0    0    0    0    0    0\n",
      "    0    0    0    0    0    0    0    0    0    0    0    0    0    0\n",
      "    0    0    0    0    0    0    0    0    0    0    0    0    0    0\n",
      "    0    0    0    0    0    0    0    0    0    0    0    0    0    0\n",
      "    0    0    0    0    0    0    0    0    0    0    0    0    0    0\n",
      "    0    0    0    0    0    0    0    0    0    0    0    0    0    0\n",
      "    0    0    0    0    0    0    0    0    0    0    0    0    0    0\n",
      "    0    0    0    0    0    0    0    0    0    0    0    0    0    0\n",
      "    0    0    0    0    0    0    0    0    0    0    0    0    0    0\n",
      "    0    0    0    0    0    0    0    0    0    0    0    0    0    0\n",
      "    0    0    0    0    0    0    0    0    0    0    0    0    0    0\n",
      "    0    0    0    0    0    0    0    0    0    0    0    0    0    0\n",
      "    0    0    0    0    0    0    0    0    0    0    0    0    0    0\n",
      "    0    0    0    0    0    0    0    0    0    0    0    0    0    0\n",
      "    0    0    0    0    0    0    0    0    0    0    0    0    0    0\n",
      "    0    0    0    0    0    0    0    0    0    0]\n"
     ]
    }
   ],
   "source": [
    "# Use this cell to examine one of the processed reviews to make sure everything is working as intended.\n",
    "print(\"Size of the training set = \", len(train_X_len)) # 25000 \n",
    "print(\"Length of each review = \", len(train_X[100])) # 500 \n",
    "\n",
    "for review in train_X[:10]:\n",
    "    print(\"Count  NOWORD = %s , INFREQ = %s\" % (np.count_nonzero(review == 0), np.count_nonzero(review == 1)))\n",
    "print(train_X[100])"
   ]
  },
  {
   "cell_type": "markdown",
   "metadata": {},
   "source": [
    "**Question:** In the cells above we use the `preprocess_data` and `convert_and_pad_data` methods to process both the training and testing set. Why or why not might this be a problem?"
   ]
  },
  {
   "cell_type": "markdown",
   "metadata": {},
   "source": [
    "**Answer:** preprocess_data should not cause any problem as it transforming the data before ingesting into algorithm.\n",
    "Pre-processing steps ideally should be same for both training and testing set while solving any machine learning problem.\n",
    "It will ensure same pre-processing steps are applied to training and testing set.\n",
    "\n",
    "convert_and_pad method is being used to convert that review length to uniform sequence length before passing to neural network\n",
    "However, we created dictionary a.k.a voabulary (word_dict) based on training set. There is a high probability that the testing set might not have words from this dictionary which are frequently occuring (high frequency) in the test set. convert_and_pad_data would convert these words into INFREQ word, impacting model accuracy and incorrect sentiment analysis."
   ]
  },
  {
   "cell_type": "markdown",
   "metadata": {},
   "source": [
    "## Step 3: Upload the data to S3\n",
    "\n",
    "As in the XGBoost notebook, we will need to upload the training dataset to S3 in order for our training code to access it. For now we will save it locally and we will upload to S3 later on.\n",
    "\n",
    "### Save the processed training dataset locally\n",
    "\n",
    "It is important to note the format of the data that we are saving as we will need to know it when we write the training code. In our case, each row of the dataset has the form `label`, `length`, `review[500]` where `review[500]` is a sequence of `500` integers representing the words in the review."
   ]
  },
  {
   "cell_type": "code",
   "execution_count": 20,
   "metadata": {},
   "outputs": [],
   "source": [
    "import pandas as pd\n",
    "    \n",
    "pd.concat([pd.DataFrame(train_y), pd.DataFrame(train_X_len), pd.DataFrame(train_X)], axis=1) \\\n",
    "        .to_csv(os.path.join(data_dir, 'train.csv'), header=False, index=False)"
   ]
  },
  {
   "cell_type": "markdown",
   "metadata": {},
   "source": [
    "### Uploading the training data\n",
    "\n",
    "\n",
    "Next, we need to upload the training data to the SageMaker default S3 bucket so that we can provide access to it while training our model."
   ]
  },
  {
   "cell_type": "code",
   "execution_count": 21,
   "metadata": {},
   "outputs": [],
   "source": [
    "import sagemaker\n",
    "\n",
    "sagemaker_session = sagemaker.Session()\n",
    "\n",
    "bucket = sagemaker_session.default_bucket()\n",
    "prefix = 'sagemaker/sentiment_rnn'\n",
    "\n",
    "role = sagemaker.get_execution_role()"
   ]
  },
  {
   "cell_type": "code",
   "execution_count": 22,
   "metadata": {},
   "outputs": [],
   "source": [
    "input_data = sagemaker_session.upload_data(path=data_dir, bucket=bucket, key_prefix=prefix)"
   ]
  },
  {
   "cell_type": "markdown",
   "metadata": {},
   "source": [
    "**NOTE:** The cell above uploads the entire contents of our data directory. This includes the `word_dict.pkl` file. This is fortunate as we will need this later on when we create an endpoint that accepts an arbitrary review. For now, we will just take note of the fact that it resides in the data directory (and so also in the S3 training bucket) and that we will need to make sure it gets saved in the model directory."
   ]
  },
  {
   "cell_type": "markdown",
   "metadata": {},
   "source": [
    "## Step 4: Build and Train the PyTorch Model\n",
    "\n",
    "In the XGBoost notebook we discussed what a model is in the SageMaker framework. In particular, a model comprises three objects\n",
    "\n",
    " - Model Artifacts,\n",
    " - Training Code, and\n",
    " - Inference Code,\n",
    " \n",
    "each of which interact with one another. In the XGBoost example we used training and inference code that was provided by Amazon. Here we will still be using containers provided by Amazon with the added benefit of being able to include our own custom code.\n",
    "\n",
    "We will start by implementing our own neural network in PyTorch along with a training script. For the purposes of this project we have provided the necessary model object in the `model.py` file, inside of the `train` folder. You can see the provided implementation by running the cell below."
   ]
  },
  {
   "cell_type": "markdown",
   "metadata": {},
   "source": [
    "https://towardsdatascience.com/neural-network-embeddings-explained-4d028e6f0526"
   ]
  },
  {
   "cell_type": "code",
   "execution_count": 52,
   "metadata": {},
   "outputs": [
    {
     "name": "stdout",
     "output_type": "stream",
     "text": [
      "\u001b[34mimport\u001b[39;49;00m \u001b[04m\u001b[36mtorch.nn\u001b[39;49;00m \u001b[34mas\u001b[39;49;00m \u001b[04m\u001b[36mnn\u001b[39;49;00m\r\n",
      "\r\n",
      "\u001b[34mclass\u001b[39;49;00m \u001b[04m\u001b[32mLSTMClassifier\u001b[39;49;00m(nn.Module):\r\n",
      "    \u001b[33m\"\"\"\u001b[39;49;00m\r\n",
      "\u001b[33m    This is the simple RNN model we will be using to perform Sentiment Analysis.\u001b[39;49;00m\r\n",
      "\u001b[33m    \"\"\"\u001b[39;49;00m\r\n",
      "\r\n",
      "    \u001b[34mdef\u001b[39;49;00m \u001b[32m__init__\u001b[39;49;00m(\u001b[36mself\u001b[39;49;00m, embedding_dim, hidden_dim, vocab_size):\r\n",
      "        \u001b[33m\"\"\"\u001b[39;49;00m\r\n",
      "\u001b[33m        Initialize the model by settingg up the various layers.\u001b[39;49;00m\r\n",
      "\u001b[33m        \"\"\"\u001b[39;49;00m\r\n",
      "        \u001b[36msuper\u001b[39;49;00m(LSTMClassifier, \u001b[36mself\u001b[39;49;00m).\u001b[32m__init__\u001b[39;49;00m()\r\n",
      "\r\n",
      "        \u001b[36mself\u001b[39;49;00m.embedding = nn.Embedding(vocab_size, embedding_dim, padding_idx=\u001b[34m0\u001b[39;49;00m)\r\n",
      "        \u001b[36mself\u001b[39;49;00m.lstm = nn.LSTM(embedding_dim, hidden_dim)\r\n",
      "        \u001b[36mself\u001b[39;49;00m.dense = nn.Linear(in_features=hidden_dim, out_features=\u001b[34m1\u001b[39;49;00m)\r\n",
      "        \u001b[36mself\u001b[39;49;00m.sig = nn.Sigmoid()\r\n",
      "        \r\n",
      "        \u001b[36mself\u001b[39;49;00m.word_dict = \u001b[36mNone\u001b[39;49;00m\r\n",
      "\r\n",
      "    \u001b[34mdef\u001b[39;49;00m \u001b[32mforward\u001b[39;49;00m(\u001b[36mself\u001b[39;49;00m, x):\r\n",
      "        \u001b[33m\"\"\"\u001b[39;49;00m\r\n",
      "\u001b[33m        Perform a forward pass of our model on some input.\u001b[39;49;00m\r\n",
      "\u001b[33m        \"\"\"\u001b[39;49;00m\r\n",
      "        x = x.t()\r\n",
      "        lengths = x[\u001b[34m0\u001b[39;49;00m,:]\r\n",
      "        reviews = x[\u001b[34m1\u001b[39;49;00m:,:]\r\n",
      "        embeds = \u001b[36mself\u001b[39;49;00m.embedding(reviews)\r\n",
      "        lstm_out, _ = \u001b[36mself\u001b[39;49;00m.lstm(embeds)\r\n",
      "        out = \u001b[36mself\u001b[39;49;00m.dense(lstm_out)\r\n",
      "        out = out[lengths - \u001b[34m1\u001b[39;49;00m, \u001b[36mrange\u001b[39;49;00m(\u001b[36mlen\u001b[39;49;00m(lengths))]\r\n",
      "        \u001b[34mreturn\u001b[39;49;00m \u001b[36mself\u001b[39;49;00m.sig(out.squeeze())\r\n"
     ]
    }
   ],
   "source": [
    "!pygmentize train/model.py"
   ]
  },
  {
   "cell_type": "markdown",
   "metadata": {},
   "source": [
    "The important takeaway from the implementation provided is that there are three parameters that we may wish to tweak to improve the performance of our model. These are the embedding dimension, the hidden dimension and the size of the vocabulary. We will likely want to make these parameters configurable in the training script so that if we wish to modify them we do not need to modify the script itself. We will see how to do this later on. To start we will write some of the training code in the notebook so that we can more easily diagnose any issues that arise.\n",
    "\n",
    "First we will load a small portion of the training data set to use as a sample. It would be very time consuming to try and train the model completely in the notebook as we do not have access to a gpu and the compute instance that we are using is not particularly powerful. However, we can work on a small bit of the data to get a feel for how our training script is behaving."
   ]
  },
  {
   "cell_type": "code",
   "execution_count": 24,
   "metadata": {},
   "outputs": [],
   "source": [
    "import torch\n",
    "import torch.utils.data\n",
    "\n",
    "# Read in only the first 250 rows\n",
    "train_sample = pd.read_csv(os.path.join(data_dir, 'train.csv'), header=None, names=None, nrows=250)\n",
    "\n",
    "# Turn the input pandas dataframe into tensors\n",
    "train_sample_y = torch.from_numpy(train_sample[[0]].values).float().squeeze()\n",
    "train_sample_X = torch.from_numpy(train_sample.drop([0], axis=1).values).long()\n",
    "\n",
    "# Build the dataset\n",
    "train_sample_ds = torch.utils.data.TensorDataset(train_sample_X, train_sample_y)\n",
    "# Build the dataloader\n",
    "train_sample_dl = torch.utils.data.DataLoader(train_sample_ds, batch_size=50)"
   ]
  },
  {
   "cell_type": "markdown",
   "metadata": {},
   "source": [
    "### (TODO) Writing the training method\n",
    "\n",
    "Next we need to write the training code itself. This should be very similar to training methods that you have written before to train PyTorch models. We will leave any difficult aspects such as model saving / loading and parameter loading until a little later."
   ]
  },
  {
   "cell_type": "code",
   "execution_count": 25,
   "metadata": {},
   "outputs": [],
   "source": [
    "def train(model, train_loader, epochs, optimizer, loss_fn, device):\n",
    "    for epoch in range(1, epochs + 1):\n",
    "        model.train()\n",
    "        total_loss = 0\n",
    "        for batch in train_loader:         \n",
    "            batch_X, batch_y = batch\n",
    "            \n",
    "            batch_X = batch_X.to(device)\n",
    "            batch_y = batch_y.to(device)\n",
    "            \n",
    "            # TODO: Complete this train method to train the model provided.\n",
    "            optimizer.zero_grad()\n",
    "            batch_yhat = model(batch_X)\n",
    "            loss = loss_fn(batch_yhat, batch_y)\n",
    "            loss.backward()\n",
    "            optimizer.step()\n",
    "            \n",
    "            total_loss += loss.data.item()\n",
    "        print(\"Epoch: {}, BCELoss: {}\".format(epoch, total_loss / len(train_loader)))"
   ]
  },
  {
   "cell_type": "markdown",
   "metadata": {},
   "source": [
    "Supposing we have the training method above, we will test that it is working by writing a bit of code in the notebook that executes our training method on the small sample training set that we loaded earlier. The reason for doing this in the notebook is so that we have an opportunity to fix any errors that arise early when they are easier to diagnose."
   ]
  },
  {
   "cell_type": "code",
   "execution_count": 26,
   "metadata": {},
   "outputs": [
    {
     "name": "stdout",
     "output_type": "stream",
     "text": [
      "Epoch: 1, BCELoss: 0.6891640186309814\n",
      "Epoch: 2, BCELoss: 0.6793022274971008\n",
      "Epoch: 3, BCELoss: 0.6710886716842651\n",
      "Epoch: 4, BCELoss: 0.6623266577720642\n",
      "Epoch: 5, BCELoss: 0.6521616458892823\n"
     ]
    }
   ],
   "source": [
    "import torch.optim as optim\n",
    "from train.model import LSTMClassifier\n",
    "\n",
    "device = torch.device(\"cuda\" if torch.cuda.is_available() else \"cpu\")\n",
    "model = LSTMClassifier(32, 100, 5000).to(device)\n",
    "optimizer = optim.Adam(model.parameters())\n",
    "loss_fn = torch.nn.BCELoss()\n",
    "\n",
    "train(model, train_sample_dl, 5, optimizer, loss_fn, device)"
   ]
  },
  {
   "cell_type": "markdown",
   "metadata": {},
   "source": [
    "In order to construct a PyTorch model using SageMaker we must provide SageMaker with a training script. We may optionally include a directory which will be copied to the container and from which our training code will be run. When the training container is executed it will check the uploaded directory (if there is one) for a `requirements.txt` file and install any required Python libraries, after which the training script will be run."
   ]
  },
  {
   "cell_type": "markdown",
   "metadata": {},
   "source": [
    "### (TODO) Training the model\n",
    "\n",
    "When a PyTorch model is constructed in SageMaker, an entry point must be specified. This is the Python file which will be executed when the model is trained. Inside of the `train` directory is a file called `train.py` which has been provided and which contains most of the necessary code to train our model. The only thing that is missing is the implementation of the `train()` method which you wrote earlier in this notebook.\n",
    "\n",
    "**TODO**: Copy the `train()` method written above and paste it into the `train/train.py` file where required.\n",
    "\n",
    "The way that SageMaker passes hyperparameters to the training script is by way of arguments. These arguments can then be parsed and used in the training script. To see how this is done take a look at the provided `train/train.py` file."
   ]
  },
  {
   "cell_type": "code",
   "execution_count": 27,
   "metadata": {},
   "outputs": [],
   "source": [
    "from sagemaker.pytorch import PyTorch\n",
    "\n",
    "estimator = PyTorch(entry_point=\"train.py\",\n",
    "                    source_dir=\"train\",\n",
    "                    role=role,\n",
    "                    framework_version='0.4.0',\n",
    "                    train_instance_count=1,\n",
    "                    train_instance_type='ml.p2.xlarge',\n",
    "                    hyperparameters={\n",
    "                        'epochs': 10,\n",
    "                        'hidden_dim': 200,\n",
    "                    })"
   ]
  },
  {
   "cell_type": "code",
   "execution_count": 28,
   "metadata": {},
   "outputs": [
    {
     "name": "stdout",
     "output_type": "stream",
     "text": [
      "2020-01-10 17:30:50 Starting - Starting the training job...\n",
      "2020-01-10 17:30:52 Starting - Launching requested ML instances......\n",
      "2020-01-10 17:31:57 Starting - Preparing the instances for training......\n",
      "2020-01-10 17:33:21 Downloading - Downloading input data......\n",
      "2020-01-10 17:33:58 Training - Downloading the training image..\u001b[34mbash: cannot set terminal process group (-1): Inappropriate ioctl for device\u001b[0m\n",
      "\u001b[34mbash: no job control in this shell\u001b[0m\n",
      "\u001b[34m2020-01-10 17:34:30,511 sagemaker-containers INFO     Imported framework sagemaker_pytorch_container.training\u001b[0m\n",
      "\u001b[34m2020-01-10 17:34:30,538 sagemaker_pytorch_container.training INFO     Block until all host DNS lookups succeed.\u001b[0m\n",
      "\u001b[34m2020-01-10 17:34:31,156 sagemaker_pytorch_container.training INFO     Invoking user training script.\u001b[0m\n",
      "\u001b[34m2020-01-10 17:34:31,457 sagemaker-containers INFO     Module train does not provide a setup.py. \u001b[0m\n",
      "\u001b[34mGenerating setup.py\u001b[0m\n",
      "\u001b[34m2020-01-10 17:34:31,457 sagemaker-containers INFO     Generating setup.cfg\u001b[0m\n",
      "\u001b[34m2020-01-10 17:34:31,457 sagemaker-containers INFO     Generating MANIFEST.in\u001b[0m\n",
      "\u001b[34m2020-01-10 17:34:31,457 sagemaker-containers INFO     Installing module with the following command:\u001b[0m\n",
      "\u001b[34m/usr/bin/python -m pip install -U . -r requirements.txt\u001b[0m\n",
      "\u001b[34mProcessing /opt/ml/code\u001b[0m\n",
      "\u001b[34mCollecting pandas (from -r requirements.txt (line 1))\n",
      "  Downloading https://files.pythonhosted.org/packages/74/24/0cdbf8907e1e3bc5a8da03345c23cbed7044330bb8f73bb12e711a640a00/pandas-0.24.2-cp35-cp35m-manylinux1_x86_64.whl (10.0MB)\u001b[0m\n",
      "\u001b[34mCollecting numpy (from -r requirements.txt (line 2))\n",
      "  Downloading https://files.pythonhosted.org/packages/52/e6/1715e592ef47f28f3f50065322423bb75619ed2f7c24be86380ecc93503c/numpy-1.18.1-cp35-cp35m-manylinux1_x86_64.whl (19.9MB)\u001b[0m\n",
      "\u001b[34mCollecting nltk (from -r requirements.txt (line 3))\n",
      "  Downloading https://files.pythonhosted.org/packages/f6/1d/d925cfb4f324ede997f6d47bea4d9babba51b49e87a767c170b77005889d/nltk-3.4.5.zip (1.5MB)\u001b[0m\n",
      "\u001b[34mCollecting beautifulsoup4 (from -r requirements.txt (line 4))\n",
      "  Downloading https://files.pythonhosted.org/packages/cb/a1/c698cf319e9cfed6b17376281bd0efc6bfc8465698f54170ef60a485ab5d/beautifulsoup4-4.8.2-py3-none-any.whl (106kB)\u001b[0m\n",
      "\u001b[34mCollecting html5lib (from -r requirements.txt (line 5))\n",
      "  Downloading https://files.pythonhosted.org/packages/a5/62/bbd2be0e7943ec8504b517e62bab011b4946e1258842bc159e5dfde15b96/html5lib-1.0.1-py2.py3-none-any.whl (117kB)\u001b[0m\n",
      "\u001b[34mRequirement already satisfied, skipping upgrade: python-dateutil>=2.5.0 in /usr/local/lib/python3.5/dist-packages (from pandas->-r requirements.txt (line 1)) (2.7.5)\u001b[0m\n",
      "\u001b[34mCollecting pytz>=2011k (from pandas->-r requirements.txt (line 1))\n",
      "  Downloading https://files.pythonhosted.org/packages/e7/f9/f0b53f88060247251bf481fa6ea62cd0d25bf1b11a87888e53ce5b7c8ad2/pytz-2019.3-py2.py3-none-any.whl (509kB)\u001b[0m\n",
      "\u001b[34mRequirement already satisfied, skipping upgrade: six in /usr/local/lib/python3.5/dist-packages (from nltk->-r requirements.txt (line 3)) (1.11.0)\u001b[0m\n",
      "\u001b[34mCollecting soupsieve>=1.2 (from beautifulsoup4->-r requirements.txt (line 4))\n",
      "  Downloading https://files.pythonhosted.org/packages/81/94/03c0f04471fc245d08d0a99f7946ac228ca98da4fa75796c507f61e688c2/soupsieve-1.9.5-py2.py3-none-any.whl\u001b[0m\n",
      "\u001b[34mCollecting webencodings (from html5lib->-r requirements.txt (line 5))\n",
      "  Downloading https://files.pythonhosted.org/packages/f4/24/2a3e3df732393fed8b3ebf2ec078f05546de641fe1b667ee316ec1dcf3b7/webencodings-0.5.1-py2.py3-none-any.whl\u001b[0m\n",
      "\u001b[34mBuilding wheels for collected packages: nltk, train\n",
      "  Running setup.py bdist_wheel for nltk: started\u001b[0m\n",
      "\u001b[34m  Running setup.py bdist_wheel for nltk: finished with status 'done'\n",
      "  Stored in directory: /root/.cache/pip/wheels/96/86/f6/68ab24c23f207c0077381a5e3904b2815136b879538a24b483\n",
      "  Running setup.py bdist_wheel for train: started\u001b[0m\n",
      "\u001b[34m  Running setup.py bdist_wheel for train: finished with status 'done'\n",
      "  Stored in directory: /tmp/pip-ephem-wheel-cache-syrwkrtm/wheels/35/24/16/37574d11bf9bde50616c67372a334f94fa8356bc7164af8ca3\u001b[0m\n",
      "\u001b[34mSuccessfully built nltk train\u001b[0m\n",
      "\u001b[34mInstalling collected packages: pytz, numpy, pandas, nltk, soupsieve, beautifulsoup4, webencodings, html5lib, train\n",
      "  Found existing installation: numpy 1.15.4\n",
      "    Uninstalling numpy-1.15.4:\u001b[0m\n",
      "\u001b[34m      Successfully uninstalled numpy-1.15.4\u001b[0m\n",
      "\n",
      "2020-01-10 17:34:29 Training - Training image download completed. Training in progress.\u001b[34mSuccessfully installed beautifulsoup4-4.8.2 html5lib-1.0.1 nltk-3.4.5 numpy-1.18.1 pandas-0.24.2 pytz-2019.3 soupsieve-1.9.5 train-1.0.0 webencodings-0.5.1\u001b[0m\n",
      "\u001b[34mYou are using pip version 18.1, however version 19.3.1 is available.\u001b[0m\n",
      "\u001b[34mYou should consider upgrading via the 'pip install --upgrade pip' command.\u001b[0m\n",
      "\u001b[34m2020-01-10 17:34:44,077 sagemaker-containers INFO     Invoking user script\n",
      "\u001b[0m\n",
      "\u001b[34mTraining Env:\n",
      "\u001b[0m\n",
      "\u001b[34m{\n",
      "    \"output_data_dir\": \"/opt/ml/output/data\",\n",
      "    \"framework_module\": \"sagemaker_pytorch_container.training:main\",\n",
      "    \"model_dir\": \"/opt/ml/model\",\n",
      "    \"input_dir\": \"/opt/ml/input\",\n",
      "    \"num_gpus\": 1,\n",
      "    \"num_cpus\": 4,\n",
      "    \"job_name\": \"sagemaker-pytorch-2020-01-10-17-30-50-146\",\n",
      "    \"output_intermediate_dir\": \"/opt/ml/output/intermediate\",\n",
      "    \"additional_framework_parameters\": {},\n",
      "    \"input_config_dir\": \"/opt/ml/input/config\",\n",
      "    \"input_data_config\": {\n",
      "        \"training\": {\n",
      "            \"S3DistributionType\": \"FullyReplicated\",\n",
      "            \"RecordWrapperType\": \"None\",\n",
      "            \"TrainingInputMode\": \"File\"\n",
      "        }\n",
      "    },\n",
      "    \"module_name\": \"train\",\n",
      "    \"log_level\": 20,\n",
      "    \"network_interface_name\": \"eth0\",\n",
      "    \"current_host\": \"algo-1\",\n",
      "    \"hosts\": [\n",
      "        \"algo-1\"\n",
      "    ],\n",
      "    \"hyperparameters\": {\n",
      "        \"hidden_dim\": 200,\n",
      "        \"epochs\": 10\n",
      "    },\n",
      "    \"user_entry_point\": \"train.py\",\n",
      "    \"resource_config\": {\n",
      "        \"network_interface_name\": \"eth0\",\n",
      "        \"hosts\": [\n",
      "            \"algo-1\"\n",
      "        ],\n",
      "        \"current_host\": \"algo-1\"\n",
      "    },\n",
      "    \"module_dir\": \"s3://sagemaker-us-east-1-755811553671/sagemaker-pytorch-2020-01-10-17-30-50-146/source/sourcedir.tar.gz\",\n",
      "    \"channel_input_dirs\": {\n",
      "        \"training\": \"/opt/ml/input/data/training\"\n",
      "    },\n",
      "    \"output_dir\": \"/opt/ml/output\"\u001b[0m\n",
      "\u001b[34m}\n",
      "\u001b[0m\n",
      "\u001b[34mEnvironment variables:\n",
      "\u001b[0m\n",
      "\u001b[34mSM_FRAMEWORK_MODULE=sagemaker_pytorch_container.training:main\u001b[0m\n",
      "\u001b[34mSM_USER_ARGS=[\"--epochs\",\"10\",\"--hidden_dim\",\"200\"]\u001b[0m\n",
      "\u001b[34mSM_CHANNELS=[\"training\"]\u001b[0m\n",
      "\u001b[34mSM_CHANNEL_TRAINING=/opt/ml/input/data/training\u001b[0m\n",
      "\u001b[34mSM_NUM_CPUS=4\u001b[0m\n",
      "\u001b[34mPYTHONPATH=/usr/local/bin:/usr/lib/python35.zip:/usr/lib/python3.5:/usr/lib/python3.5/plat-x86_64-linux-gnu:/usr/lib/python3.5/lib-dynload:/usr/local/lib/python3.5/dist-packages:/usr/lib/python3/dist-packages\u001b[0m\n",
      "\u001b[34mSM_OUTPUT_INTERMEDIATE_DIR=/opt/ml/output/intermediate\u001b[0m\n",
      "\u001b[34mSM_OUTPUT_DIR=/opt/ml/output\u001b[0m\n",
      "\u001b[34mSM_MODULE_NAME=train\u001b[0m\n",
      "\u001b[34mSM_HP_EPOCHS=10\u001b[0m\n",
      "\u001b[34mSM_INPUT_CONFIG_DIR=/opt/ml/input/config\u001b[0m\n",
      "\u001b[34mSM_HPS={\"epochs\":10,\"hidden_dim\":200}\u001b[0m\n",
      "\u001b[34mSM_MODULE_DIR=s3://sagemaker-us-east-1-755811553671/sagemaker-pytorch-2020-01-10-17-30-50-146/source/sourcedir.tar.gz\u001b[0m\n",
      "\u001b[34mSM_INPUT_DATA_CONFIG={\"training\":{\"RecordWrapperType\":\"None\",\"S3DistributionType\":\"FullyReplicated\",\"TrainingInputMode\":\"File\"}}\u001b[0m\n",
      "\u001b[34mSM_LOG_LEVEL=20\u001b[0m\n",
      "\u001b[34mSM_HOSTS=[\"algo-1\"]\u001b[0m\n",
      "\u001b[34mSM_OUTPUT_DATA_DIR=/opt/ml/output/data\u001b[0m\n",
      "\u001b[34mSM_NUM_GPUS=1\u001b[0m\n",
      "\u001b[34mSM_HP_HIDDEN_DIM=200\u001b[0m\n",
      "\u001b[34mSM_MODEL_DIR=/opt/ml/model\u001b[0m\n",
      "\u001b[34mSM_CURRENT_HOST=algo-1\u001b[0m\n",
      "\u001b[34mSM_INPUT_DIR=/opt/ml/input\u001b[0m\n",
      "\u001b[34mSM_TRAINING_ENV={\"additional_framework_parameters\":{},\"channel_input_dirs\":{\"training\":\"/opt/ml/input/data/training\"},\"current_host\":\"algo-1\",\"framework_module\":\"sagemaker_pytorch_container.training:main\",\"hosts\":[\"algo-1\"],\"hyperparameters\":{\"epochs\":10,\"hidden_dim\":200},\"input_config_dir\":\"/opt/ml/input/config\",\"input_data_config\":{\"training\":{\"RecordWrapperType\":\"None\",\"S3DistributionType\":\"FullyReplicated\",\"TrainingInputMode\":\"File\"}},\"input_dir\":\"/opt/ml/input\",\"job_name\":\"sagemaker-pytorch-2020-01-10-17-30-50-146\",\"log_level\":20,\"model_dir\":\"/opt/ml/model\",\"module_dir\":\"s3://sagemaker-us-east-1-755811553671/sagemaker-pytorch-2020-01-10-17-30-50-146/source/sourcedir.tar.gz\",\"module_name\":\"train\",\"network_interface_name\":\"eth0\",\"num_cpus\":4,\"num_gpus\":1,\"output_data_dir\":\"/opt/ml/output/data\",\"output_dir\":\"/opt/ml/output\",\"output_intermediate_dir\":\"/opt/ml/output/intermediate\",\"resource_config\":{\"current_host\":\"algo-1\",\"hosts\":[\"algo-1\"],\"network_interface_name\":\"eth0\"},\"user_entry_point\":\"train.py\"}\u001b[0m\n",
      "\u001b[34mSM_USER_ENTRY_POINT=train.py\u001b[0m\n",
      "\u001b[34mSM_FRAMEWORK_PARAMS={}\u001b[0m\n",
      "\u001b[34mSM_NETWORK_INTERFACE_NAME=eth0\u001b[0m\n",
      "\u001b[34mSM_RESOURCE_CONFIG={\"current_host\":\"algo-1\",\"hosts\":[\"algo-1\"],\"network_interface_name\":\"eth0\"}\n",
      "\u001b[0m\n",
      "\u001b[34mInvoking script with the following command:\n",
      "\u001b[0m\n",
      "\u001b[34m/usr/bin/python -m train --epochs 10 --hidden_dim 200\n",
      "\n",
      "\u001b[0m\n",
      "\u001b[34mUsing device cuda.\u001b[0m\n",
      "\u001b[34mGet train data loader.\u001b[0m\n"
     ]
    },
    {
     "name": "stdout",
     "output_type": "stream",
     "text": [
      "\u001b[34mModel loaded with embedding_dim 32, hidden_dim 200, vocab_size 5000.\u001b[0m\n",
      "\u001b[34mEpoch: 1, BCELoss: 0.6685374488635939\u001b[0m\n",
      "\u001b[34mEpoch: 2, BCELoss: 0.5966863309850499\u001b[0m\n",
      "\u001b[34mEpoch: 3, BCELoss: 0.5668458409455358\u001b[0m\n",
      "\u001b[34mEpoch: 4, BCELoss: 0.4835121169382212\u001b[0m\n",
      "\u001b[34mEpoch: 5, BCELoss: 0.418092278801665\u001b[0m\n",
      "\u001b[34mEpoch: 6, BCELoss: 0.4427122704836787\u001b[0m\n",
      "\u001b[34mEpoch: 7, BCELoss: 0.35730181421552387\u001b[0m\n",
      "\u001b[34mEpoch: 8, BCELoss: 0.32824138901671585\u001b[0m\n",
      "\u001b[34mEpoch: 9, BCELoss: 0.30325677565165926\u001b[0m\n",
      "\n",
      "2020-01-10 17:37:52 Uploading - Uploading generated training model\u001b[34mEpoch: 10, BCELoss: 0.295308776047765\u001b[0m\n",
      "\u001b[34m2020-01-10 17:37:48,784 sagemaker-containers INFO     Reporting training SUCCESS\u001b[0m\n",
      "\n",
      "2020-01-10 17:37:59 Completed - Training job completed\n",
      "Training seconds: 278\n",
      "Billable seconds: 278\n"
     ]
    }
   ],
   "source": [
    "estimator.fit({'training': input_data})"
   ]
  },
  {
   "cell_type": "markdown",
   "metadata": {},
   "source": [
    "## Step 5: Testing the model\n",
    "\n",
    "As mentioned at the top of this notebook, we will be testing this model by first deploying it and then sending the testing data to the deployed endpoint. We will do this so that we can make sure that the deployed model is working correctly.\n",
    "\n",
    "## Step 6: Deploy the model for testing\n",
    "\n",
    "Now that we have trained our model, we would like to test it to see how it performs. Currently our model takes input of the form `review_length, review[500]` where `review[500]` is a sequence of `500` integers which describe the words present in the review, encoded using `word_dict`. Fortunately for us, SageMaker provides built-in inference code for models with simple inputs such as this.\n",
    "\n",
    "There is one thing that we need to provide, however, and that is a function which loads the saved model. This function must be called `model_fn()` and takes as its only parameter a path to the directory where the model artifacts are stored. This function must also be present in the python file which we specified as the entry point. In our case the model loading function has been provided and so no changes need to be made.\n",
    "\n",
    "**NOTE**: When the built-in inference code is run it must import the `model_fn()` method from the `train.py` file. This is why the training code is wrapped in a main guard ( ie, `if __name__ == '__main__':` )\n",
    "\n",
    "Since we don't need to change anything in the code that was uploaded during training, we can simply deploy the current model as-is.\n",
    "\n",
    "**NOTE:** When deploying a model you are asking SageMaker to launch an compute instance that will wait for data to be sent to it. As a result, this compute instance will continue to run until *you* shut it down. This is important to know since the cost of a deployed endpoint depends on how long it has been running for.\n",
    "\n",
    "In other words **If you are no longer using a deployed endpoint, shut it down!**\n",
    "\n",
    "**TODO:** Deploy the trained model."
   ]
  },
  {
   "cell_type": "code",
   "execution_count": 29,
   "metadata": {},
   "outputs": [
    {
     "name": "stdout",
     "output_type": "stream",
     "text": [
      "---------------------------------------------------------------------------------------------------!"
     ]
    }
   ],
   "source": [
    "# TODO: Deploy the trained model\n",
    "predictor = estimator.deploy(initial_instance_count = 1, instance_type = 'ml.m4.xlarge')"
   ]
  },
  {
   "cell_type": "markdown",
   "metadata": {},
   "source": [
    "## Step 7 - Use the model for testing\n",
    "\n",
    "Once deployed, we can read in the test data and send it off to our deployed model to get some results. Once we collect all of the results we can determine how accurate our model is."
   ]
  },
  {
   "cell_type": "code",
   "execution_count": 30,
   "metadata": {},
   "outputs": [],
   "source": [
    "test_X = pd.concat([pd.DataFrame(test_X_len), pd.DataFrame(test_X)], axis=1)"
   ]
  },
  {
   "cell_type": "code",
   "execution_count": 31,
   "metadata": {},
   "outputs": [],
   "source": [
    "# We split the data into chunks and send each chunk seperately, accumulating the results.\n",
    "\n",
    "def predict(data, rows=512):\n",
    "    split_array = np.array_split(data, int(data.shape[0] / float(rows) + 1))\n",
    "    predictions = np.array([])\n",
    "    for array in split_array:\n",
    "        predictions = np.append(predictions, predictor.predict(array))\n",
    "    \n",
    "    return predictions"
   ]
  },
  {
   "cell_type": "code",
   "execution_count": 32,
   "metadata": {},
   "outputs": [],
   "source": [
    "predictions = predict(test_X.values)\n",
    "predictions = [round(num) for num in predictions]"
   ]
  },
  {
   "cell_type": "code",
   "execution_count": 33,
   "metadata": {},
   "outputs": [
    {
     "data": {
      "text/plain": [
       "0.85616"
      ]
     },
     "execution_count": 33,
     "metadata": {},
     "output_type": "execute_result"
    }
   ],
   "source": [
    "from sklearn.metrics import accuracy_score\n",
    "accuracy_score(test_y, predictions)"
   ]
  },
  {
   "cell_type": "markdown",
   "metadata": {},
   "source": [
    "**Question:** How does this model compare to the XGBoost model you created earlier? Why might these two models perform differently on this dataset? Which do *you* think is better for sentiment analysis?"
   ]
  },
  {
   "cell_type": "markdown",
   "metadata": {},
   "source": [
    "**Answer:** \n",
    "XGBoost achieved similar performance after hyperparamterized turining, where for RNN outperformed without any tuning and performance can further be increased by increasing number of epochs.\n",
    "\n",
    "Incase of XGBoost which uses Bag of words to represent review disregards grammar and even word order.\n",
    "The features are usually count matrix or tf-idf matrix, which ignores order of words.\n",
    "\n",
    "RNN models seems to be more suitable for sentiment analysis since they have the ability to understand the order of features i.e previous inputs are remembered (hidden layers). The LSTM model used here uses an embedding vector for each word. \n",
    "Word embedding is capable of capturing context of a word in a document, semantic and syntactic similarity, relation with other words, etc.\n",
    "\n",
    "Since BoW vectors lose the order of words in the review and LSTM can exploit the information from the order of words, LSTM is better suited for sentiment analysis.\n",
    "\n",
    "It should be noted that CNNs and LSTMs are slower than things like bag-of-words/fasttext unless you're using an GPU.\n",
    "Also Deep learning methods require a lot more training data than XGBoost, SVM, AdaBoost, Random Forests etc."
   ]
  },
  {
   "cell_type": "code",
   "execution_count": null,
   "metadata": {},
   "outputs": [],
   "source": []
  },
  {
   "cell_type": "markdown",
   "metadata": {},
   "source": [
    "### (TODO) More testing\n",
    "\n",
    "We now have a trained model which has been deployed and which we can send processed reviews to and which returns the predicted sentiment. However, ultimately we would like to be able to send our model an unprocessed review. That is, we would like to send the review itself as a string. For example, suppose we wish to send the following review to our model."
   ]
  },
  {
   "cell_type": "code",
   "execution_count": 34,
   "metadata": {},
   "outputs": [],
   "source": [
    "test_review = 'The simplest pleasures in life are the best, and this film is one of them. Combining a rather basic storyline of love and adventure this movie transcends the usual weekend fair with wit and unmitigated charm.'"
   ]
  },
  {
   "cell_type": "markdown",
   "metadata": {},
   "source": [
    "The question we now need to answer is, how do we send this review to our model?\n",
    "\n",
    "Recall in the first section of this notebook we did a bunch of data processing to the IMDb dataset. In particular, we did two specific things to the provided reviews.\n",
    " - Removed any html tags and stemmed the input\n",
    " - Encoded the review as a sequence of integers using `word_dict`\n",
    " \n",
    "In order process the review we will need to repeat these two steps.\n",
    "\n",
    "**TODO**: Using the `review_to_words` and `convert_and_pad` methods from section one, convert `test_review` into a numpy array `test_data` suitable to send to our model. Remember that our model expects input of the form `review_length, review[500]`."
   ]
  },
  {
   "cell_type": "code",
   "execution_count": 43,
   "metadata": {},
   "outputs": [
    {
     "name": "stdout",
     "output_type": "stream",
     "text": [
      "(1, 501)\n",
      "[[  20    1 1374   50   53    3    4  878  173  392  682   29  723    2\n",
      "  4423  275 2076 1061  760    1  582    0    0    0    0    0    0    0\n",
      "     0    0    0    0    0    0    0    0    0    0    0    0    0    0\n",
      "     0    0    0    0    0    0    0    0    0    0    0    0    0    0\n",
      "     0    0    0    0    0    0    0    0    0    0    0    0    0    0\n",
      "     0    0    0    0    0    0    0    0    0    0    0    0    0    0\n",
      "     0    0    0    0    0    0    0    0    0    0    0    0    0    0\n",
      "     0    0    0    0    0    0    0    0    0    0    0    0    0    0\n",
      "     0    0    0    0    0    0    0    0    0    0    0    0    0    0\n",
      "     0    0    0    0    0    0    0    0    0    0    0    0    0    0\n",
      "     0    0    0    0    0    0    0    0    0    0    0    0    0    0\n",
      "     0    0    0    0    0    0    0    0    0    0    0    0    0    0\n",
      "     0    0    0    0    0    0    0    0    0    0    0    0    0    0\n",
      "     0    0    0    0    0    0    0    0    0    0    0    0    0    0\n",
      "     0    0    0    0    0    0    0    0    0    0    0    0    0    0\n",
      "     0    0    0    0    0    0    0    0    0    0    0    0    0    0\n",
      "     0    0    0    0    0    0    0    0    0    0    0    0    0    0\n",
      "     0    0    0    0    0    0    0    0    0    0    0    0    0    0\n",
      "     0    0    0    0    0    0    0    0    0    0    0    0    0    0\n",
      "     0    0    0    0    0    0    0    0    0    0    0    0    0    0\n",
      "     0    0    0    0    0    0    0    0    0    0    0    0    0    0\n",
      "     0    0    0    0    0    0    0    0    0    0    0    0    0    0\n",
      "     0    0    0    0    0    0    0    0    0    0    0    0    0    0\n",
      "     0    0    0    0    0    0    0    0    0    0    0    0    0    0\n",
      "     0    0    0    0    0    0    0    0    0    0    0    0    0    0\n",
      "     0    0    0    0    0    0    0    0    0    0    0    0    0    0\n",
      "     0    0    0    0    0    0    0    0    0    0    0    0    0    0\n",
      "     0    0    0    0    0    0    0    0    0    0    0    0    0    0\n",
      "     0    0    0    0    0    0    0    0    0    0    0    0    0    0\n",
      "     0    0    0    0    0    0    0    0    0    0    0    0    0    0\n",
      "     0    0    0    0    0    0    0    0    0    0    0    0    0    0\n",
      "     0    0    0    0    0    0    0    0    0    0    0    0    0    0\n",
      "     0    0    0    0    0    0    0    0    0    0    0    0    0    0\n",
      "     0    0    0    0    0    0    0    0    0    0    0    0    0    0\n",
      "     0    0    0    0    0    0    0    0    0    0    0    0    0    0\n",
      "     0    0    0    0    0    0    0    0    0    0    0]]\n"
     ]
    }
   ],
   "source": [
    "# TODO: Convert test_review into a form usable by the model and save the results in test_data\n",
    "test_data = None\n",
    "test_review_words = review_to_words(test_review)\n",
    "test_review_words, length = convert_and_pad(word_dict, test_review_words)\n",
    "test_data = np.array([[length] + test_review_words])\n",
    "print(test_data.shape)\n",
    "print(test_data)"
   ]
  },
  {
   "cell_type": "markdown",
   "metadata": {},
   "source": [
    "Now that we have processed the review, we can send the resulting array to our model to predict the sentiment of the review."
   ]
  },
  {
   "cell_type": "code",
   "execution_count": 36,
   "metadata": {},
   "outputs": [
    {
     "data": {
      "text/plain": [
       "array(0.9632469, dtype=float32)"
      ]
     },
     "execution_count": 36,
     "metadata": {},
     "output_type": "execute_result"
    }
   ],
   "source": [
    "predictor.predict(test_data)"
   ]
  },
  {
   "cell_type": "markdown",
   "metadata": {},
   "source": [
    "Since the return value of our model is close to `1`, we can be certain that the review we submitted is positive."
   ]
  },
  {
   "cell_type": "markdown",
   "metadata": {},
   "source": [
    "### Delete the endpoint\n",
    "\n",
    "Of course, just like in the XGBoost notebook, once we've deployed an endpoint it continues to run until we tell it to shut down. Since we are done using our endpoint for now, we can delete it."
   ]
  },
  {
   "cell_type": "code",
   "execution_count": 37,
   "metadata": {},
   "outputs": [],
   "source": [
    "estimator.delete_endpoint()"
   ]
  },
  {
   "cell_type": "markdown",
   "metadata": {},
   "source": [
    "## Step 6 (again) - Deploy the model for the web app\n",
    "\n",
    "Now that we know that our model is working, it's time to create some custom inference code so that we can send the model a review which has not been processed and have it determine the sentiment of the review.\n",
    "\n",
    "As we saw above, by default the estimator which we created, when deployed, will use the entry script and directory which we provided when creating the model. However, since we now wish to accept a string as input and our model expects a processed review, we need to write some custom inference code.\n",
    "\n",
    "We will store the code that we write in the `serve` directory. Provided in this directory is the `model.py` file that we used to construct our model, a `utils.py` file which contains the `review_to_words` and `convert_and_pad` pre-processing functions which we used during the initial data processing, and `predict.py`, the file which will contain our custom inference code. Note also that `requirements.txt` is present which will tell SageMaker what Python libraries are required by our custom inference code.\n",
    "\n",
    "When deploying a PyTorch model in SageMaker, you are expected to provide four functions which the SageMaker inference container will use.\n",
    " - `model_fn`: This function is the same function that we used in the training script and it tells SageMaker how to load our model.\n",
    " - `input_fn`: This function receives the raw serialized input that has been sent to the model's endpoint and its job is to de-serialize and make the input available for the inference code.\n",
    " - `output_fn`: This function takes the output of the inference code and its job is to serialize this output and return it to the caller of the model's endpoint.\n",
    " - `predict_fn`: The heart of the inference script, this is where the actual prediction is done and is the function which you will need to complete.\n",
    "\n",
    "For the simple website that we are constructing during this project, the `input_fn` and `output_fn` methods are relatively straightforward. We only require being able to accept a string as input and we expect to return a single value as output. You might imagine though that in a more complex application the input or output may be image data or some other binary data which would require some effort to serialize.\n",
    "\n",
    "### (TODO) Writing inference code\n",
    "\n",
    "Before writing our custom inference code, we will begin by taking a look at the code which has been provided."
   ]
  },
  {
   "cell_type": "code",
   "execution_count": 45,
   "metadata": {},
   "outputs": [
    {
     "name": "stdout",
     "output_type": "stream",
     "text": [
      "\u001b[34mimport\u001b[39;49;00m \u001b[04m\u001b[36margparse\u001b[39;49;00m\r\n",
      "\u001b[34mimport\u001b[39;49;00m \u001b[04m\u001b[36mjson\u001b[39;49;00m\r\n",
      "\u001b[34mimport\u001b[39;49;00m \u001b[04m\u001b[36mos\u001b[39;49;00m\r\n",
      "\u001b[34mimport\u001b[39;49;00m \u001b[04m\u001b[36mpickle\u001b[39;49;00m\r\n",
      "\u001b[34mimport\u001b[39;49;00m \u001b[04m\u001b[36msys\u001b[39;49;00m\r\n",
      "\u001b[34mimport\u001b[39;49;00m \u001b[04m\u001b[36msagemaker_containers\u001b[39;49;00m\r\n",
      "\u001b[34mimport\u001b[39;49;00m \u001b[04m\u001b[36mpandas\u001b[39;49;00m \u001b[34mas\u001b[39;49;00m \u001b[04m\u001b[36mpd\u001b[39;49;00m\r\n",
      "\u001b[34mimport\u001b[39;49;00m \u001b[04m\u001b[36mnumpy\u001b[39;49;00m \u001b[34mas\u001b[39;49;00m \u001b[04m\u001b[36mnp\u001b[39;49;00m\r\n",
      "\u001b[34mimport\u001b[39;49;00m \u001b[04m\u001b[36mtorch\u001b[39;49;00m\r\n",
      "\u001b[34mimport\u001b[39;49;00m \u001b[04m\u001b[36mtorch.nn\u001b[39;49;00m \u001b[34mas\u001b[39;49;00m \u001b[04m\u001b[36mnn\u001b[39;49;00m\r\n",
      "\u001b[34mimport\u001b[39;49;00m \u001b[04m\u001b[36mtorch.optim\u001b[39;49;00m \u001b[34mas\u001b[39;49;00m \u001b[04m\u001b[36moptim\u001b[39;49;00m\r\n",
      "\u001b[34mimport\u001b[39;49;00m \u001b[04m\u001b[36mtorch.utils.data\u001b[39;49;00m\r\n",
      "\r\n",
      "\u001b[34mfrom\u001b[39;49;00m \u001b[04m\u001b[36mmodel\u001b[39;49;00m \u001b[34mimport\u001b[39;49;00m LSTMClassifier\r\n",
      "\r\n",
      "\u001b[34mfrom\u001b[39;49;00m \u001b[04m\u001b[36mutils\u001b[39;49;00m \u001b[34mimport\u001b[39;49;00m review_to_words, convert_and_pad\r\n",
      "\r\n",
      "\u001b[34mdef\u001b[39;49;00m \u001b[32mmodel_fn\u001b[39;49;00m(model_dir):\r\n",
      "    \u001b[33m\"\"\"Load the PyTorch model from the `model_dir` directory.\"\"\"\u001b[39;49;00m\r\n",
      "    \u001b[34mprint\u001b[39;49;00m(\u001b[33m\"\u001b[39;49;00m\u001b[33mLoading model.\u001b[39;49;00m\u001b[33m\"\u001b[39;49;00m)\r\n",
      "\r\n",
      "    \u001b[37m# First, load the parameters used to create the model.\u001b[39;49;00m\r\n",
      "    model_info = {}\r\n",
      "    model_info_path = os.path.join(model_dir, \u001b[33m'\u001b[39;49;00m\u001b[33mmodel_info.pth\u001b[39;49;00m\u001b[33m'\u001b[39;49;00m)\r\n",
      "    \u001b[34mwith\u001b[39;49;00m \u001b[36mopen\u001b[39;49;00m(model_info_path, \u001b[33m'\u001b[39;49;00m\u001b[33mrb\u001b[39;49;00m\u001b[33m'\u001b[39;49;00m) \u001b[34mas\u001b[39;49;00m f:\r\n",
      "        model_info = torch.load(f)\r\n",
      "\r\n",
      "    \u001b[34mprint\u001b[39;49;00m(\u001b[33m\"\u001b[39;49;00m\u001b[33mmodel_info: {}\u001b[39;49;00m\u001b[33m\"\u001b[39;49;00m.format(model_info))\r\n",
      "\r\n",
      "    \u001b[37m# Determine the device and construct the model.\u001b[39;49;00m\r\n",
      "    device = torch.device(\u001b[33m\"\u001b[39;49;00m\u001b[33mcuda\u001b[39;49;00m\u001b[33m\"\u001b[39;49;00m \u001b[34mif\u001b[39;49;00m torch.cuda.is_available() \u001b[34melse\u001b[39;49;00m \u001b[33m\"\u001b[39;49;00m\u001b[33mcpu\u001b[39;49;00m\u001b[33m\"\u001b[39;49;00m)\r\n",
      "    model = LSTMClassifier(model_info[\u001b[33m'\u001b[39;49;00m\u001b[33membedding_dim\u001b[39;49;00m\u001b[33m'\u001b[39;49;00m], model_info[\u001b[33m'\u001b[39;49;00m\u001b[33mhidden_dim\u001b[39;49;00m\u001b[33m'\u001b[39;49;00m], model_info[\u001b[33m'\u001b[39;49;00m\u001b[33mvocab_size\u001b[39;49;00m\u001b[33m'\u001b[39;49;00m])\r\n",
      "\r\n",
      "    \u001b[37m# Load the store model parameters.\u001b[39;49;00m\r\n",
      "    model_path = os.path.join(model_dir, \u001b[33m'\u001b[39;49;00m\u001b[33mmodel.pth\u001b[39;49;00m\u001b[33m'\u001b[39;49;00m)\r\n",
      "    \u001b[34mwith\u001b[39;49;00m \u001b[36mopen\u001b[39;49;00m(model_path, \u001b[33m'\u001b[39;49;00m\u001b[33mrb\u001b[39;49;00m\u001b[33m'\u001b[39;49;00m) \u001b[34mas\u001b[39;49;00m f:\r\n",
      "        model.load_state_dict(torch.load(f))\r\n",
      "\r\n",
      "    \u001b[37m# Load the saved word_dict.\u001b[39;49;00m\r\n",
      "    word_dict_path = os.path.join(model_dir, \u001b[33m'\u001b[39;49;00m\u001b[33mword_dict.pkl\u001b[39;49;00m\u001b[33m'\u001b[39;49;00m)\r\n",
      "    \u001b[34mwith\u001b[39;49;00m \u001b[36mopen\u001b[39;49;00m(word_dict_path, \u001b[33m'\u001b[39;49;00m\u001b[33mrb\u001b[39;49;00m\u001b[33m'\u001b[39;49;00m) \u001b[34mas\u001b[39;49;00m f:\r\n",
      "        model.word_dict = pickle.load(f)\r\n",
      "\r\n",
      "    model.to(device).eval()\r\n",
      "\r\n",
      "    \u001b[34mprint\u001b[39;49;00m(\u001b[33m\"\u001b[39;49;00m\u001b[33mDone loading model.\u001b[39;49;00m\u001b[33m\"\u001b[39;49;00m)\r\n",
      "    \u001b[34mreturn\u001b[39;49;00m model\r\n",
      "\r\n",
      "\u001b[34mdef\u001b[39;49;00m \u001b[32minput_fn\u001b[39;49;00m(serialized_input_data, content_type):\r\n",
      "    \u001b[34mprint\u001b[39;49;00m(\u001b[33m'\u001b[39;49;00m\u001b[33mDeserializing the input data.\u001b[39;49;00m\u001b[33m'\u001b[39;49;00m)\r\n",
      "    \u001b[34mif\u001b[39;49;00m content_type == \u001b[33m'\u001b[39;49;00m\u001b[33mtext/plain\u001b[39;49;00m\u001b[33m'\u001b[39;49;00m:\r\n",
      "        data = serialized_input_data.decode(\u001b[33m'\u001b[39;49;00m\u001b[33mutf-8\u001b[39;49;00m\u001b[33m'\u001b[39;49;00m)\r\n",
      "        \u001b[34mreturn\u001b[39;49;00m data\r\n",
      "    \u001b[34mraise\u001b[39;49;00m \u001b[36mException\u001b[39;49;00m(\u001b[33m'\u001b[39;49;00m\u001b[33mRequested unsupported ContentType in content_type: \u001b[39;49;00m\u001b[33m'\u001b[39;49;00m + content_type)\r\n",
      "\r\n",
      "\u001b[34mdef\u001b[39;49;00m \u001b[32moutput_fn\u001b[39;49;00m(prediction_output, accept):\r\n",
      "    \u001b[34mprint\u001b[39;49;00m(\u001b[33m'\u001b[39;49;00m\u001b[33mSerializing the generated output.\u001b[39;49;00m\u001b[33m'\u001b[39;49;00m)\r\n",
      "    \u001b[34mreturn\u001b[39;49;00m \u001b[36mstr\u001b[39;49;00m(prediction_output)\r\n",
      "\r\n",
      "\u001b[34mdef\u001b[39;49;00m \u001b[32mpredict_fn\u001b[39;49;00m(input_data, model):\r\n",
      "    \u001b[34mprint\u001b[39;49;00m(\u001b[33m'\u001b[39;49;00m\u001b[33mInferring sentiment of input data.\u001b[39;49;00m\u001b[33m'\u001b[39;49;00m)\r\n",
      "\r\n",
      "    device = torch.device(\u001b[33m\"\u001b[39;49;00m\u001b[33mcuda\u001b[39;49;00m\u001b[33m\"\u001b[39;49;00m \u001b[34mif\u001b[39;49;00m torch.cuda.is_available() \u001b[34melse\u001b[39;49;00m \u001b[33m\"\u001b[39;49;00m\u001b[33mcpu\u001b[39;49;00m\u001b[33m\"\u001b[39;49;00m)\r\n",
      "    \r\n",
      "    \u001b[34mif\u001b[39;49;00m model.word_dict \u001b[35mis\u001b[39;49;00m \u001b[36mNone\u001b[39;49;00m:\r\n",
      "        \u001b[34mraise\u001b[39;49;00m \u001b[36mException\u001b[39;49;00m(\u001b[33m'\u001b[39;49;00m\u001b[33mModel has not been loaded properly, no word_dict.\u001b[39;49;00m\u001b[33m'\u001b[39;49;00m)\r\n",
      "    \r\n",
      "    \u001b[37m# TODO: Process input_data so that it is ready to be sent to our model.\u001b[39;49;00m\r\n",
      "    \u001b[37m#       You should produce two variables:\u001b[39;49;00m\r\n",
      "    \u001b[37m#         data_X   - A sequence of length 500 which represents the converted review\u001b[39;49;00m\r\n",
      "    \u001b[37m#         data_len - The length of the review\u001b[39;49;00m\r\n",
      "\r\n",
      "    data_X = \u001b[36mNone\u001b[39;49;00m\r\n",
      "    data_len = \u001b[36mNone\u001b[39;49;00m\r\n",
      "    \r\n",
      "    review_words = review_to_words(input_data)\r\n",
      "    review_words, length = convert_and_pad(model.word_dict, review_words)\r\n",
      "    data_X = review_words\r\n",
      "    data_len = length\r\n",
      "\r\n",
      "    \u001b[37m# Using data_X and data_len we construct an appropriate input tensor. Remember\u001b[39;49;00m\r\n",
      "    \u001b[37m# that our model expects input data of the form 'len, review[500]'.\u001b[39;49;00m\r\n",
      "    data_pack = np.hstack((data_len, data_X))\r\n",
      "    data_pack = data_pack.reshape(\u001b[34m1\u001b[39;49;00m, -\u001b[34m1\u001b[39;49;00m)\r\n",
      "    \r\n",
      "    data = torch.from_numpy(data_pack)\r\n",
      "    data = data.to(device)\r\n",
      "\r\n",
      "    \u001b[37m# Make sure to put the model into evaluation mode\u001b[39;49;00m\r\n",
      "    model.eval()\r\n",
      "\r\n",
      "    \u001b[37m# TODO: Compute the result of applying the model to the input data. The variable `result` should\u001b[39;49;00m\r\n",
      "    \u001b[37m#       be a numpy array which contains a single integer which is either 1 or 0\u001b[39;49;00m\r\n",
      "\r\n",
      "    result = \u001b[36mNone\u001b[39;49;00m\r\n",
      "    y_hat = model(data).detach().cpu().numpy()\r\n",
      "    \u001b[34mprint\u001b[39;49;00m(y_hat)\r\n",
      "    result = np.round(y_hat).astype(np.int)\r\n",
      "\r\n",
      "    \u001b[34mreturn\u001b[39;49;00m result\r\n"
     ]
    }
   ],
   "source": [
    "!pygmentize serve/predict.py"
   ]
  },
  {
   "cell_type": "markdown",
   "metadata": {},
   "source": [
    "As mentioned earlier, the `model_fn` method is the same as the one provided in the training code and the `input_fn` and `output_fn` methods are very simple and your task will be to complete the `predict_fn` method. Make sure that you save the completed file as `predict.py` in the `serve` directory.\n",
    "\n",
    "**TODO**: Complete the `predict_fn()` method in the `serve/predict.py` file."
   ]
  },
  {
   "cell_type": "markdown",
   "metadata": {},
   "source": [
    "### Deploying the model\n",
    "\n",
    "Now that the custom inference code has been written, we will create and deploy our model. To begin with, we need to construct a new PyTorchModel object which points to the model artifacts created during training and also points to the inference code that we wish to use. Then we can call the deploy method to launch the deployment container.\n",
    "\n",
    "**NOTE**: The default behaviour for a deployed PyTorch model is to assume that any input passed to the predictor is a `numpy` array. In our case we want to send a string so we need to construct a simple wrapper around the `RealTimePredictor` class to accomodate simple strings. In a more complicated situation you may want to provide a serialization object, for example if you wanted to sent image data."
   ]
  },
  {
   "cell_type": "code",
   "execution_count": 46,
   "metadata": {},
   "outputs": [
    {
     "name": "stdout",
     "output_type": "stream",
     "text": [
      "---------------------------------------------------------------------------------------------------------------!"
     ]
    }
   ],
   "source": [
    "from sagemaker.predictor import RealTimePredictor\n",
    "from sagemaker.pytorch import PyTorchModel\n",
    "\n",
    "class StringPredictor(RealTimePredictor):\n",
    "    def __init__(self, endpoint_name, sagemaker_session):\n",
    "        super(StringPredictor, self).__init__(endpoint_name, sagemaker_session, content_type='text/plain')\n",
    "\n",
    "model = PyTorchModel(model_data=estimator.model_data,\n",
    "                     role = role,\n",
    "                     framework_version='0.4.0',\n",
    "                     entry_point='predict.py',\n",
    "                     source_dir='serve',\n",
    "                     predictor_cls=StringPredictor)\n",
    "predictor = model.deploy(initial_instance_count=1, instance_type='ml.m4.xlarge')"
   ]
  },
  {
   "cell_type": "markdown",
   "metadata": {},
   "source": [
    "### Testing the model\n",
    "\n",
    "Now that we have deployed our model with the custom inference code, we should test to see if everything is working. Here we test our model by loading the first `250` positive and negative reviews and send them to the endpoint, then collect the results. The reason for only sending some of the data is that the amount of time it takes for our model to process the input and then perform inference is quite long and so testing the entire data set would be prohibitive."
   ]
  },
  {
   "cell_type": "code",
   "execution_count": 47,
   "metadata": {},
   "outputs": [],
   "source": [
    "import glob\n",
    "\n",
    "def test_reviews(data_dir='../data/aclImdb', stop=250):\n",
    "    \n",
    "    results = []\n",
    "    ground = []\n",
    "    \n",
    "    # We make sure to test both positive and negative reviews    \n",
    "    for sentiment in ['pos', 'neg']:\n",
    "        \n",
    "        path = os.path.join(data_dir, 'test', sentiment, '*.txt')\n",
    "        files = glob.glob(path)\n",
    "        \n",
    "        files_read = 0\n",
    "        \n",
    "        print('Starting ', sentiment, ' files')\n",
    "        \n",
    "        # Iterate through the files and send them to the predictor\n",
    "        for f in files:\n",
    "            with open(f) as review:\n",
    "                # First, we store the ground truth (was the review positive or negative)\n",
    "                if sentiment == 'pos':\n",
    "                    ground.append(1)\n",
    "                else:\n",
    "                    ground.append(0)\n",
    "                # Read in the review and convert to 'utf-8' for transmission via HTTP\n",
    "                review_input = review.read().encode('utf-8')\n",
    "                # Send the review to the predictor and store the results\n",
    "                results.append(int(predictor.predict(review_input)))\n",
    "                \n",
    "            # Sending reviews to our endpoint one at a time takes a while so we\n",
    "            # only send a small number of reviews\n",
    "            files_read += 1\n",
    "            if files_read == stop:\n",
    "                break\n",
    "            \n",
    "    return ground, results"
   ]
  },
  {
   "cell_type": "code",
   "execution_count": 48,
   "metadata": {},
   "outputs": [
    {
     "name": "stdout",
     "output_type": "stream",
     "text": [
      "Starting  pos  files\n",
      "Starting  neg  files\n"
     ]
    }
   ],
   "source": [
    "ground, results = test_reviews()"
   ]
  },
  {
   "cell_type": "code",
   "execution_count": 50,
   "metadata": {},
   "outputs": [
    {
     "data": {
      "text/plain": [
       "0.874"
      ]
     },
     "execution_count": 50,
     "metadata": {},
     "output_type": "execute_result"
    }
   ],
   "source": [
    "from sklearn.metrics import accuracy_score\n",
    "accuracy_score(ground, results)"
   ]
  },
  {
   "cell_type": "markdown",
   "metadata": {},
   "source": [
    "As an additional test, we can try sending the `test_review` that we looked at earlier."
   ]
  },
  {
   "cell_type": "code",
   "execution_count": 51,
   "metadata": {},
   "outputs": [
    {
     "data": {
      "text/plain": [
       "b'1'"
      ]
     },
     "execution_count": 51,
     "metadata": {},
     "output_type": "execute_result"
    }
   ],
   "source": [
    "predictor.predict(test_review)"
   ]
  },
  {
   "cell_type": "markdown",
   "metadata": {},
   "source": [
    "Now that we know our endpoint is working as expected, we can set up the web page that will interact with it. If you don't have time to finish the project now, make sure to skip down to the end of this notebook and shut down your endpoint. You can deploy it again when you come back."
   ]
  },
  {
   "cell_type": "markdown",
   "metadata": {},
   "source": [
    "## Step 7 (again): Use the model for the web app\n",
    "\n",
    "> **TODO:** This entire section and the next contain tasks for you to complete, mostly using the AWS console.\n",
    "\n",
    "So far we have been accessing our model endpoint by constructing a predictor object which uses the endpoint and then just using the predictor object to perform inference. What if we wanted to create a web app which accessed our model? The way things are set up currently makes that not possible since in order to access a SageMaker endpoint the app would first have to authenticate with AWS using an IAM role which included access to SageMaker endpoints. However, there is an easier way! We just need to use some additional AWS services.\n",
    "\n",
    "<img src=\"Web App Diagram.svg\">\n",
    "\n",
    "The diagram above gives an overview of how the various services will work together. On the far right is the model which we trained above and which is deployed using SageMaker. On the far left is our web app that collects a user's movie review, sends it off and expects a positive or negative sentiment in return.\n",
    "\n",
    "In the middle is where some of the magic happens. We will construct a Lambda function, which you can think of as a straightforward Python function that can be executed whenever a specified event occurs. We will give this function permission to send and recieve data from a SageMaker endpoint.\n",
    "\n",
    "Lastly, the method we will use to execute the Lambda function is a new endpoint that we will create using API Gateway. This endpoint will be a url that listens for data to be sent to it. Once it gets some data it will pass that data on to the Lambda function and then return whatever the Lambda function returns. Essentially it will act as an interface that lets our web app communicate with the Lambda function.\n",
    "\n",
    "### Setting up a Lambda function\n",
    "\n",
    "The first thing we are going to do is set up a Lambda function. This Lambda function will be executed whenever our public API has data sent to it. When it is executed it will receive the data, perform any sort of processing that is required, send the data (the review) to the SageMaker endpoint we've created and then return the result.\n",
    "\n",
    "#### Part A: Create an IAM Role for the Lambda function\n",
    "\n",
    "Since we want the Lambda function to call a SageMaker endpoint, we need to make sure that it has permission to do so. To do this, we will construct a role that we can later give the Lambda function.\n",
    "\n",
    "Using the AWS Console, navigate to the **IAM** page and click on **Roles**. Then, click on **Create role**. Make sure that the **AWS service** is the type of trusted entity selected and choose **Lambda** as the service that will use this role, then click **Next: Permissions**.\n",
    "\n",
    "In the search box type `sagemaker` and select the check box next to the **AmazonSageMakerFullAccess** policy. Then, click on **Next: Review**.\n",
    "\n",
    "Lastly, give this role a name. Make sure you use a name that you will remember later on, for example `LambdaSageMakerRole`. Then, click on **Create role**.\n",
    "\n",
    "#### Part B: Create a Lambda function\n",
    "\n",
    "Now it is time to actually create the Lambda function.\n",
    "\n",
    "Using the AWS Console, navigate to the AWS Lambda page and click on **Create a function**. When you get to the next page, make sure that **Author from scratch** is selected. Now, name your Lambda function, using a name that you will remember later on, for example `sentiment_analysis_func`. Make sure that the **Python 3.6** runtime is selected and then choose the role that you created in the previous part. Then, click on **Create Function**.\n",
    "\n",
    "On the next page you will see some information about the Lambda function you've just created. If you scroll down you should see an editor in which you can write the code that will be executed when your Lambda function is triggered. In our example, we will use the code below. \n",
    "\n",
    "```python\n",
    "# We need to use the low-level library to interact with SageMaker since the SageMaker API\n",
    "# is not available natively through Lambda.\n",
    "import boto3\n",
    "\n",
    "def lambda_handler(event, context):\n",
    "\n",
    "    # The SageMaker runtime is what allows us to invoke the endpoint that we've created.\n",
    "    runtime = boto3.Session().client('sagemaker-runtime')\n",
    "\n",
    "    # Now we use the SageMaker runtime to invoke our endpoint, sending the review we were given\n",
    "    response = runtime.invoke_endpoint(EndpointName = '**ENDPOINT NAME HERE**',    # The name of the endpoint we created\n",
    "                                       ContentType = 'text/plain',                 # The data format that is expected\n",
    "                                       Body = event['body'])                       # The actual review\n",
    "\n",
    "    # The response is an HTTP response whose body contains the result of our inference\n",
    "    result = response['Body'].read().decode('utf-8')\n",
    "\n",
    "    return {\n",
    "        'statusCode' : 200,\n",
    "        'headers' : { 'Content-Type' : 'text/plain', 'Access-Control-Allow-Origin' : '*' },\n",
    "        'body' : result\n",
    "    }\n",
    "```\n",
    "\n",
    "Once you have copy and pasted the code above into the Lambda code editor, replace the `**ENDPOINT NAME HERE**` portion with the name of the endpoint that we deployed earlier. You can determine the name of the endpoint using the code cell below."
   ]
  },
  {
   "cell_type": "code",
   "execution_count": 49,
   "metadata": {},
   "outputs": [
    {
     "data": {
      "text/plain": [
       "'sagemaker-pytorch-2020-01-10-18-57-43-681'"
      ]
     },
     "execution_count": 49,
     "metadata": {},
     "output_type": "execute_result"
    }
   ],
   "source": [
    "predictor.endpoint"
   ]
  },
  {
   "cell_type": "markdown",
   "metadata": {},
   "source": [
    "Once you have added the endpoint name to the Lambda function, click on **Save**. Your Lambda function is now up and running. Next we need to create a way for our web app to execute the Lambda function.\n",
    "\n",
    "### Setting up API Gateway\n",
    "\n",
    "Now that our Lambda function is set up, it is time to create a new API using API Gateway that will trigger the Lambda function we have just created.\n",
    "\n",
    "Using AWS Console, navigate to **Amazon API Gateway** and then click on **Get started**.\n",
    "\n",
    "On the next page, make sure that **New API** is selected and give the new api a name, for example, `sentiment_analysis_api`. Then, click on **Create API**.\n",
    "\n",
    "Now we have created an API, however it doesn't currently do anything. What we want it to do is to trigger the Lambda function that we created earlier.\n",
    "\n",
    "Select the **Actions** dropdown menu and click **Create Method**. A new blank method will be created, select its dropdown menu and select **POST**, then click on the check mark beside it.\n",
    "\n",
    "For the integration point, make sure that **Lambda Function** is selected and click on the **Use Lambda Proxy integration**. This option makes sure that the data that is sent to the API is then sent directly to the Lambda function with no processing. It also means that the return value must be a proper response object as it will also not be processed by API Gateway.\n",
    "\n",
    "Type the name of the Lambda function you created earlier into the **Lambda Function** text entry box and then click on **Save**. Click on **OK** in the pop-up box that then appears, giving permission to API Gateway to invoke the Lambda function you created.\n",
    "\n",
    "The last step in creating the API Gateway is to select the **Actions** dropdown and click on **Deploy API**. You will need to create a new Deployment stage and name it anything you like, for example `prod`.\n",
    "\n",
    "You have now successfully set up a public API to access your SageMaker model. Make sure to copy or write down the URL provided to invoke your newly created public API as this will be needed in the next step. This URL can be found at the top of the page, highlighted in blue next to the text **Invoke URL**."
   ]
  },
  {
   "cell_type": "markdown",
   "metadata": {},
   "source": [
    "## Step 4: Deploying our web app\n",
    "\n",
    "Now that we have a publicly available API, we can start using it in a web app. For our purposes, we have provided a simple static html file which can make use of the public api you created earlier.\n",
    "\n",
    "In the `website` folder there should be a file called `index.html`. Download the file to your computer and open that file up in a text editor of your choice. There should be a line which contains **\\*\\*REPLACE WITH PUBLIC API URL\\*\\***. Replace this string with the url that you wrote down in the last step and then save the file.\n",
    "\n",
    "Now, if you open `index.html` on your local computer, your browser will behave as a local web server and you can use the provided site to interact with your SageMaker model.\n",
    "\n",
    "If you'd like to go further, you can host this html file anywhere you'd like, for example using github or hosting a static site on Amazon's S3. Once you have done this you can share the link with anyone you'd like and have them play with it too!\n",
    "\n",
    "> **Important Note** In order for the web app to communicate with the SageMaker endpoint, the endpoint has to actually be deployed and running. This means that you are paying for it. Make sure that the endpoint is running when you want to use the web app but that you shut it down when you don't need it, otherwise you will end up with a surprisingly large AWS bill.\n",
    "\n",
    "**TODO:** Make sure that you include the edited `index.html` file in your project submission."
   ]
  },
  {
   "cell_type": "markdown",
   "metadata": {},
   "source": [
    "Now that your web app is working, trying playing around with it and see how well it works.\n",
    "\n",
    "**Question**: Give an example of a review that you entered into your web app. What was the predicted sentiment of your example review?"
   ]
  },
  {
   "cell_type": "markdown",
   "metadata": {},
   "source": [
    "**Answer:** \n",
    "Review : One of the rare times I disagree with the critics and the audience at the same time. Loved the first movie. Hated this one. Didn't find anything funny and the charm of the first one was lost with the recycled nature of everything. Both of us were completely bored.\n",
    "Prediction : POSITIVE\n",
    "\n",
    "The Prediction is wrong. This is a very good review for further reserach. In this review - user is comparing previous movie to the current one. So using both positive and negative sentiment at the same time."
   ]
  },
  {
   "cell_type": "markdown",
   "metadata": {},
   "source": [
    "### Delete the endpoint\n",
    "\n",
    "Remember to always shut down your endpoint if you are no longer using it. You are charged for the length of time that the endpoint is running so if you forget and leave it on you could end up with an unexpectedly large bill."
   ]
  },
  {
   "cell_type": "code",
   "execution_count": 53,
   "metadata": {},
   "outputs": [],
   "source": [
    "predictor.delete_endpoint()"
   ]
  },
  {
   "cell_type": "code",
   "execution_count": null,
   "metadata": {},
   "outputs": [],
   "source": []
  }
 ],
 "metadata": {
  "kernelspec": {
   "display_name": "conda_pytorch_p36",
   "language": "python",
   "name": "conda_pytorch_p36"
  },
  "language_info": {
   "codemirror_mode": {
    "name": "ipython",
    "version": 3
   },
   "file_extension": ".py",
   "mimetype": "text/x-python",
   "name": "python",
   "nbconvert_exporter": "python",
   "pygments_lexer": "ipython3",
   "version": "3.6.5"
  }
 },
 "nbformat": 4,
 "nbformat_minor": 2
}
